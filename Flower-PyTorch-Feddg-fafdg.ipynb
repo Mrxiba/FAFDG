{
 "cells": [
  {
   "cell_type": "markdown",
   "metadata": {
    "id": "ZmMONByVn5wP"
   },
   "source": [
    "# Get started with Flower\n",
    "\n",
    "Welcome to the Flower federated learning tutorial!\n",
    "\n",
    "In this notebook, we'll build a federated learning system using Flower and PyTorch. In part 1, we use PyTorch for the model training pipeline and data loading. In part 2, we continue to federate the PyTorch-based pipeline using Flower.\n",
    "\n",
    "> [Star Flower on GitHub](https://github.com/adap/flower) ⭐️ and join the Flower community on Slack to connect, ask questions, and get help: [Join Slack](https://flower.dev/join-slack) 🌼 We'd love to hear from you in the `#introductions` channel! And if anything is unclear, head over to the `#questions` channel.\n",
    "\n",
    "Let's get stated!"
   ]
  },
  {
   "cell_type": "markdown",
   "metadata": {
    "id": "Db6jCVi_n5wS"
   },
   "source": [
    "## Step 0: Preparation\n",
    "\n",
    "Before we begin with any actual code, let's make sure that we have everything we need."
   ]
  },
  {
   "cell_type": "markdown",
   "metadata": {
    "id": "pQHfYnCSn5wT"
   },
   "source": [
    "### Installing dependencies\n",
    "\n",
    "Next, we install the necessary packages for PyTorch (`torch` and `torchvision`) and Flower (`flwr`):"
   ]
  },
  {
   "cell_type": "markdown",
   "metadata": {
    "id": "IxBR9CVpn5wU"
   },
   "source": [
    "Now that we have all dependencies installed, we can import everything we need for this tutorial:"
   ]
  },
  {
   "cell_type": "code",
   "execution_count": 31,
   "metadata": {},
   "outputs": [],
   "source": [
    "!pip install -q flwr[simulation] torch torchvision"
   ]
  },
  {
   "cell_type": "code",
   "execution_count": 13,
   "metadata": {
    "colab": {
     "base_uri": "https://localhost:8080/"
    },
    "executionInfo": {
     "elapsed": 209,
     "status": "ok",
     "timestamp": 1694352565161,
     "user": {
      "displayName": "you Tian",
      "userId": "02971195521295167389"
     },
     "user_tz": -60
    },
    "id": "uaLkqr71n5wU",
    "outputId": "5d50d942-86c4-476f-c383-ba37d3d157f4"
   },
   "outputs": [
    {
     "name": "stdout",
     "output_type": "stream",
     "text": [
      "Training on cuda using PyTorch 2.0.1+cu118 and Flower 1.5.0\n"
     ]
    }
   ],
   "source": [
    "from collections import OrderedDict\n",
    "from typing import Dict, List, Optional, Tuple\n",
    "\n",
    "import matplotlib.pyplot as plt\n",
    "import numpy as np\n",
    "import torch\n",
    "import torch.nn as nn\n",
    "import torch.nn.functional as F\n",
    "import torchvision\n",
    "import torchvision.transforms as transforms\n",
    "from torch.utils.data import DataLoader, random_split\n",
    "from torchvision.datasets import CIFAR10\n",
    "\n",
    "import flwr as fl\n",
    "from flwr.common import Metrics\n",
    "\n",
    "DEVICE = torch.device(\"cuda\")  # Try \"cuda\" to train on GPU\n",
    "print(\n",
    "    f\"Training on {DEVICE} using PyTorch {torch.__version__} and Flower {fl.__version__}\"\n",
    ")"
   ]
  },
  {
   "cell_type": "markdown",
   "metadata": {
    "id": "EV-r-ugdn5wV"
   },
   "source": [
    "It is possible to switch to a runtime that has GPU acceleration enabled (on Google Colab: `Runtime > Change runtime type > Hardware acclerator: GPU > Save`). Note, however, that Google Colab is not always able to offer GPU acceleration. If you see an error related to GPU availability in one of the following sections, consider switching back to CPU-based execution by setting `DEVICE = torch.device(\"cpu\")`. If the runtime has GPU acceleration enabled, you should see the output `Training on cuda`, otherwise it'll say `Training on cpu`."
   ]
  },
  {
   "cell_type": "markdown",
   "metadata": {
    "id": "cc_0IfPSn5wV"
   },
   "source": [
    "\n",
    "### Loading the data\n",
    "\n",
    "Federated learning can be applied to many different types of tasks across different domains. In this tutorial, we introduce federated learning by training a simple convolutional neural network (CNN) on the popular CIFAR-10 dataset. CIFAR-10 can be used to train image classifiers that distinguish between images from ten different classes:"
   ]
  },
  {
   "cell_type": "code",
   "execution_count": 14,
   "metadata": {
    "executionInfo": {
     "elapsed": 194,
     "status": "ok",
     "timestamp": 1694352567577,
     "user": {
      "displayName": "you Tian",
      "userId": "02971195521295167389"
     },
     "user_tz": -60
    },
    "id": "E1Sco8l-n5wV"
   },
   "outputs": [],
   "source": [
    "CLASSES = classes = ('0', '1', '2', '3',\n",
    "           '4', '5', '6', '7', '8', '9')"
   ]
  },
  {
   "cell_type": "markdown",
   "metadata": {
    "id": "YtZn6vpVn5wW"
   },
   "source": [
    "We simulate having multiple datasets from multiple organizations (also called the \"cross-silo\" setting in federated learning) by splitting the original CIFAR-10 dataset into multiple partitions. Each partition will represent the data from a single organization. We're doing this purely for experimentation purposes, in the real world there's no need for data splitting because each organization already has their own data (so the data is naturally partitioned).\n",
    "\n",
    "Each organization will act as a client in the federated learning system. So having ten organizations participate in a federation means having ten clients connected to the federated learning server:\n"
   ]
  },
  {
   "cell_type": "markdown",
   "metadata": {
    "id": "BlZwFQ0On5wW"
   },
   "source": [
    "\n",
    "Let's now load the CIFAR-10 training and test set, partition them into ten smaller datasets (each split into training and validation set), and wrap the resulting partitions by creating a PyTorch `DataLoader` for each of them:"
   ]
  },
  {
   "cell_type": "code",
   "execution_count": 15,
   "metadata": {
    "executionInfo": {
     "elapsed": 758,
     "status": "ok",
     "timestamp": 1694352574474,
     "user": {
      "displayName": "you Tian",
      "userId": "02971195521295167389"
     },
     "user_tz": -60
    },
    "id": "nFzLTz8Pn5wW"
   },
   "outputs": [],
   "source": [
    "NUM_CLIENTS = 4\n",
    "BATCH_SIZE = batch_size = 32\n",
    "ngpu = 1\n",
    "image_size = 32\n",
    "dataroot_mn = \"/home/ubuntu/Datasets/dg5/mnist\"\n",
    "dataroot_mm = \"/home/ubuntu/Datasets/dg5/mnist_m\"\n",
    "dataroot_usps = \"/home/ubuntu/Datasets/dg5/usps\"\n",
    "dataroot_syn = \"/home/ubuntu/Datasets/dg5/syn\"\n",
    "dataroot_svhn = \"/home/ubuntu/Datasets/dg5/svhn\"\n",
    "\n",
    "dataaaugm_mn = \"/home/ubuntu/GAN/mnGAN/mnist_generated\"\n",
    "dataaaugm_mm = \"/home/ubuntu/GAN/mmGAN/mm_generated\"\n",
    "dataaaugm_usps = \"/home/ubuntu/GAN/uspsGAN/usps_generated\"\n",
    "dataaaugm_syn = \"/home/ubuntu/GAN/synGAN/syn_generated\"\n",
    "dataaaugm_svhn = \"/home/ubuntu/GAN/svhnGAN/svhn_generated\"\n",
    "\n",
    "dataroot_test = \"/home/ubuntu/Datasets/dg5/mnist\"\n",
    "\n",
    "\n",
    "\n",
    "def load_datasets():\n",
    "    # transform SYN,svhn,usps,mm,mn to 32x32 (train and test)\n",
    "\n",
    "    transform = transforms.Compose([\n",
    "        transforms.Resize(image_size),\n",
    "        transforms.CenterCrop(image_size),\n",
    "        transforms.ToTensor(),\n",
    "        transforms.Normalize((0.5, 0.5, 0.5), (0.5, 0.5, 0.5))])\n",
    "            \n",
    "    trainset_mn = torchvision.datasets.ImageFolder(root=dataroot_mn, transform=transform)\n",
    "    trainset_mm = torchvision.datasets.ImageFolder(root=dataroot_mm, transform=transform)\n",
    "    trainset_usps = torchvision.datasets.ImageFolder(root=dataroot_usps, transform=transform)\n",
    "    trainset_syn = torchvision.datasets.ImageFolder(root=dataroot_syn, transform=transform)\n",
    "    trainset_svhn = torchvision.datasets.ImageFolder(root=dataroot_svhn, transform=transform)###origional datasets\n",
    "\n",
    "    #genset1 = torchvision.datasets.ImageFolder(root=dataaaugm_mn, transform=transform)\n",
    "    genset2 = torchvision.datasets.ImageFolder(root=dataaaugm_mm, transform=transform)\n",
    "    #genset3 = torchvision.datasets.ImageFolder(root=dataaaugm_usps, transform=transform)###generated datasets base on GAD\n",
    "     \n",
    "    #aug_mn = torch.utils.data.ConcatDataset([trainset_mn, genset1])\n",
    "    aug_mm = torch.utils.data.ConcatDataset([trainset_mm, genset2])\n",
    "    aug_usps = torch.utils.data.ConcatDataset([trainset_usps, genset2])\n",
    "    aug_syn = torch.utils.data.ConcatDataset([trainset_syn, genset2])\n",
    "    aug_svhn = torch.utils.data.ConcatDataset([trainset_svhn, genset2])###augmentated dataset on origional datasets===============================\n",
    "\n",
    "    \n",
    "    testset = torchvision.datasets.ImageFolder(root=dataroot_test, transform=transform)\n",
    "\n",
    "    # Split training set into 4 partitions to simulate the individual dataset\n",
    "    datasets = [aug_mm,aug_usps,aug_syn,aug_svhn]#=================================\n",
    "\n",
    "    # Split each partition into train/val and create DataLoader\n",
    "    trainloaders = []\n",
    "    valloaders = []\n",
    "    for ds in datasets:\n",
    "        len_val = len(ds) // 10  # 10 % validation set\n",
    "        len_train = len(ds) - len_val\n",
    "        lengths = [len_train, len_val]\n",
    "        ds_train, ds_val = random_split(ds, lengths, torch.Generator().manual_seed(42))\n",
    "        trainloaders.append(DataLoader(ds_train, batch_size=BATCH_SIZE, shuffle=True))\n",
    "        valloaders.append(DataLoader(ds_val, batch_size=BATCH_SIZE))\n",
    "    testloader = DataLoader(testset, batch_size=BATCH_SIZE)\n",
    "    return trainloaders, valloaders, testloader\n",
    "\n",
    "\n",
    "trainloaders, valloaders, testloader = load_datasets()"
   ]
  },
  {
   "cell_type": "markdown",
   "metadata": {
    "id": "rKFoeprOn5wX"
   },
   "source": [
    "We now have a list of ten training sets and ten validation sets (`trainloaders` and `valloaders`) representing the data of ten different organizations. Each `trainloader`/`valloader` pair contains 4500 training examples and 500 validation examples. There's also a single `testloader` (we did not split the test set). Again, this is only necessary for building research or educational systems, actual federated learning systems have their data naturally distributed across multiple partitions.\n",
    "\n",
    "Let's take a look at the first batch of images and labels in the first training set (i.e., `trainloaders[0]`) before we move on:"
   ]
  },
  {
   "cell_type": "code",
   "execution_count": 16,
   "metadata": {
    "colab": {
     "base_uri": "https://localhost:8080/",
     "height": 607
    },
    "executionInfo": {
     "elapsed": 2242,
     "status": "ok",
     "timestamp": 1694352676884,
     "user": {
      "displayName": "you Tian",
      "userId": "02971195521295167389"
     },
     "user_tz": -60
    },
    "id": "fAfHWwDKn5wX",
    "outputId": "c77c130f-a644-4c76-f3f2-a59b21d0eade"
   },
   "outputs": [
    {
     "data": {
      "image/png": "[encoded data removed]",
      "text/plain": [
       "<Figure size 1200x600 with 32 Axes>"
      ]
     },
     "metadata": {},
     "output_type": "display_data"
    }
   ],
   "source": [
    "images, labels = next(iter(trainloaders[1]))\n",
    "\n",
    "# Reshape and convert images to a NumPy array\n",
    "# matplotlib requires images with the shape (height, width, 3)\n",
    "images = images.permute(0, 2, 3, 1).numpy()\n",
    "# Denormalize\n",
    "images = images / 2 + 0.5\n",
    "\n",
    "# Create a figure and a grid of subplots\n",
    "fig, axs = plt.subplots(4, 8, figsize=(12, 6))\n",
    "\n",
    "# Loop over the images and plot them\n",
    "for i, ax in enumerate(axs.flat):\n",
    "    ax.imshow(images[i])\n",
    "    ax.set_title(CLASSES[labels[i]])\n",
    "    ax.axis(\"off\")\n",
    "\n",
    "# Show the plot\n",
    "fig.tight_layout()\n",
    "plt.show()"
   ]
  },
  {
   "cell_type": "markdown",
   "metadata": {
    "id": "_3zXAVoEn5wX"
   },
   "source": [
    "The output above shows a random batch of images from the first `trainloader` in our list of ten `trainloaders`. It also prints the labels associated with each image (i.e., one of the ten possible labels we've seen above). If you run the cell again, you should see another batch of images."
   ]
  },
  {
   "cell_type": "markdown",
   "metadata": {
    "id": "Fh6H-nrcn5wX"
   },
   "source": [
    "Next, we're going to use PyTorch to define a simple convolutional neural network. This introduction assumes basic familiarity with PyTorch, so it doesn't cover the PyTorch-related aspects in full detail. If you want to dive deeper into PyTorch, we recommend [*DEEP LEARNING WITH PYTORCH: A 60 MINUTE BLITZ*](https://pytorch.org/tutorials/beginner/deep_learning_60min_blitz.html).\n"
   ]
  },
  {
   "cell_type": "markdown",
   "metadata": {
    "id": "vJForZjmn5wX"
   },
   "source": [
    "### Defining the model\n",
    "\n",
    "We use the simple CNN described in the [PyTorch tutorial](https://pytorch.org/tutorials/beginner/blitz/cifar10_tutorial.html#define-a-convolutional-neural-network):"
   ]
  },
  {
   "cell_type": "code",
   "execution_count": 17,
   "metadata": {},
   "outputs": [],
   "source": [
    "class Net(nn.Module):\n",
    "    def __init__(self) -> None:\n",
    "        super(Net, self).__init__()\n",
    "        self.conv1 = nn.Conv2d(3, 6, 5)\n",
    "        self.pool = nn.MaxPool2d(2, 2)\n",
    "        self.conv2 = nn.Conv2d(6, 16, 5)\n",
    "        self.fc1 = nn.Linear(16 * 5 * 5, 120)\n",
    "        self.fc2 = nn.Linear(120, 84)\n",
    "        self.fc3 = nn.Linear(84, 10)\n",
    "\n",
    "    def forward(self, x: torch.Tensor) -> torch.Tensor:\n",
    "        x = self.pool(F.relu(self.conv1(x)))\n",
    "        x = self.pool(F.relu(self.conv2(x)))\n",
    "        x = x.view(-1, 16 * 5 * 5)\n",
    "        x = F.relu(self.fc1(x))\n",
    "        x = F.relu(self.fc2(x))\n",
    "        x = self.fc3(x)\n",
    "        return x"
   ]
  },
  {
   "cell_type": "code",
   "execution_count": 18,
   "metadata": {
    "executionInfo": {
     "elapsed": 207,
     "status": "ok",
     "timestamp": 1694352694911,
     "user": {
      "displayName": "you Tian",
      "userId": "02971195521295167389"
     },
     "user_tz": -60
    },
    "id": "C36dBUnfn5wY"
   },
   "outputs": [],
   "source": [
    "def get_parameters(net) -> List[np.ndarray]:\n",
    "    return [val.cpu().numpy() for _, val in net.state_dict().items()]\n",
    "\n",
    "\n",
    "def set_parameters(net, parameters: List[np.ndarray]):\n",
    "    params_dict = zip(net.state_dict().keys(), parameters)\n",
    "    state_dict = OrderedDict({k: torch.Tensor(v) for k, v in params_dict})\n",
    "    net.load_state_dict(state_dict, strict=True)\n",
    "\n",
    "\n",
    "def train(net, trainloader, epochs: int):\n",
    "    \"\"\"Train the network on the training set.\"\"\"\n",
    "    criterion = torch.nn.CrossEntropyLoss()\n",
    "    optimizer = torch.optim.Adam(net.parameters())\n",
    "    net.train()\n",
    "    for epoch in range(epochs):\n",
    "        correct, total, epoch_loss = 0, 0, 0.0\n",
    "        for images, labels in trainloader:\n",
    "            images, labels = images.to(DEVICE), labels.to(DEVICE)\n",
    "            optimizer.zero_grad()\n",
    "            outputs = net(images)\n",
    "            loss = criterion(net(images), labels)\n",
    "            loss.backward()\n",
    "            optimizer.step()\n",
    "            # Metrics\n",
    "            epoch_loss += loss\n",
    "            total += labels.size(0)\n",
    "            correct += (torch.max(outputs.data, 1)[1] == labels).sum().item()\n",
    "        epoch_loss /= len(trainloader.dataset)\n",
    "        epoch_acc = correct / total\n",
    "        print(f\"Epoch {epoch+1}: train loss {epoch_loss}, accuracy {epoch_acc}\")\n",
    "\n",
    "\n",
    "def test(net, testloader):\n",
    "    \"\"\"Evaluate the network on the entire test set.\"\"\"\n",
    "    criterion = torch.nn.CrossEntropyLoss()\n",
    "    correct, total, loss = 0, 0, 0.0\n",
    "    net.eval()\n",
    "    with torch.no_grad():\n",
    "        for images, labels in testloader:\n",
    "            images, labels = images.to(DEVICE), labels.to(DEVICE)\n",
    "            outputs = net(images)\n",
    "            loss += criterion(outputs, labels).item()\n",
    "            _, predicted = torch.max(outputs.data, 1)\n",
    "            total += labels.size(0)\n",
    "            correct += (predicted == labels).sum().item()\n",
    "    loss /= len(testloader.dataset)\n",
    "    accuracy = correct / total\n",
    "    return loss, accuracy"
   ]
  },
  {
   "cell_type": "markdown",
   "metadata": {
    "id": "gG_OGPVDn5wZ"
   },
   "source": [
    "Training the simple CNN on our CIFAR-10 split for 5 epochs should result in a test set accuracy of about 41%, which is not good, but at the same time, it doesn't really matter for the purposes of this tutorial. The intent was just to show a simplistic centralized training pipeline that sets the stage for what comes next - federated learning!"
   ]
  },
  {
   "cell_type": "markdown",
   "metadata": {
    "id": "yXkuKeeHn5wa"
   },
   "source": [
    "### Implementing a Flower client\n",
    "\n",
    "With that out of the way, let's move on to the interesting part. Federated learning systems consist of a server and multiple clients. In Flower, we create clients by implementing subclasses of `flwr.client.Client` or `flwr.client.NumPyClient`. We use `NumPyClient` in this tutorial because it is easier to implement and requires us to write less boilerplate.\n",
    "\n",
    "To implement the Flower client, we create a subclass of `flwr.client.NumPyClient` and implement the three methods `get_parameters`, `fit`, and `evaluate`:\n",
    "\n",
    "* `get_parameters`: Return the current local model parameters\n",
    "* `fit`: Receive model parameters from the server, train the model parameters on the local data, and return the (updated) model parameters to the server\n",
    "* `evaluate`: Receive model parameters from the server, evaluate the model parameters on the local data, and return the evaluation result to the server\n",
    "\n",
    "We mentioned that our clients will use the previously defined PyTorch components for model training and evaluation. Let's see a simple Flower client implementation that brings everything together:"
   ]
  },
  {
   "cell_type": "code",
   "execution_count": 19,
   "metadata": {},
   "outputs": [],
   "source": [
    "class FlowerClient(fl.client.NumPyClient):\n",
    "    def __init__(self, cid, net, trainloader, valloader):\n",
    "        self.cid = cid\n",
    "        self.net = net\n",
    "        self.trainloader = trainloader\n",
    "        self.valloader = valloader\n",
    "\n",
    "    def get_parameters(self, config):\n",
    "        print(f\"[Client {self.cid}] get_parameters\")\n",
    "        return get_parameters(self.net)\n",
    "\n",
    "    def fit(self, parameters, config):\n",
    "\n",
    "        # Read values from config\n",
    "        server_round = config[\"server_round\"]\n",
    "        local_epochs = config[\"local_epochs\"]\n",
    "        # Use values provided by the config\n",
    "        print(f\"[Client {self.cid}] fit, config: {config}\")\n",
    "        set_parameters(self.net, parameters)\n",
    "        train(self.net, self.trainloader, epochs=1)\n",
    "        return get_parameters(self.net), len(self.trainloader), {}\n",
    "\n",
    "    def evaluate(self, parameters, config):\n",
    "        print(f\"[Client {self.cid}] evaluate, config: {config}\")\n",
    "        set_parameters(self.net, parameters)\n",
    "        loss, accuracy = test(self.net, self.valloader)\n",
    "        return float(loss), len(self.valloader), {\"accuracy\": float(accuracy)}\n",
    "\n",
    "\n",
    "def client_fn(cid) -> FlowerClient:\n",
    "    net = Net().to(DEVICE)\n",
    "    trainloader = trainloaders[int(cid)]\n",
    "    valloader = valloaders[int(cid)]\n",
    "    return FlowerClient(cid, net, trainloader, valloader)\n",
    "\n",
    "def fit_config(server_round: int):\n",
    "    \"\"\"Return training configuration dict for each round.\n",
    "    Perform 4 rounds of training with 30 local epoch.\n",
    "    \"\"\"\n",
    "    config = {\n",
    "        \"server_round\": server_round,  # The current round of federated learning，just display.\n",
    "        \"local_epochs\": 20,  #######\n",
    "    }\n",
    "    return config"
   ]
  },
  {
   "cell_type": "markdown",
   "metadata": {
    "id": "6cF2J0b0n5wa"
   },
   "source": [
    "Our class `FlowerClient` defines how local training/evaluation will be performed and allows Flower to call the local training/evaluation through `fit` and `evaluate`. Each instance of `FlowerClient` represents a *single client* in our federated learning system. Federated learning systems have multiple clients (otherwise, there's not much to federate), so each client will be represented by its own instance of `FlowerClient`. If we have, for example, three clients in our workload, then we'd have three instances of `FlowerClient`. Flower calls `FlowerClient.fit` on the respective instance when the server selects a particular client for training (and `FlowerClient.evaluate` for evaluation).\n",
    "\n",
    "### Using the Virtual Client Engine\n",
    "\n",
    "In this notebook, we want to simulate a federated learning system with 10 clients on a single machine. This means that the server and all 10 clients will live on a single machine and share resources such as CPU, GPU, and memory. Having 10 clients would mean having 10 instances of `FlowerClient` in memory. Doing this on a single machine can quickly exhaust the available memory resources, even if only a subset of these clients participates in a single round of federated learning.\n",
    "\n",
    "In addition to the regular capabilities where server and clients run on multiple machines, Flower, therefore, provides special simulation capabilities that create `FlowerClient` instances only when they are actually necessary for training or evaluation. To enable the Flower framework to create clients when necessary, we need to implement a function called `client_fn` that creates a `FlowerClient` instance on demand. Flower calls `client_fn` whenever it needs an instance of one particular client to call `fit` or `evaluate` (those instances are usually discarded after use, so they should not keep any local state). Clients are identified by a client ID, or short `cid`. The `cid` can be used, for example, to load different local data partitions for different clients, as can be seen below:"
   ]
  },
  {
   "cell_type": "code",
   "execution_count": 20,
   "metadata": {},
   "outputs": [],
   "source": [
    "# The `evaluate` function will be by Flower called after every round\n",
    "def generalize(\n",
    "    server_round: int,\n",
    "    parameters: fl.common.NDArrays,\n",
    "    config: Dict[str, fl.common.Scalar],\n",
    ") -> Optional[Tuple[float, Dict[str, fl.common.Scalar]]]:\n",
    "    net = Net().to(DEVICE)\n",
    "    set_parameters(net, parameters)  # Update model with the latest parameters\n",
    "    loss, accuracy = test(net, testloader)\n",
    "    print(f\"Server-side unseen generalization loss {loss} / generalization accuracy {accuracy}\")\n",
    "    return loss, {\"generalization accuracy\": accuracy}"
   ]
  },
  {
   "cell_type": "code",
   "execution_count": 21,
   "metadata": {},
   "outputs": [
    {
     "name": "stderr",
     "output_type": "stream",
     "text": [
      "INFO flwr 2023-09-14 22:10:27,366 | app.py:175 | Starting Flower simulation, config: ServerConfig(num_rounds=10, round_timeout=None)\n",
      "2023-09-14 22:10:31,310\tINFO worker.py:1621 -- Started a local Ray instance.\n",
      "INFO flwr 2023-09-14 22:10:32,545 | app.py:210 | Flower VCE: Ray initialized with resources: {'memory': 8882574951.0, 'GPU': 1.0, 'CPU': 4.0, 'accelerator_type:A30': 1.0, 'node:10.68.107.147': 1.0, 'node:__internal_head__': 1.0, 'object_store_memory': 4441287475.0}\n",
      "INFO flwr 2023-09-14 22:10:32,546 | app.py:224 | Flower VCE: Resources for each Virtual Client: {'num_gpus': 1, 'num_cpus': 1}\n",
      "INFO flwr 2023-09-14 22:10:32,559 | app.py:270 | Flower VCE: Creating VirtualClientEngineActorPool with 1 actors\n",
      "INFO flwr 2023-09-14 22:10:32,560 | server.py:89 | Initializing global parameters\n",
      "INFO flwr 2023-09-14 22:10:32,561 | server.py:272 | Using initial parameters provided by strategy\n",
      "INFO flwr 2023-09-14 22:10:32,563 | server.py:91 | Evaluating initial parameters\n",
      "INFO flwr 2023-09-14 22:10:51,984 | server.py:94 | initial parameters (loss, other metrics): 0.07195922018335842, {'generalization accuracy': 0.10227290478794032}\n",
      "INFO flwr 2023-09-14 22:10:51,986 | server.py:104 | FL starting\n",
      "DEBUG flwr 2023-09-14 22:10:51,987 | server.py:222 | fit_round 1: strategy sampled 4 clients (out of 4)\n"
     ]
    },
    {
     "name": "stdout",
     "output_type": "stream",
     "text": [
      "Server-side unseen generalization loss 0.07195922018335842 / generalization accuracy 0.10227290478794032\n",
      "\u001b[2m\u001b[36m(DefaultActor pid=2637349)\u001b[0m [Client 1] fit, config: {'server_round': 1, 'local_epochs': 20}\n",
      "\u001b[2m\u001b[36m(DefaultActor pid=2637349)\u001b[0m Epoch 1: train loss 0.01690526306629181, accuracy 0.8193038095602002\n",
      "\u001b[2m\u001b[36m(DefaultActor pid=2637349)\u001b[0m [Client 0] fit, config: {'server_round': 1, 'local_epochs': 20}\n",
      "\u001b[2m\u001b[36m(DefaultActor pid=2637349)\u001b[0m Epoch 1: train loss 0.017767420038580894, accuracy 0.817163488242918\n",
      "\u001b[2m\u001b[36m(DefaultActor pid=2637349)\u001b[0m [Client 2] fit, config: {'server_round': 1, 'local_epochs': 20}\n",
      "\u001b[2m\u001b[36m(DefaultActor pid=2637349)\u001b[0m Epoch 1: train loss 0.02243056520819664, accuracy 0.7648425724334282\n",
      "\u001b[2m\u001b[36m(DefaultActor pid=2637349)\u001b[0m [Client 3] fit, config: {'server_round': 1, 'local_epochs': 20}\n"
     ]
    },
    {
     "name": "stderr",
     "output_type": "stream",
     "text": [
      "DEBUG flwr 2023-09-14 22:12:26,818 | server.py:236 | fit_round 1 received 4 results and 0 failures\n",
      "WARNING flwr 2023-09-14 22:12:26,832 | fedavg.py:242 | No fit_metrics_aggregation_fn provided\n"
     ]
    },
    {
     "name": "stdout",
     "output_type": "stream",
     "text": [
      "\u001b[2m\u001b[36m(DefaultActor pid=2637349)\u001b[0m Epoch 1: train loss 0.02358565293252468, accuracy 0.7582863692807336\n"
     ]
    },
    {
     "name": "stderr",
     "output_type": "stream",
     "text": [
      "INFO flwr 2023-09-14 22:12:46,257 | server.py:125 | fit progress: (1, 0.026679872010797342, {'generalization accuracy': 0.6995547918456612}, 114.2702227095142)\n",
      "DEBUG flwr 2023-09-14 22:12:46,257 | server.py:173 | evaluate_round 1: strategy sampled 4 clients (out of 4)\n"
     ]
    },
    {
     "name": "stdout",
     "output_type": "stream",
     "text": [
      "Server-side unseen generalization loss 0.026679872010797342 / generalization accuracy 0.6995547918456612\n",
      "\u001b[2m\u001b[36m(DefaultActor pid=2637349)\u001b[0m [Client 2] evaluate, config: {}\n",
      "\u001b[2m\u001b[36m(DefaultActor pid=2637349)\u001b[0m [Client 0] evaluate, config: {}\n",
      "\u001b[2m\u001b[36m(DefaultActor pid=2637349)\u001b[0m [Client 3] evaluate, config: {}\n",
      "\u001b[2m\u001b[36m(DefaultActor pid=2637349)\u001b[0m [Client 1] evaluate, config: {}\n"
     ]
    },
    {
     "name": "stderr",
     "output_type": "stream",
     "text": [
      "DEBUG flwr 2023-09-14 22:12:57,325 | server.py:187 | evaluate_round 1 received 4 results and 0 failures\n",
      "WARNING flwr 2023-09-14 22:12:57,328 | fedavg.py:273 | No evaluate_metrics_aggregation_fn provided\n",
      "DEBUG flwr 2023-09-14 22:12:57,329 | server.py:222 | fit_round 2: strategy sampled 4 clients (out of 4)\n"
     ]
    },
    {
     "name": "stdout",
     "output_type": "stream",
     "text": [
      "\u001b[2m\u001b[36m(DefaultActor pid=2637349)\u001b[0m [Client 1] fit, config: {'server_round': 2, 'local_epochs': 20}\n",
      "\u001b[2m\u001b[36m(DefaultActor pid=2637349)\u001b[0m Epoch 1: train loss 0.00605346355587244, accuracy 0.9387107867486914\n",
      "\u001b[2m\u001b[36m(DefaultActor pid=2637349)\u001b[0m [Client 0] fit, config: {'server_round': 2, 'local_epochs': 20}\n",
      "\u001b[2m\u001b[36m(DefaultActor pid=2637349)\u001b[0m Epoch 1: train loss 0.011748310178518295, accuracy 0.8807760467638268\n",
      "\u001b[2m\u001b[36m(DefaultActor pid=2637349)\u001b[0m [Client 3] fit, config: {'server_round': 2, 'local_epochs': 20}\n",
      "\u001b[2m\u001b[36m(DefaultActor pid=2637349)\u001b[0m Epoch 1: train loss 0.015131516382098198, accuracy 0.8530041073646002\n",
      "\u001b[2m\u001b[36m(DefaultActor pid=2637349)\u001b[0m [Client 2] fit, config: {'server_round': 2, 'local_epochs': 20}\n"
     ]
    },
    {
     "name": "stderr",
     "output_type": "stream",
     "text": [
      "DEBUG flwr 2023-09-14 22:14:27,795 | server.py:236 | fit_round 2 received 4 results and 0 failures\n"
     ]
    },
    {
     "name": "stdout",
     "output_type": "stream",
     "text": [
      "\u001b[2m\u001b[36m(DefaultActor pid=2637349)\u001b[0m Epoch 1: train loss 0.012117101810872555, accuracy 0.8807360576117903\n"
     ]
    },
    {
     "name": "stderr",
     "output_type": "stream",
     "text": [
      "INFO flwr 2023-09-14 22:14:47,237 | server.py:125 | fit progress: (2, 0.0062620226853607585, {'generalization accuracy': 0.9417948918222292}, 235.25080716237426)\n",
      "DEBUG flwr 2023-09-14 22:14:47,239 | server.py:173 | evaluate_round 2: strategy sampled 4 clients (out of 4)\n"
     ]
    },
    {
     "name": "stdout",
     "output_type": "stream",
     "text": [
      "Server-side unseen generalization loss 0.0062620226853607585 / generalization accuracy 0.9417948918222292\n",
      "\u001b[2m\u001b[36m(DefaultActor pid=2637349)\u001b[0m [Client 2] evaluate, config: {}\n",
      "\u001b[2m\u001b[36m(DefaultActor pid=2637349)\u001b[0m [Client 1] evaluate, config: {}\n",
      "\u001b[2m\u001b[36m(DefaultActor pid=2637349)\u001b[0m [Client 3] evaluate, config: {}\n",
      "\u001b[2m\u001b[36m(DefaultActor pid=2637349)\u001b[0m [Client 0] evaluate, config: {}\n"
     ]
    },
    {
     "name": "stderr",
     "output_type": "stream",
     "text": [
      "DEBUG flwr 2023-09-14 22:14:58,352 | server.py:187 | evaluate_round 2 received 4 results and 0 failures\n",
      "DEBUG flwr 2023-09-14 22:14:58,354 | server.py:222 | fit_round 3: strategy sampled 4 clients (out of 4)\n"
     ]
    },
    {
     "name": "stdout",
     "output_type": "stream",
     "text": [
      "\u001b[2m\u001b[36m(DefaultActor pid=2637349)\u001b[0m [Client 3] fit, config: {'server_round': 3, 'local_epochs': 20}\n",
      "\u001b[2m\u001b[36m(DefaultActor pid=2637349)\u001b[0m Epoch 1: train loss 0.012306961230933666, accuracy 0.8804756901327729\n",
      "\u001b[2m\u001b[36m(DefaultActor pid=2637349)\u001b[0m [Client 1] fit, config: {'server_round': 3, 'local_epochs': 20}\n",
      "\u001b[2m\u001b[36m(DefaultActor pid=2637349)\u001b[0m Epoch 1: train loss 0.003293260233476758, accuracy 0.9673302510412288\n",
      "\u001b[2m\u001b[36m(DefaultActor pid=2637349)\u001b[0m [Client 2] fit, config: {'server_round': 3, 'local_epochs': 20}\n",
      "\u001b[2m\u001b[36m(DefaultActor pid=2637349)\u001b[0m Epoch 1: train loss 0.007992537692189217, accuracy 0.9222282699715291\n",
      "\u001b[2m\u001b[36m(DefaultActor pid=2637349)\u001b[0m [Client 0] fit, config: {'server_round': 3, 'local_epochs': 20}\n"
     ]
    },
    {
     "name": "stderr",
     "output_type": "stream",
     "text": [
      "DEBUG flwr 2023-09-14 22:16:33,491 | server.py:236 | fit_round 3 received 4 results and 0 failures\n"
     ]
    },
    {
     "name": "stdout",
     "output_type": "stream",
     "text": [
      "\u001b[2m\u001b[36m(DefaultActor pid=2637349)\u001b[0m Epoch 1: train loss 0.009885264560580254, accuracy 0.9001639907953554\n"
     ]
    },
    {
     "name": "stderr",
     "output_type": "stream",
     "text": [
      "INFO flwr 2023-09-14 22:16:52,249 | server.py:125 | fit progress: (3, 0.005678877877383055, {'generalization accuracy': 0.9526673435913457}, 360.26276213210076)\n",
      "DEBUG flwr 2023-09-14 22:16:52,250 | server.py:173 | evaluate_round 3: strategy sampled 4 clients (out of 4)\n"
     ]
    },
    {
     "name": "stdout",
     "output_type": "stream",
     "text": [
      "Server-side unseen generalization loss 0.005678877877383055 / generalization accuracy 0.9526673435913457\n",
      "\u001b[2m\u001b[36m(DefaultActor pid=2637349)\u001b[0m [Client 0] evaluate, config: {}\n",
      "\u001b[2m\u001b[36m(DefaultActor pid=2637349)\u001b[0m [Client 3] evaluate, config: {}\n",
      "\u001b[2m\u001b[36m(DefaultActor pid=2637349)\u001b[0m [Client 2] evaluate, config: {}\n",
      "\u001b[2m\u001b[36m(DefaultActor pid=2637349)\u001b[0m [Client 1] evaluate, config: {}\n"
     ]
    },
    {
     "name": "stderr",
     "output_type": "stream",
     "text": [
      "DEBUG flwr 2023-09-14 22:17:02,667 | server.py:187 | evaluate_round 3 received 4 results and 0 failures\n",
      "DEBUG flwr 2023-09-14 22:17:02,668 | server.py:222 | fit_round 4: strategy sampled 4 clients (out of 4)\n"
     ]
    },
    {
     "name": "stdout",
     "output_type": "stream",
     "text": [
      "\u001b[2m\u001b[36m(DefaultActor pid=2637349)\u001b[0m [Client 3] fit, config: {'server_round': 4, 'local_epochs': 20}\n",
      "\u001b[2m\u001b[36m(DefaultActor pid=2637349)\u001b[0m Epoch 1: train loss 0.010972991585731506, accuracy 0.8938294010889292\n",
      "\u001b[2m\u001b[36m(DefaultActor pid=2637349)\u001b[0m [Client 0] fit, config: {'server_round': 4, 'local_epochs': 20}\n",
      "\u001b[2m\u001b[36m(DefaultActor pid=2637349)\u001b[0m Epoch 1: train loss 0.00894781481474638, accuracy 0.9096463617848547\n",
      "\u001b[2m\u001b[36m(DefaultActor pid=2637349)\u001b[0m [Client 2] fit, config: {'server_round': 4, 'local_epochs': 20}\n",
      "\u001b[2m\u001b[36m(DefaultActor pid=2637349)\u001b[0m Epoch 1: train loss 0.0063992333598434925, accuracy 0.9370708424049573\n",
      "\u001b[2m\u001b[36m(DefaultActor pid=2637349)\u001b[0m [Client 1] fit, config: {'server_round': 4, 'local_epochs': 20}\n"
     ]
    },
    {
     "name": "stderr",
     "output_type": "stream",
     "text": [
      "DEBUG flwr 2023-09-14 22:18:41,490 | server.py:236 | fit_round 4 received 4 results and 0 failures\n"
     ]
    },
    {
     "name": "stdout",
     "output_type": "stream",
     "text": [
      "\u001b[2m\u001b[36m(DefaultActor pid=2637349)\u001b[0m Epoch 1: train loss 0.0024704919196665287, accuracy 0.9774177524741126\n"
     ]
    },
    {
     "name": "stderr",
     "output_type": "stream",
     "text": [
      "INFO flwr 2023-09-14 22:19:01,260 | server.py:125 | fit progress: (4, 0.005281350496680382, {'generalization accuracy': 0.9573849878934625}, 489.2735045840964)\n",
      "DEBUG flwr 2023-09-14 22:19:01,262 | server.py:173 | evaluate_round 4: strategy sampled 4 clients (out of 4)\n"
     ]
    },
    {
     "name": "stdout",
     "output_type": "stream",
     "text": [
      "Server-side unseen generalization loss 0.005281350496680382 / generalization accuracy 0.9573849878934625\n",
      "\u001b[2m\u001b[36m(DefaultActor pid=2637349)\u001b[0m [Client 3] evaluate, config: {}\n",
      "\u001b[2m\u001b[36m(DefaultActor pid=2637349)\u001b[0m [Client 1] evaluate, config: {}\n",
      "\u001b[2m\u001b[36m(DefaultActor pid=2637349)\u001b[0m [Client 0] evaluate, config: {}\n",
      "\u001b[2m\u001b[36m(DefaultActor pid=2637349)\u001b[0m [Client 2] evaluate, config: {}\n"
     ]
    },
    {
     "name": "stderr",
     "output_type": "stream",
     "text": [
      "DEBUG flwr 2023-09-14 22:19:11,659 | server.py:187 | evaluate_round 4 received 4 results and 0 failures\n",
      "DEBUG flwr 2023-09-14 22:19:11,661 | server.py:222 | fit_round 5: strategy sampled 4 clients (out of 4)\n"
     ]
    },
    {
     "name": "stdout",
     "output_type": "stream",
     "text": [
      "\u001b[2m\u001b[36m(DefaultActor pid=2637349)\u001b[0m [Client 3] fit, config: {'server_round': 5, 'local_epochs': 20}\n",
      "\u001b[2m\u001b[36m(DefaultActor pid=2637349)\u001b[0m Epoch 1: train loss 0.010126166976988316, accuracy 0.9017671219791766\n",
      "\u001b[2m\u001b[36m(DefaultActor pid=2637349)\u001b[0m [Client 1] fit, config: {'server_round': 5, 'local_epochs': 20}\n",
      "\u001b[2m\u001b[36m(DefaultActor pid=2637349)\u001b[0m Epoch 1: train loss 0.002115788869559765, accuracy 0.9797867869015322\n",
      "\u001b[2m\u001b[36m(DefaultActor pid=2637349)\u001b[0m [Client 2] fit, config: {'server_round': 5, 'local_epochs': 20}\n",
      "\u001b[2m\u001b[36m(DefaultActor pid=2637349)\u001b[0m Epoch 1: train loss 0.00554620660841465, accuracy 0.9459052085077876\n",
      "\u001b[2m\u001b[36m(DefaultActor pid=2637349)\u001b[0m [Client 0] fit, config: {'server_round': 5, 'local_epochs': 20}\n"
     ]
    },
    {
     "name": "stderr",
     "output_type": "stream",
     "text": [
      "DEBUG flwr 2023-09-14 22:20:50,558 | server.py:236 | fit_round 5 received 4 results and 0 failures\n"
     ]
    },
    {
     "name": "stdout",
     "output_type": "stream",
     "text": [
      "\u001b[2m\u001b[36m(DefaultActor pid=2637349)\u001b[0m Epoch 1: train loss 0.008326455019414425, accuracy 0.9142354590419763\n"
     ]
    },
    {
     "name": "stderr",
     "output_type": "stream",
     "text": [
      "INFO flwr 2023-09-14 22:21:12,011 | server.py:125 | fit progress: (5, 0.005809638104879498, {'generalization accuracy': 0.9569632117472467}, 620.0241323783994)\n",
      "DEBUG flwr 2023-09-14 22:21:12,013 | server.py:173 | evaluate_round 5: strategy sampled 4 clients (out of 4)\n"
     ]
    },
    {
     "name": "stdout",
     "output_type": "stream",
     "text": [
      "Server-side unseen generalization loss 0.005809638104879498 / generalization accuracy 0.9569632117472467\n",
      "\u001b[2m\u001b[36m(DefaultActor pid=2637349)\u001b[0m [Client 0] evaluate, config: {}\n",
      "\u001b[2m\u001b[36m(DefaultActor pid=2637349)\u001b[0m [Client 3] evaluate, config: {}\n",
      "\u001b[2m\u001b[36m(DefaultActor pid=2637349)\u001b[0m [Client 1] evaluate, config: {}\n",
      "\u001b[2m\u001b[36m(DefaultActor pid=2637349)\u001b[0m [Client 2] evaluate, config: {}\n"
     ]
    },
    {
     "name": "stderr",
     "output_type": "stream",
     "text": [
      "DEBUG flwr 2023-09-14 22:21:23,332 | server.py:187 | evaluate_round 5 received 4 results and 0 failures\n",
      "DEBUG flwr 2023-09-14 22:21:23,334 | server.py:222 | fit_round 6: strategy sampled 4 clients (out of 4)\n"
     ]
    },
    {
     "name": "stdout",
     "output_type": "stream",
     "text": [
      "\u001b[2m\u001b[36m(DefaultActor pid=2637349)\u001b[0m [Client 1] fit, config: {'server_round': 6, 'local_epochs': 20}\n",
      "\u001b[2m\u001b[36m(DefaultActor pid=2637349)\u001b[0m Epoch 1: train loss 0.0017824486130848527, accuracy 0.9824997134232547\n",
      "\u001b[2m\u001b[36m(DefaultActor pid=2637349)\u001b[0m [Client 0] fit, config: {'server_round': 6, 'local_epochs': 20}\n",
      "\u001b[2m\u001b[36m(DefaultActor pid=2637349)\u001b[0m Epoch 1: train loss 0.00782767217606306, accuracy 0.9196577353400164\n",
      "\u001b[2m\u001b[36m(DefaultActor pid=2637349)\u001b[0m [Client 3] fit, config: {'server_round': 6, 'local_epochs': 20}\n",
      "\u001b[2m\u001b[36m(DefaultActor pid=2637349)\u001b[0m Epoch 1: train loss 0.009527340531349182, accuracy 0.9081383131149107\n",
      "\u001b[2m\u001b[36m(DefaultActor pid=2637349)\u001b[0m [Client 2] fit, config: {'server_round': 6, 'local_epochs': 20}\n"
     ]
    },
    {
     "name": "stderr",
     "output_type": "stream",
     "text": [
      "DEBUG flwr 2023-09-14 22:23:01,209 | server.py:236 | fit_round 6 received 4 results and 0 failures\n"
     ]
    },
    {
     "name": "stdout",
     "output_type": "stream",
     "text": [
      "\u001b[2m\u001b[36m(DefaultActor pid=2637349)\u001b[0m Epoch 1: train loss 0.005010079126805067, accuracy 0.9514528554680958\n"
     ]
    },
    {
     "name": "stderr",
     "output_type": "stream",
     "text": [
      "INFO flwr 2023-09-14 22:23:20,459 | server.py:125 | fit progress: (6, 0.004991472871690012, {'generalization accuracy': 0.9624775443255487}, 748.4725849973038)\n",
      "DEBUG flwr 2023-09-14 22:23:20,461 | server.py:173 | evaluate_round 6: strategy sampled 4 clients (out of 4)\n"
     ]
    },
    {
     "name": "stdout",
     "output_type": "stream",
     "text": [
      "Server-side unseen generalization loss 0.004991472871690012 / generalization accuracy 0.9624775443255487\n",
      "\u001b[2m\u001b[36m(DefaultActor pid=2637349)\u001b[0m [Client 3] evaluate, config: {}\n",
      "\u001b[2m\u001b[36m(DefaultActor pid=2637349)\u001b[0m [Client 2] evaluate, config: {}\n",
      "\u001b[2m\u001b[36m(DefaultActor pid=2637349)\u001b[0m [Client 0] evaluate, config: {}\n",
      "\u001b[2m\u001b[36m(DefaultActor pid=2637349)\u001b[0m [Client 1] evaluate, config: {}\n"
     ]
    },
    {
     "name": "stderr",
     "output_type": "stream",
     "text": [
      "DEBUG flwr 2023-09-14 22:23:30,652 | server.py:187 | evaluate_round 6 received 4 results and 0 failures\n",
      "DEBUG flwr 2023-09-14 22:23:30,654 | server.py:222 | fit_round 7: strategy sampled 4 clients (out of 4)\n"
     ]
    },
    {
     "name": "stdout",
     "output_type": "stream",
     "text": [
      "\u001b[2m\u001b[36m(DefaultActor pid=2637349)\u001b[0m [Client 3] fit, config: {'server_round': 7, 'local_epochs': 20}\n",
      "\u001b[2m\u001b[36m(DefaultActor pid=2637349)\u001b[0m Epoch 1: train loss 0.009021025151014328, accuracy 0.9130575986245104\n",
      "\u001b[2m\u001b[36m(DefaultActor pid=2637349)\u001b[0m [Client 1] fit, config: {'server_round': 7, 'local_epochs': 20}\n",
      "\u001b[2m\u001b[36m(DefaultActor pid=2637349)\u001b[0m Epoch 1: train loss 0.0016482803039252758, accuracy 0.9851362194795766\n",
      "\u001b[2m\u001b[36m(DefaultActor pid=2637349)\u001b[0m [Client 0] fit, config: {'server_round': 7, 'local_epochs': 20}\n",
      "\u001b[2m\u001b[36m(DefaultActor pid=2637349)\u001b[0m Epoch 1: train loss 0.007473120465874672, accuracy 0.9230962520168223\n",
      "\u001b[2m\u001b[36m(DefaultActor pid=2637349)\u001b[0m [Client 2] fit, config: {'server_round': 7, 'local_epochs': 20}\n"
     ]
    },
    {
     "name": "stderr",
     "output_type": "stream",
     "text": [
      "DEBUG flwr 2023-09-14 22:25:04,932 | server.py:236 | fit_round 7 received 4 results and 0 failures\n"
     ]
    },
    {
     "name": "stdout",
     "output_type": "stream",
     "text": [
      "\u001b[2m\u001b[36m(DefaultActor pid=2637349)\u001b[0m Epoch 1: train loss 0.004624650347977877, accuracy 0.9540487355551834\n"
     ]
    },
    {
     "name": "stderr",
     "output_type": "stream",
     "text": [
      "INFO flwr 2023-09-14 22:25:24,596 | server.py:125 | fit progress: (7, 0.005741640390952863, {'generalization accuracy': 0.9575412012809498}, 872.6091226767749)\n",
      "DEBUG flwr 2023-09-14 22:25:24,598 | server.py:173 | evaluate_round 7: strategy sampled 4 clients (out of 4)\n"
     ]
    },
    {
     "name": "stdout",
     "output_type": "stream",
     "text": [
      "Server-side unseen generalization loss 0.005741640390952863 / generalization accuracy 0.9575412012809498\n",
      "\u001b[2m\u001b[36m(DefaultActor pid=2637349)\u001b[0m [Client 3] evaluate, config: {}\n",
      "\u001b[2m\u001b[36m(DefaultActor pid=2637349)\u001b[0m [Client 1] evaluate, config: {}\n",
      "\u001b[2m\u001b[36m(DefaultActor pid=2637349)\u001b[0m [Client 0] evaluate, config: {}\n",
      "\u001b[2m\u001b[36m(DefaultActor pid=2637349)\u001b[0m [Client 2] evaluate, config: {}\n"
     ]
    },
    {
     "name": "stderr",
     "output_type": "stream",
     "text": [
      "DEBUG flwr 2023-09-14 22:25:35,080 | server.py:187 | evaluate_round 7 received 4 results and 0 failures\n",
      "DEBUG flwr 2023-09-14 22:25:35,082 | server.py:222 | fit_round 8: strategy sampled 4 clients (out of 4)\n"
     ]
    },
    {
     "name": "stdout",
     "output_type": "stream",
     "text": [
      "\u001b[2m\u001b[36m(DefaultActor pid=2637349)\u001b[0m [Client 3] fit, config: {'server_round': 8, 'local_epochs': 20}\n",
      "\u001b[2m\u001b[36m(DefaultActor pid=2637349)\u001b[0m Epoch 1: train loss 0.008657490834593773, accuracy 0.917289139363836\n",
      "\u001b[2m\u001b[36m(DefaultActor pid=2637349)\u001b[0m [Client 2] fit, config: {'server_round': 8, 'local_epochs': 20}\n",
      "\u001b[2m\u001b[36m(DefaultActor pid=2637349)\u001b[0m Epoch 1: train loss 0.004217730835080147, accuracy 0.9573773237313683\n",
      "\u001b[2m\u001b[36m(DefaultActor pid=2637349)\u001b[0m [Client 1] fit, config: {'server_round': 8, 'local_epochs': 20}\n",
      "\u001b[2m\u001b[36m(DefaultActor pid=2637349)\u001b[0m Epoch 1: train loss 0.0016047729877755046, accuracy 0.9853272706430782\n",
      "\u001b[2m\u001b[36m(DefaultActor pid=2637349)\u001b[0m [Client 0] fit, config: {'server_round': 8, 'local_epochs': 20}\n"
     ]
    },
    {
     "name": "stderr",
     "output_type": "stream",
     "text": [
      "DEBUG flwr 2023-09-14 22:27:18,067 | server.py:236 | fit_round 8 received 4 results and 0 failures\n"
     ]
    },
    {
     "name": "stdout",
     "output_type": "stream",
     "text": [
      "\u001b[2m\u001b[36m(DefaultActor pid=2637349)\u001b[0m Epoch 1: train loss 0.007223749067634344, accuracy 0.9260586663845319\n"
     ]
    },
    {
     "name": "stderr",
     "output_type": "stream",
     "text": [
      "INFO flwr 2023-09-14 22:27:37,313 | server.py:125 | fit progress: (8, 0.004938232041492237, {'generalization accuracy': 0.9623681949543076}, 1005.3267262736335)\n",
      "DEBUG flwr 2023-09-14 22:27:37,314 | server.py:173 | evaluate_round 8: strategy sampled 4 clients (out of 4)\n"
     ]
    },
    {
     "name": "stdout",
     "output_type": "stream",
     "text": [
      "Server-side unseen generalization loss 0.004938232041492237 / generalization accuracy 0.9623681949543076\n",
      "\u001b[2m\u001b[36m(DefaultActor pid=2637349)\u001b[0m [Client 1] evaluate, config: {}\n",
      "\u001b[2m\u001b[36m(DefaultActor pid=2637349)\u001b[0m [Client 2] evaluate, config: {}\n",
      "\u001b[2m\u001b[36m(DefaultActor pid=2637349)\u001b[0m [Client 3] evaluate, config: {}\n",
      "\u001b[2m\u001b[36m(DefaultActor pid=2637349)\u001b[0m [Client 0] evaluate, config: {}\n"
     ]
    },
    {
     "name": "stderr",
     "output_type": "stream",
     "text": [
      "DEBUG flwr 2023-09-14 22:27:47,738 | server.py:187 | evaluate_round 8 received 4 results and 0 failures\n",
      "DEBUG flwr 2023-09-14 22:27:47,739 | server.py:222 | fit_round 9: strategy sampled 4 clients (out of 4)\n"
     ]
    },
    {
     "name": "stdout",
     "output_type": "stream",
     "text": [
      "\u001b[2m\u001b[36m(DefaultActor pid=2637349)\u001b[0m [Client 3] fit, config: {'server_round': 9, 'local_epochs': 20}\n",
      "\u001b[2m\u001b[36m(DefaultActor pid=2637349)\u001b[0m Epoch 1: train loss 0.008301464840769768, accuracy 0.9204030948514662\n",
      "\u001b[2m\u001b[36m(DefaultActor pid=2637349)\u001b[0m [Client 1] fit, config: {'server_round': 9, 'local_epochs': 20}\n",
      "\u001b[2m\u001b[36m(DefaultActor pid=2637349)\u001b[0m Epoch 1: train loss 0.0015060987789183855, accuracy 0.9854036911084788\n",
      "\u001b[2m\u001b[36m(DefaultActor pid=2637349)\u001b[0m [Client 0] fit, config: {'server_round': 9, 'local_epochs': 20}\n",
      "\u001b[2m\u001b[36m(DefaultActor pid=2637349)\u001b[0m Epoch 1: train loss 0.006985975429415703, accuracy 0.928227576903748\n",
      "\u001b[2m\u001b[36m(DefaultActor pid=2637349)\u001b[0m [Client 2] fit, config: {'server_round': 9, 'local_epochs': 20}\n"
     ]
    },
    {
     "name": "stderr",
     "output_type": "stream",
     "text": [
      "DEBUG flwr 2023-09-14 22:29:23,179 | server.py:236 | fit_round 9 received 4 results and 0 failures\n"
     ]
    },
    {
     "name": "stdout",
     "output_type": "stream",
     "text": [
      "\u001b[2m\u001b[36m(DefaultActor pid=2637349)\u001b[0m Epoch 1: train loss 0.004002582747489214, accuracy 0.959449840897672\n"
     ]
    },
    {
     "name": "stderr",
     "output_type": "stream",
     "text": [
      "INFO flwr 2023-09-14 22:29:43,464 | server.py:125 | fit progress: (9, 0.005048597203395208, {'generalization accuracy': 0.963039912520503}, 1131.4773242417723)\n",
      "DEBUG flwr 2023-09-14 22:29:43,466 | server.py:173 | evaluate_round 9: strategy sampled 4 clients (out of 4)\n"
     ]
    },
    {
     "name": "stdout",
     "output_type": "stream",
     "text": [
      "Server-side unseen generalization loss 0.005048597203395208 / generalization accuracy 0.963039912520503\n",
      "\u001b[2m\u001b[36m(DefaultActor pid=2637349)\u001b[0m [Client 2] evaluate, config: {}\n",
      "\u001b[2m\u001b[36m(DefaultActor pid=2637349)\u001b[0m [Client 0] evaluate, config: {}\n",
      "\u001b[2m\u001b[36m(DefaultActor pid=2637349)\u001b[0m [Client 3] evaluate, config: {}\n",
      "\u001b[2m\u001b[36m(DefaultActor pid=2637349)\u001b[0m [Client 1] evaluate, config: {}\n"
     ]
    },
    {
     "name": "stderr",
     "output_type": "stream",
     "text": [
      "DEBUG flwr 2023-09-14 22:29:53,822 | server.py:187 | evaluate_round 9 received 4 results and 0 failures\n",
      "DEBUG flwr 2023-09-14 22:29:53,823 | server.py:222 | fit_round 10: strategy sampled 4 clients (out of 4)\n"
     ]
    },
    {
     "name": "stdout",
     "output_type": "stream",
     "text": [
      "\u001b[2m\u001b[36m(DefaultActor pid=2637349)\u001b[0m [Client 1] fit, config: {'server_round': 10, 'local_epochs': 20}\n",
      "\u001b[2m\u001b[36m(DefaultActor pid=2637349)\u001b[0m Epoch 1: train loss 0.001474345801398158, accuracy 0.9868938901837913\n",
      "\u001b[2m\u001b[36m(DefaultActor pid=2637349)\u001b[0m [Client 3] fit, config: {'server_round': 10, 'local_epochs': 20}\n",
      "\u001b[2m\u001b[36m(DefaultActor pid=2637349)\u001b[0m Epoch 1: train loss 0.008067733608186245, accuracy 0.9222466329162289\n",
      "\u001b[2m\u001b[36m(DefaultActor pid=2637349)\u001b[0m [Client 0] fit, config: {'server_round': 10, 'local_epochs': 20}\n",
      "\u001b[2m\u001b[36m(DefaultActor pid=2637349)\u001b[0m Epoch 1: train loss 0.006798972841352224, accuracy 0.9297616843441691\n",
      "\u001b[2m\u001b[36m(DefaultActor pid=2637349)\u001b[0m [Client 2] fit, config: {'server_round': 10, 'local_epochs': 20}\n"
     ]
    },
    {
     "name": "stderr",
     "output_type": "stream",
     "text": [
      "DEBUG flwr 2023-09-14 22:31:29,843 | server.py:236 | fit_round 10 received 4 results and 0 failures\n"
     ]
    },
    {
     "name": "stdout",
     "output_type": "stream",
     "text": [
      "\u001b[2m\u001b[36m(DefaultActor pid=2637349)\u001b[0m Epoch 1: train loss 0.00393762718886137, accuracy 0.9601197454362753\n"
     ]
    },
    {
     "name": "stderr",
     "output_type": "stream",
     "text": [
      "INFO flwr 2023-09-14 22:31:49,816 | server.py:125 | fit progress: (10, 0.005251862195408249, {'generalization accuracy': 0.9626493790517847}, 1257.829610357061)\n",
      "DEBUG flwr 2023-09-14 22:31:49,818 | server.py:173 | evaluate_round 10: strategy sampled 4 clients (out of 4)\n"
     ]
    },
    {
     "name": "stdout",
     "output_type": "stream",
     "text": [
      "Server-side unseen generalization loss 0.005251862195408249 / generalization accuracy 0.9626493790517847\n",
      "\u001b[2m\u001b[36m(DefaultActor pid=2637349)\u001b[0m [Client 0] evaluate, config: {}\n",
      "\u001b[2m\u001b[36m(DefaultActor pid=2637349)\u001b[0m [Client 2] evaluate, config: {}\n",
      "\u001b[2m\u001b[36m(DefaultActor pid=2637349)\u001b[0m [Client 3] evaluate, config: {}\n",
      "\u001b[2m\u001b[36m(DefaultActor pid=2637349)\u001b[0m [Client 1] evaluate, config: {}\n"
     ]
    },
    {
     "name": "stderr",
     "output_type": "stream",
     "text": [
      "DEBUG flwr 2023-09-14 22:32:00,272 | server.py:187 | evaluate_round 10 received 4 results and 0 failures\n",
      "INFO flwr 2023-09-14 22:32:00,273 | server.py:153 | FL finished in 1268.2861074898392\n",
      "INFO flwr 2023-09-14 22:32:00,274 | app.py:225 | app_fit: losses_distributed [(1, 0.04584858841316119), (2, 0.0160677554112332), (3, 0.01347071490867283), (4, 0.01155611602107527), (5, 0.011138269564492228), (6, 0.010563330917059348), (7, 0.010565360918702145), (8, 0.009932188773222434), (9, 0.009795080840644321), (10, 0.009948092434259162)]\n",
      "INFO flwr 2023-09-14 22:32:00,275 | app.py:226 | app_fit: metrics_distributed_fit {}\n",
      "INFO flwr 2023-09-14 22:32:00,276 | app.py:227 | app_fit: metrics_distributed {}\n",
      "INFO flwr 2023-09-14 22:32:00,277 | app.py:228 | app_fit: losses_centralized [(0, 0.07195922018335842), (1, 0.026679872010797342), (2, 0.0062620226853607585), (3, 0.005678877877383055), (4, 0.005281350496680382), (5, 0.005809638104879498), (6, 0.004991472871690012), (7, 0.005741640390952863), (8, 0.004938232041492237), (9, 0.005048597203395208), (10, 0.005251862195408249)]\n",
      "INFO flwr 2023-09-14 22:32:00,277 | app.py:229 | app_fit: metrics_centralized {'generalization accuracy': [(0, 0.10227290478794032), (1, 0.6995547918456612), (2, 0.9417948918222292), (3, 0.9526673435913457), (4, 0.9573849878934625), (5, 0.9569632117472467), (6, 0.9624775443255487), (7, 0.9575412012809498), (8, 0.9623681949543076), (9, 0.963039912520503), (10, 0.9626493790517847)]}\n"
     ]
    },
    {
     "data": {
      "text/plain": [
       "History (loss, distributed):\n",
       "\tround 1: 0.04584858841316119\n",
       "\tround 2: 0.0160677554112332\n",
       "\tround 3: 0.01347071490867283\n",
       "\tround 4: 0.01155611602107527\n",
       "\tround 5: 0.011138269564492228\n",
       "\tround 6: 0.010563330917059348\n",
       "\tround 7: 0.010565360918702145\n",
       "\tround 8: 0.009932188773222434\n",
       "\tround 9: 0.009795080840644321\n",
       "\tround 10: 0.009948092434259162\n",
       "History (loss, centralized):\n",
       "\tround 0: 0.07195922018335842\n",
       "\tround 1: 0.026679872010797342\n",
       "\tround 2: 0.0062620226853607585\n",
       "\tround 3: 0.005678877877383055\n",
       "\tround 4: 0.005281350496680382\n",
       "\tround 5: 0.005809638104879498\n",
       "\tround 6: 0.004991472871690012\n",
       "\tround 7: 0.005741640390952863\n",
       "\tround 8: 0.004938232041492237\n",
       "\tround 9: 0.005048597203395208\n",
       "\tround 10: 0.005251862195408249\n",
       "History (metrics, centralized):\n",
       "{'generalization accuracy': [(0, 0.10227290478794032), (1, 0.6995547918456612), (2, 0.9417948918222292), (3, 0.9526673435913457), (4, 0.9573849878934625), (5, 0.9569632117472467), (6, 0.9624775443255487), (7, 0.9575412012809498), (8, 0.9623681949543076), (9, 0.963039912520503), (10, 0.9626493790517847)]}"
      ]
     },
     "execution_count": 21,
     "metadata": {},
     "output_type": "execute_result"
    }
   ],
   "source": [
    "# Create an instance of the model and get the parameters\n",
    "params = get_parameters(Net())\n",
    "\n",
    "# ######Change Aggregation Strategy here<-------------Fed-Avg, xxq-FedAvg, Fed-Prox, Fed-Yogi....\n",
    "strategy = fl.server.strategy.FedAvg(\n",
    "    fraction_fit=1.0,  # Sample 100% of available clients for training\n",
    "    fraction_evaluate=1,  # Sample 100% of available clients for evaluation\n",
    "    min_fit_clients=4,  # Never sample less than 4 clients for training\n",
    "    min_evaluate_clients=4,  # Never sample less than 4 clients for evaluation\n",
    "    min_available_clients=NUM_CLIENTS,  # Wait until all 4 clients are available\n",
    "    initial_parameters=fl.common.ndarrays_to_parameters(params),## initialize parameters\n",
    "    evaluate_fn=generalize,  # Pass the generalization function\n",
    "    on_fit_config_fn=fit_config,  # Pass the fit_config function\n",
    ")\n",
    "\n",
    "# Specify client resources if you need GPU (defaults to 1 CPU and 0 GPU)\n",
    "client_resources = None\n",
    "if DEVICE.type == \"cuda\":\n",
    "    client_resources = {\"num_gpus\": 1, \"num_cpus\": 1}\n",
    "\n",
    "# Start simulation\n",
    "fl.simulation.start_simulation(\n",
    "    client_fn=client_fn,\n",
    "    num_clients=NUM_CLIENTS,\n",
    "    config=fl.server.ServerConfig(num_rounds=10),  # Just three rounds\n",
    "    strategy=strategy,\n",
    "    client_resources=client_resources,\n",
    ")"
   ]
  },
  {
   "cell_type": "code",
   "execution_count": null,
   "metadata": {},
   "outputs": [],
   "source": [
    "====================================================================================end"
   ]
  },
  {
   "cell_type": "code",
   "execution_count": 18,
   "metadata": {},
   "outputs": [
    {
     "name": "stderr",
     "output_type": "stream",
     "text": [
      "INFO flwr 2023-09-12 20:21:07,318 | app.py:175 | Starting Flower simulation, config: ServerConfig(num_rounds=4, round_timeout=None)\n",
      "2023-09-12 20:21:12,698\tINFO worker.py:1621 -- Started a local Ray instance.\n",
      "INFO flwr 2023-09-12 20:21:13,579 | app.py:210 | Flower VCE: Ray initialized with resources: {'node:10.68.107.147': 1.0, 'node:__internal_head__': 1.0, 'GPU': 1.0, 'object_store_memory': 4232332492.0, 'memory': 8464664987.0, 'CPU': 4.0, 'accelerator_type:A30': 1.0}\n",
      "INFO flwr 2023-09-12 20:21:13,581 | app.py:224 | Flower VCE: Resources for each Virtual Client: {'num_gpus': 1, 'num_cpus': 1}\n",
      "INFO flwr 2023-09-12 20:21:13,595 | app.py:270 | Flower VCE: Creating VirtualClientEngineActorPool with 1 actors\n",
      "INFO flwr 2023-09-12 20:21:13,597 | server.py:89 | Initializing global parameters\n",
      "INFO flwr 2023-09-12 20:21:13,598 | server.py:272 | Using initial parameters provided by strategy\n",
      "INFO flwr 2023-09-12 20:21:13,599 | server.py:91 | Evaluating initial parameters\n",
      "INFO flwr 2023-09-12 20:21:32,694 | server.py:94 | initial parameters (loss, other metrics): 0.07199699136974905, {'generalization accuracy': 0.11969069749277512}\n",
      "INFO flwr 2023-09-12 20:21:32,696 | server.py:104 | FL starting\n",
      "DEBUG flwr 2023-09-12 20:21:32,697 | server.py:222 | fit_round 1: strategy sampled 4 clients (out of 4)\n"
     ]
    },
    {
     "name": "stdout",
     "output_type": "stream",
     "text": [
      "Server-side unseen generalization loss 0.07199699136974905 / generalization accuracy 0.11969069749277512\n",
      "\u001b[2m\u001b[36m(DefaultActor pid=2601356)\u001b[0m [Client 0] fit, config: {'server_round': 1, 'local_epochs': 30, 'proximal_mu': 1}\n",
      "\u001b[2m\u001b[36m(DefaultActor pid=2601356)\u001b[0m Epoch 1: train loss 0.02108178287744522, accuracy 0.7829212577264176\n",
      "\u001b[2m\u001b[36m(DefaultActor pid=2601356)\u001b[0m [Client 3] fit, config: {'server_round': 1, 'local_epochs': 30, 'proximal_mu': 1}\n",
      "\u001b[2m\u001b[36m(DefaultActor pid=2601356)\u001b[0m Epoch 1: train loss 0.017495084553956985, accuracy 0.8247127434304162\n",
      "\u001b[2m\u001b[36m(DefaultActor pid=2601356)\u001b[0m [Client 2] fit, config: {'server_round': 1, 'local_epochs': 30, 'proximal_mu': 1}\n",
      "\u001b[2m\u001b[36m(DefaultActor pid=2601356)\u001b[0m Epoch 1: train loss 0.02423943020403385, accuracy 0.7602030222632368\n",
      "\u001b[2m\u001b[36m(DefaultActor pid=2601356)\u001b[0m [Client 1] fit, config: {'server_round': 1, 'local_epochs': 30, 'proximal_mu': 1}\n"
     ]
    },
    {
     "name": "stderr",
     "output_type": "stream",
     "text": [
      "DEBUG flwr 2023-09-12 20:22:39,194 | server.py:236 | fit_round 1 received 4 results and 0 failures\n",
      "WARNING flwr 2023-09-12 20:22:39,204 | fedavg.py:242 | No fit_metrics_aggregation_fn provided\n"
     ]
    },
    {
     "name": "stdout",
     "output_type": "stream",
     "text": [
      "\u001b[2m\u001b[36m(DefaultActor pid=2601356)\u001b[0m Epoch 1: train loss 0.01697658561170101, accuracy 0.8279280381838209\n"
     ]
    },
    {
     "name": "stderr",
     "output_type": "stream",
     "text": [
      "INFO flwr 2023-09-12 20:22:57,724 | server.py:125 | fit progress: (1, 0.03223054020349229, {'generalization accuracy': 0.6552839178317582}, 85.02661840897053)\n",
      "DEBUG flwr 2023-09-12 20:22:57,725 | server.py:173 | evaluate_round 1: strategy sampled 4 clients (out of 4)\n"
     ]
    },
    {
     "name": "stdout",
     "output_type": "stream",
     "text": [
      "Server-side unseen generalization loss 0.03223054020349229 / generalization accuracy 0.6552839178317582\n",
      "\u001b[2m\u001b[36m(DefaultActor pid=2601356)\u001b[0m [Client 1] evaluate, config: {}\n",
      "\u001b[2m\u001b[36m(DefaultActor pid=2601356)\u001b[0m [Client 2] evaluate, config: {}\n",
      "\u001b[2m\u001b[36m(DefaultActor pid=2601356)\u001b[0m [Client 3] evaluate, config: {}\n",
      "\u001b[2m\u001b[36m(DefaultActor pid=2601356)\u001b[0m [Client 0] evaluate, config: {}\n"
     ]
    },
    {
     "name": "stderr",
     "output_type": "stream",
     "text": [
      "DEBUG flwr 2023-09-12 20:23:05,530 | server.py:187 | evaluate_round 1 received 4 results and 0 failures\n",
      "WARNING flwr 2023-09-12 20:23:05,531 | fedavg.py:273 | No evaluate_metrics_aggregation_fn provided\n",
      "DEBUG flwr 2023-09-12 20:23:05,532 | server.py:222 | fit_round 2: strategy sampled 4 clients (out of 4)\n"
     ]
    },
    {
     "name": "stdout",
     "output_type": "stream",
     "text": [
      "\u001b[2m\u001b[36m(DefaultActor pid=2601356)\u001b[0m [Client 3] fit, config: {'server_round': 2, 'local_epochs': 30, 'proximal_mu': 1}\n",
      "\u001b[2m\u001b[36m(DefaultActor pid=2601356)\u001b[0m Epoch 1: train loss 0.012584056705236435, accuracy 0.8744402402193912\n",
      "\u001b[2m\u001b[36m(DefaultActor pid=2601356)\u001b[0m [Client 1] fit, config: {'server_round': 2, 'local_epochs': 30, 'proximal_mu': 1}\n",
      "\u001b[2m\u001b[36m(DefaultActor pid=2601356)\u001b[0m Epoch 1: train loss 0.0046963440254330635, accuracy 0.954473136702974\n",
      "\u001b[2m\u001b[36m(DefaultActor pid=2601356)\u001b[0m [Client 0] fit, config: {'server_round': 2, 'local_epochs': 30, 'proximal_mu': 1}\n",
      "\u001b[2m\u001b[36m(DefaultActor pid=2601356)\u001b[0m Epoch 1: train loss 0.01121358573436737, accuracy 0.888873958613276\n",
      "\u001b[2m\u001b[36m(DefaultActor pid=2601356)\u001b[0m [Client 2] fit, config: {'server_round': 2, 'local_epochs': 30, 'proximal_mu': 1}\n"
     ]
    },
    {
     "name": "stderr",
     "output_type": "stream",
     "text": [
      "DEBUG flwr 2023-09-12 20:24:22,717 | server.py:236 | fit_round 2 received 4 results and 0 failures\n"
     ]
    },
    {
     "name": "stdout",
     "output_type": "stream",
     "text": [
      "\u001b[2m\u001b[36m(DefaultActor pid=2601356)\u001b[0m Epoch 1: train loss 0.015383865684270859, accuracy 0.8554965970700196\n"
     ]
    },
    {
     "name": "stderr",
     "output_type": "stream",
     "text": [
      "INFO flwr 2023-09-12 20:24:41,002 | server.py:125 | fit progress: (2, 0.01671819705398189, {'generalization accuracy': 0.8486604702022963}, 188.30448017828166)\n",
      "DEBUG flwr 2023-09-12 20:24:41,003 | server.py:173 | evaluate_round 2: strategy sampled 4 clients (out of 4)\n"
     ]
    },
    {
     "name": "stdout",
     "output_type": "stream",
     "text": [
      "Server-side unseen generalization loss 0.01671819705398189 / generalization accuracy 0.8486604702022963\n",
      "\u001b[2m\u001b[36m(DefaultActor pid=2601356)\u001b[0m [Client 1] evaluate, config: {}\n",
      "\u001b[2m\u001b[36m(DefaultActor pid=2601356)\u001b[0m [Client 2] evaluate, config: {}\n",
      "\u001b[2m\u001b[36m(DefaultActor pid=2601356)\u001b[0m [Client 3] evaluate, config: {}\n",
      "\u001b[2m\u001b[36m(DefaultActor pid=2601356)\u001b[0m [Client 0] evaluate, config: {}\n"
     ]
    },
    {
     "name": "stderr",
     "output_type": "stream",
     "text": [
      "DEBUG flwr 2023-09-12 20:24:47,749 | server.py:187 | evaluate_round 2 received 4 results and 0 failures\n",
      "DEBUG flwr 2023-09-12 20:24:47,751 | server.py:222 | fit_round 3: strategy sampled 4 clients (out of 4)\n"
     ]
    },
    {
     "name": "stdout",
     "output_type": "stream",
     "text": [
      "\u001b[2m\u001b[36m(DefaultActor pid=2601356)\u001b[0m [Client 0] fit, config: {'server_round': 3, 'local_epochs': 30, 'proximal_mu': 1}\n",
      "\u001b[2m\u001b[36m(DefaultActor pid=2601356)\u001b[0m Epoch 1: train loss 0.008572492748498917, accuracy 0.9151101854340231\n",
      "\u001b[2m\u001b[36m(DefaultActor pid=2601356)\u001b[0m [Client 3] fit, config: {'server_round': 3, 'local_epochs': 30, 'proximal_mu': 1}\n",
      "\u001b[2m\u001b[36m(DefaultActor pid=2601356)\u001b[0m Epoch 1: train loss 0.011007586494088173, accuracy 0.8866594924844656\n",
      "\u001b[2m\u001b[36m(DefaultActor pid=2601356)\u001b[0m [Client 2] fit, config: {'server_round': 3, 'local_epochs': 30, 'proximal_mu': 1}\n",
      "\u001b[2m\u001b[36m(DefaultActor pid=2601356)\u001b[0m Epoch 1: train loss 0.013116925023496151, accuracy 0.8749221363479064\n",
      "\u001b[2m\u001b[36m(DefaultActor pid=2601356)\u001b[0m [Client 1] fit, config: {'server_round': 3, 'local_epochs': 30, 'proximal_mu': 1}\n"
     ]
    },
    {
     "name": "stderr",
     "output_type": "stream",
     "text": [
      "DEBUG flwr 2023-09-12 20:25:58,075 | server.py:236 | fit_round 3 received 4 results and 0 failures\n"
     ]
    },
    {
     "name": "stdout",
     "output_type": "stream",
     "text": [
      "\u001b[2m\u001b[36m(DefaultActor pid=2601356)\u001b[0m Epoch 1: train loss 0.0038015020545572042, accuracy 0.9632847876636886\n"
     ]
    },
    {
     "name": "stderr",
     "output_type": "stream",
     "text": [
      "INFO flwr 2023-09-12 20:26:18,162 | server.py:125 | fit progress: (3, 0.010784263554537855, {'generalization accuracy': 0.8963836600796689}, 285.4649404939264)\n",
      "DEBUG flwr 2023-09-12 20:26:18,164 | server.py:173 | evaluate_round 3: strategy sampled 4 clients (out of 4)\n"
     ]
    },
    {
     "name": "stdout",
     "output_type": "stream",
     "text": [
      "Server-side unseen generalization loss 0.010784263554537855 / generalization accuracy 0.8963836600796689\n",
      "\u001b[2m\u001b[36m(DefaultActor pid=2601356)\u001b[0m [Client 3] evaluate, config: {}\n",
      "\u001b[2m\u001b[36m(DefaultActor pid=2601356)\u001b[0m [Client 0] evaluate, config: {}\n",
      "\u001b[2m\u001b[36m(DefaultActor pid=2601356)\u001b[0m [Client 2] evaluate, config: {}\n",
      "\u001b[2m\u001b[36m(DefaultActor pid=2601356)\u001b[0m [Client 1] evaluate, config: {}\n"
     ]
    },
    {
     "name": "stderr",
     "output_type": "stream",
     "text": [
      "DEBUG flwr 2023-09-12 20:26:25,964 | server.py:187 | evaluate_round 3 received 4 results and 0 failures\n",
      "DEBUG flwr 2023-09-12 20:26:25,966 | server.py:222 | fit_round 4: strategy sampled 4 clients (out of 4)\n"
     ]
    },
    {
     "name": "stdout",
     "output_type": "stream",
     "text": [
      "\u001b[2m\u001b[36m(DefaultActor pid=2601356)\u001b[0m [Client 3] fit, config: {'server_round': 4, 'local_epochs': 30, 'proximal_mu': 1}\n",
      "\u001b[2m\u001b[36m(DefaultActor pid=2601356)\u001b[0m Epoch 1: train loss 0.010318643413484097, accuracy 0.8932898253896623\n",
      "\u001b[2m\u001b[36m(DefaultActor pid=2601356)\u001b[0m [Client 0] fit, config: {'server_round': 4, 'local_epochs': 30, 'proximal_mu': 1}\n",
      "\u001b[2m\u001b[36m(DefaultActor pid=2601356)\u001b[0m Epoch 1: train loss 0.007410625461488962, accuracy 0.9255912389142703\n",
      "\u001b[2m\u001b[36m(DefaultActor pid=2601356)\u001b[0m [Client 2] fit, config: {'server_round': 4, 'local_epochs': 30, 'proximal_mu': 1}\n",
      "\u001b[2m\u001b[36m(DefaultActor pid=2601356)\u001b[0m Epoch 1: train loss 0.01187007687985897, accuracy 0.8859960779790057\n",
      "\u001b[2m\u001b[36m(DefaultActor pid=2601356)\u001b[0m [Client 1] fit, config: {'server_round': 4, 'local_epochs': 30, 'proximal_mu': 1}\n"
     ]
    },
    {
     "name": "stderr",
     "output_type": "stream",
     "text": [
      "DEBUG flwr 2023-09-12 20:27:33,424 | server.py:236 | fit_round 4 received 4 results and 0 failures\n"
     ]
    },
    {
     "name": "stdout",
     "output_type": "stream",
     "text": [
      "\u001b[2m\u001b[36m(DefaultActor pid=2601356)\u001b[0m Epoch 1: train loss 0.0035067638382315636, accuracy 0.9653653163627463\n"
     ]
    },
    {
     "name": "stderr",
     "output_type": "stream",
     "text": [
      "INFO flwr 2023-09-12 20:27:53,297 | server.py:125 | fit progress: (4, 0.011188536295775335, {'generalization accuracy': 0.899914082636882}, 380.5993794440292)\n",
      "DEBUG flwr 2023-09-12 20:27:53,299 | server.py:173 | evaluate_round 4: strategy sampled 4 clients (out of 4)\n"
     ]
    },
    {
     "name": "stdout",
     "output_type": "stream",
     "text": [
      "Server-side unseen generalization loss 0.011188536295775335 / generalization accuracy 0.899914082636882\n",
      "\u001b[2m\u001b[36m(DefaultActor pid=2601356)\u001b[0m [Client 3] evaluate, config: {}\n",
      "\u001b[2m\u001b[36m(DefaultActor pid=2601356)\u001b[0m [Client 2] evaluate, config: {}\n",
      "\u001b[2m\u001b[36m(DefaultActor pid=2601356)\u001b[0m [Client 1] evaluate, config: {}\n",
      "\u001b[2m\u001b[36m(DefaultActor pid=2601356)\u001b[0m [Client 0] evaluate, config: {}\n"
     ]
    },
    {
     "name": "stderr",
     "output_type": "stream",
     "text": [
      "DEBUG flwr 2023-09-12 20:28:00,653 | server.py:187 | evaluate_round 4 received 4 results and 0 failures\n",
      "INFO flwr 2023-09-12 20:28:00,654 | server.py:153 | FL finished in 387.9569833329879\n",
      "INFO flwr 2023-09-12 20:28:00,655 | app.py:225 | app_fit: losses_distributed [(1, 0.04332482980836084), (2, 0.02200467162977423), (3, 0.0193803316517415), (4, 0.018186878687130696)]\n",
      "INFO flwr 2023-09-12 20:28:00,656 | app.py:226 | app_fit: metrics_distributed_fit {}\n",
      "INFO flwr 2023-09-12 20:28:00,657 | app.py:227 | app_fit: metrics_distributed {}\n",
      "INFO flwr 2023-09-12 20:28:00,658 | app.py:228 | app_fit: losses_centralized [(0, 0.07199699136974905), (1, 0.03223054020349229), (2, 0.01671819705398189), (3, 0.010784263554537855), (4, 0.011188536295775335)]\n",
      "INFO flwr 2023-09-12 20:28:00,659 | app.py:229 | app_fit: metrics_centralized {'generalization accuracy': [(0, 0.11969069749277512), (1, 0.6552839178317582), (2, 0.8486604702022963), (3, 0.8963836600796689), (4, 0.899914082636882)]}\n"
     ]
    },
    {
     "data": {
      "text/plain": [
       "History (loss, distributed):\n",
       "\tround 1: 0.04332482980836084\n",
       "\tround 2: 0.02200467162977423\n",
       "\tround 3: 0.0193803316517415\n",
       "\tround 4: 0.018186878687130696\n",
       "History (loss, centralized):\n",
       "\tround 0: 0.07199699136974905\n",
       "\tround 1: 0.03223054020349229\n",
       "\tround 2: 0.01671819705398189\n",
       "\tround 3: 0.010784263554537855\n",
       "\tround 4: 0.011188536295775335\n",
       "History (metrics, centralized):\n",
       "{'generalization accuracy': [(0, 0.11969069749277512), (1, 0.6552839178317582), (2, 0.8486604702022963), (3, 0.8963836600796689), (4, 0.899914082636882)]}"
      ]
     },
     "execution_count": 18,
     "metadata": {},
     "output_type": "execute_result"
    }
   ],
   "source": [
    "# Create an instance of the model and get the parameters\n",
    "params = get_parameters(Net())\n",
    "\n",
    "# ######Change Aggregation Strategy here<-------------Fed-Avg, xxq-FedAvg, Fed-Prox, Fed-Yogi....\n",
    "strategy = fl.server.strategy.FedProx(\n",
    "    proximal_mu =1,\n",
    "    fraction_fit=1.0,  # Sample 100% of available clients for training\n",
    "    fraction_evaluate=1,  # Sample 100% of available clients for evaluation\n",
    "    min_fit_clients=4,  # Never sample less than 4 clients for training\n",
    "    min_evaluate_clients=4,  # Never sample less than 4 clients for evaluation\n",
    "    min_available_clients=NUM_CLIENTS,  # Wait until all 4 clients are available\n",
    "    initial_parameters=fl.common.ndarrays_to_parameters(params),## initialize parameters\n",
    "    evaluate_fn=generalize,  # Pass the generalization function\n",
    "    on_fit_config_fn=fit_config,  # Pass the fit_config function\n",
    ")\n",
    "\n",
    "# Specify client resources if you need GPU (defaults to 1 CPU and 0 GPU)\n",
    "client_resources = None\n",
    "if DEVICE.type == \"cuda\":\n",
    "    client_resources = {\"num_gpus\": 1, \"num_cpus\": 1}\n",
    "\n",
    "# Start simulation\n",
    "fl.simulation.start_simulation(\n",
    "    client_fn=client_fn,\n",
    "    num_clients=NUM_CLIENTS,\n",
    "    config=fl.server.ServerConfig(num_rounds=4),  # Just three rounds\n",
    "    strategy=strategy,\n",
    "    client_resources=client_resources,\n",
    ")"
   ]
  },
  {
   "cell_type": "markdown",
   "metadata": {
    "id": "5UlIWTjKn5wa"
   },
   "source": [
    "### Behind the scenes\n",
    "\n",
    "So how does this work? How does Flower execute this simulation?\n",
    "\n",
    "When we call `start_simulation`, we tell Flower that there are 10 clients (`num_clients=10`). Flower then goes ahead an asks the `FedAvg` strategy to select clients. `FedAvg` knows that it should select 100% of the available clients (`fraction_fit=1.0`), so it goes ahead and selects 10 random clients (i.e., 100% of 10).\n",
    "\n",
    "Flower then asks the selected 10 clients to train the model. When the server receives the model parameter updates from the clients, it hands those updates over to the strategy (*FedAvg*) for aggregation. The strategy aggregates those updates and returns the new global model, which then gets used in the next round of federated learning."
   ]
  },
  {
   "cell_type": "markdown",
   "metadata": {
    "id": "tNCgfvlPn5wb"
   },
   "source": [
    "### Where's the accuracy?\n",
    "\n",
    "You may have noticed that all metrics except for `losses_distributed` are empty. Where did the `{\"accuracy\": float(accuracy)}` go?\n",
    "\n",
    "Flower can automatically aggregate losses returned by individual clients, but it cannot do the same for metrics in the generic metrics dictionary (the one with the `accuracy` key). Metrics dictionaries can contain very different kinds of metrics and even key/value pairs that are not metrics at all, so the framework does not (and can not) know how to handle these automatically.\n",
    "\n",
    "As users, we need to tell the framework how to handle/aggregate these custom metrics, and we do so by passing metric aggregation functions to the strategy. The strategy will then call these functions whenever it receives fit or evaluate metrics from clients. The two possible functions are `fit_metrics_aggregation_fn` and `evaluate_metrics_aggregation_fn`.\n",
    "\n",
    "Let's create a simple weighted averaging function to aggregate the `accuracy` metric we return from `evaluate`:"
   ]
  },
  {
   "cell_type": "code",
   "execution_count": 32,
   "metadata": {
    "executionInfo": {
     "elapsed": 198,
     "status": "ok",
     "timestamp": 1694353721716,
     "user": {
      "displayName": "you Tian",
      "userId": "02971195521295167389"
     },
     "user_tz": -60
    },
    "id": "N7Jiyrtun5wb"
   },
   "outputs": [],
   "source": [
    "def weighted_average(metrics: List[Tuple[int, Metrics]]) -> Metrics:\n",
    "    # Multiply accuracy of each client by number of examples used\n",
    "    accuracies = [num_examples * m[\"accuracy\"] for num_examples, m in metrics]\n",
    "    examples = [num_examples for num_examples, _ in metrics]\n",
    "\n",
    "    # Aggregate and return custom metric (weighted average)\n",
    "    return {\"accuracy\": sum(accuracies) / sum(examples)}"
   ]
  },
  {
   "cell_type": "markdown",
   "metadata": {
    "id": "DII66q0Kn5wb"
   },
   "source": [
    "The only thing left to do is to tell the strategy to call this function whenever it receives evaluation metric dictionaries from the clients:"
   ]
  },
  {
   "cell_type": "code",
   "execution_count": 33,
   "metadata": {
    "colab": {
     "base_uri": "https://localhost:8080/"
    },
    "executionInfo": {
     "elapsed": 668664,
     "status": "ok",
     "timestamp": 1694354506990,
     "user": {
      "displayName": "you Tian",
      "userId": "02971195521295167389"
     },
     "user_tz": -60
    },
    "id": "I6_ZxFU7n5wb",
    "outputId": "57d134c5-46a0-49d8-b30f-80350830f76e"
   },
   "outputs": [
    {
     "name": "stderr",
     "output_type": "stream",
     "text": [
      "INFO flwr 2023-09-10 13:50:38,118 | app.py:175 | Starting Flower simulation, config: ServerConfig(num_rounds=5, round_timeout=None)\n",
      "INFO:flwr:Starting Flower simulation, config: ServerConfig(num_rounds=5, round_timeout=None)\n",
      "2023-09-10 13:50:43,439\tINFO worker.py:1621 -- Started a local Ray instance.\n",
      "INFO flwr 2023-09-10 13:50:45,114 | app.py:210 | Flower VCE: Ray initialized with resources: {'CPU': 2.0, 'memory': 7754735616.0, 'object_store_memory': 3877367808.0, 'node:__internal_head__': 1.0, 'node:172.28.0.12': 1.0}\n",
      "INFO:flwr:Flower VCE: Ray initialized with resources: {'CPU': 2.0, 'memory': 7754735616.0, 'object_store_memory': 3877367808.0, 'node:__internal_head__': 1.0, 'node:172.28.0.12': 1.0}\n",
      "INFO flwr 2023-09-10 13:50:45,125 | app.py:218 | No `client_resources` specified. Using minimal resources for clients.\n",
      "INFO:flwr:No `client_resources` specified. Using minimal resources for clients.\n",
      "INFO flwr 2023-09-10 13:50:45,132 | app.py:224 | Flower VCE: Resources for each Virtual Client: {'num_cpus': 1, 'num_gpus': 0.0}\n",
      "INFO:flwr:Flower VCE: Resources for each Virtual Client: {'num_cpus': 1, 'num_gpus': 0.0}\n",
      "INFO flwr 2023-09-10 13:50:45,183 | app.py:270 | Flower VCE: Creating VirtualClientEngineActorPool with 2 actors\n",
      "INFO:flwr:Flower VCE: Creating VirtualClientEngineActorPool with 2 actors\n",
      "INFO flwr 2023-09-10 13:50:45,190 | server.py:89 | Initializing global parameters\n",
      "INFO:flwr:Initializing global parameters\n",
      "INFO flwr 2023-09-10 13:50:45,199 | server.py:276 | Requesting initial parameters from one random client\n",
      "INFO:flwr:Requesting initial parameters from one random client\n",
      "\u001b[2m\u001b[36m(pid=46161)\u001b[0m 2023-09-10 13:50:49.367783: W tensorflow/compiler/tf2tensorrt/utils/py_utils.cc:38] TF-TRT Warning: Could not find TensorRT\n",
      "INFO flwr 2023-09-10 13:50:56,993 | server.py:280 | Received initial parameters from one random client\n",
      "INFO:flwr:Received initial parameters from one random client\n",
      "INFO flwr 2023-09-10 13:50:57,003 | server.py:91 | Evaluating initial parameters\n",
      "INFO:flwr:Evaluating initial parameters\n",
      "INFO flwr 2023-09-10 13:50:57,004 | server.py:104 | FL starting\n",
      "INFO:flwr:FL starting\n",
      "DEBUG flwr 2023-09-10 13:50:57,006 | server.py:222 | fit_round 1: strategy sampled 4 clients (out of 4)\n",
      "DEBUG:flwr:fit_round 1: strategy sampled 4 clients (out of 4)\n",
      "DEBUG flwr 2023-09-10 13:53:04,029 | server.py:236 | fit_round 1 received 4 results and 0 failures\n",
      "DEBUG:flwr:fit_round 1 received 4 results and 0 failures\n",
      "WARNING flwr 2023-09-10 13:53:04,043 | fedavg.py:242 | No fit_metrics_aggregation_fn provided\n",
      "WARNING:flwr:No fit_metrics_aggregation_fn provided\n",
      "DEBUG flwr 2023-09-10 13:53:04,046 | server.py:173 | evaluate_round 1: strategy sampled 4 clients (out of 4)\n",
      "DEBUG:flwr:evaluate_round 1: strategy sampled 4 clients (out of 4)\n",
      "DEBUG flwr 2023-09-10 13:53:15,606 | server.py:187 | evaluate_round 1 received 4 results and 0 failures\n",
      "DEBUG:flwr:evaluate_round 1 received 4 results and 0 failures\n",
      "DEBUG flwr 2023-09-10 13:53:15,609 | server.py:222 | fit_round 2: strategy sampled 4 clients (out of 4)\n",
      "DEBUG:flwr:fit_round 2: strategy sampled 4 clients (out of 4)\n",
      "DEBUG flwr 2023-09-10 13:55:10,496 | server.py:236 | fit_round 2 received 4 results and 0 failures\n",
      "DEBUG:flwr:fit_round 2 received 4 results and 0 failures\n",
      "DEBUG flwr 2023-09-10 13:55:10,510 | server.py:173 | evaluate_round 2: strategy sampled 4 clients (out of 4)\n",
      "DEBUG:flwr:evaluate_round 2: strategy sampled 4 clients (out of 4)\n",
      "DEBUG flwr 2023-09-10 13:55:21,695 | server.py:187 | evaluate_round 2 received 4 results and 0 failures\n",
      "DEBUG:flwr:evaluate_round 2 received 4 results and 0 failures\n",
      "DEBUG flwr 2023-09-10 13:55:21,699 | server.py:222 | fit_round 3: strategy sampled 4 clients (out of 4)\n",
      "DEBUG:flwr:fit_round 3: strategy sampled 4 clients (out of 4)\n",
      "DEBUG flwr 2023-09-10 13:57:12,673 | server.py:236 | fit_round 3 received 4 results and 0 failures\n",
      "DEBUG:flwr:fit_round 3 received 4 results and 0 failures\n",
      "DEBUG flwr 2023-09-10 13:57:12,690 | server.py:173 | evaluate_round 3: strategy sampled 4 clients (out of 4)\n",
      "DEBUG:flwr:evaluate_round 3: strategy sampled 4 clients (out of 4)\n",
      "DEBUG flwr 2023-09-10 13:57:27,593 | server.py:187 | evaluate_round 3 received 4 results and 0 failures\n",
      "DEBUG:flwr:evaluate_round 3 received 4 results and 0 failures\n",
      "DEBUG flwr 2023-09-10 13:57:27,597 | server.py:222 | fit_round 4: strategy sampled 4 clients (out of 4)\n",
      "DEBUG:flwr:fit_round 4: strategy sampled 4 clients (out of 4)\n",
      "DEBUG flwr 2023-09-10 13:59:20,167 | server.py:236 | fit_round 4 received 4 results and 0 failures\n",
      "DEBUG:flwr:fit_round 4 received 4 results and 0 failures\n",
      "DEBUG flwr 2023-09-10 13:59:20,193 | server.py:173 | evaluate_round 4: strategy sampled 4 clients (out of 4)\n",
      "DEBUG:flwr:evaluate_round 4: strategy sampled 4 clients (out of 4)\n",
      "DEBUG flwr 2023-09-10 13:59:31,017 | server.py:187 | evaluate_round 4 received 4 results and 0 failures\n",
      "DEBUG:flwr:evaluate_round 4 received 4 results and 0 failures\n",
      "DEBUG flwr 2023-09-10 13:59:31,021 | server.py:222 | fit_round 5: strategy sampled 4 clients (out of 4)\n",
      "DEBUG:flwr:fit_round 5: strategy sampled 4 clients (out of 4)\n",
      "DEBUG flwr 2023-09-10 14:01:31,394 | server.py:236 | fit_round 5 received 4 results and 0 failures\n",
      "DEBUG:flwr:fit_round 5 received 4 results and 0 failures\n",
      "DEBUG flwr 2023-09-10 14:01:31,409 | server.py:173 | evaluate_round 5: strategy sampled 4 clients (out of 4)\n",
      "DEBUG:flwr:evaluate_round 5: strategy sampled 4 clients (out of 4)\n",
      "DEBUG flwr 2023-09-10 14:01:46,510 | server.py:187 | evaluate_round 5 received 4 results and 0 failures\n",
      "DEBUG:flwr:evaluate_round 5 received 4 results and 0 failures\n",
      "INFO flwr 2023-09-10 14:01:46,513 | server.py:153 | FL finished in 649.5071036939989\n",
      "INFO:flwr:FL finished in 649.5071036939989\n",
      "INFO flwr 2023-09-10 14:01:46,515 | app.py:225 | app_fit: losses_distributed [(1, 0.0469954641252222), (2, 0.02206205269422551), (3, 0.019785900933225884), (4, 0.018084243839055655), (5, 0.016252841751602944)]\n",
      "INFO:flwr:app_fit: losses_distributed [(1, 0.0469954641252222), (2, 0.02206205269422551), (3, 0.019785900933225884), (4, 0.018084243839055655), (5, 0.016252841751602944)]\n",
      "INFO flwr 2023-09-10 14:01:46,516 | app.py:226 | app_fit: metrics_distributed_fit {}\n",
      "INFO:flwr:app_fit: metrics_distributed_fit {}\n",
      "INFO flwr 2023-09-10 14:01:46,518 | app.py:227 | app_fit: metrics_distributed {'accuracy': [(1, 0.5494234743747302), (2, 0.7841117646651958), (3, 0.8020638801943873), (4, 0.8177082989301987), (5, 0.8371828244502929)]}\n",
      "INFO:flwr:app_fit: metrics_distributed {'accuracy': [(1, 0.5494234743747302), (2, 0.7841117646651958), (3, 0.8020638801943873), (4, 0.8177082989301987), (5, 0.8371828244502929)]}\n",
      "INFO flwr 2023-09-10 14:01:46,520 | app.py:228 | app_fit: losses_centralized []\n",
      "INFO:flwr:app_fit: losses_centralized []\n",
      "INFO flwr 2023-09-10 14:01:46,522 | app.py:229 | app_fit: metrics_centralized {}\n",
      "INFO:flwr:app_fit: metrics_centralized {}\n"
     ]
    },
    {
     "data": {
      "text/plain": [
       "History (loss, distributed):\n",
       "\tround 1: 0.0469954641252222\n",
       "\tround 2: 0.02206205269422551\n",
       "\tround 3: 0.019785900933225884\n",
       "\tround 4: 0.018084243839055655\n",
       "\tround 5: 0.016252841751602944\n",
       "History (metrics, distributed, evaluate):\n",
       "{'accuracy': [(1, 0.5494234743747302), (2, 0.7841117646651958), (3, 0.8020638801943873), (4, 0.8177082989301987), (5, 0.8371828244502929)]}"
      ]
     },
     "execution_count": 33,
     "metadata": {},
     "output_type": "execute_result"
    }
   ],
   "source": [
    "# Create FedAvg strategy\n",
    "strategy = fl.server.strategy.FedAvg(\n",
    "    fraction_fit=1.0,\n",
    "    fraction_evaluate=1,\n",
    "    min_fit_clients=4,\n",
    "    min_evaluate_clients=4,\n",
    "    min_available_clients=4,\n",
    "    evaluate_metrics_aggregation_fn=weighted_average,  # <-- pass the metric aggregation function\n",
    ")\n",
    "\n",
    "# Start simulation\n",
    "fl.simulation.start_simulation(\n",
    "    client_fn=client_fn,\n",
    "    num_clients=NUM_CLIENTS,\n",
    "    config=fl.server.ServerConfig(num_rounds=5),\n",
    "    strategy=strategy,\n",
    "    client_resources=client_resources,\n",
    ")"
   ]
  },
  {
   "cell_type": "markdown",
   "metadata": {
    "id": "f9L_WAg_n5wf"
   },
   "source": [
    "We now have a full system that performs federated training and federated evaluation. It uses the `weighted_average` function to aggregate custom evaluation metrics and calculates a single `accuracy` metric across all clients on the server side.\n",
    "\n",
    "The other two categories of metrics (`losses_centralized` and `metrics_centralized`) are still empty because they only apply when centralized evaluation is being used. Part two of the Flower tutorial will cover centralized evaluation."
   ]
  },
  {
   "cell_type": "markdown",
   "metadata": {
    "id": "mXz0iySDn5wf"
   },
   "source": [
    "## Final remarks\n",
    "\n",
    "Congratulations, you just trained a convolutional neural network, federated over 10 clients! With that, you understand the basics of federated learning with Flower. The same approach you've seen can be used with other machine learning frameworks (not just PyTorch) and tasks (not just CIFAR-10 images classification), for example NLP with Hugging Face Transformers or speech with SpeechBrain.\n",
    "\n",
    "In the next notebook, we're going to cover some more advanced concepts. Want to customize your strategy? Initialize parameters on the server side? Or evaluate the aggregated model on the server side? We'll cover all this and more in the next tutorial."
   ]
  },
  {
   "cell_type": "markdown",
   "metadata": {
    "id": "QOBUJchGn5wf"
   },
   "source": [
    "## Next steps\n",
    "\n",
    "Before you continue, make sure to join the Flower community on Slack: [Join Slack](https://flower.dev/join-slack/)\n",
    "\n",
    "There's a dedicated `#questions` channel if you need help, but we'd also love to hear who you are in `#introductions`!\n",
    "\n",
    "The [Flower Federated Learning Tutorial - Part 2](https://flower.dev/docs/framework/tutorial-use-a-federated-learning-strategy-pytorch.html) goes into more depth about strategies and all the advanced things you can build with them."
   ]
  }
 ],
 "metadata": {
  "colab": {
   "provenance": [
    {
     "file_id": "https://github.com/adap/flower/blob/main/doc/source/tutorial-series-get-started-with-flower-pytorch.ipynb",
     "timestamp": 1694342754236
    }
   ]
  },
  "kernelspec": {
   "display_name": "Python 3 (ipykernel)",
   "language": "python",
   "name": "python3"
  },
  "language_info": {
   "codemirror_mode": {
    "name": "ipython",
    "version": 3
   },
   "file_extension": ".py",
   "mimetype": "text/x-python",
   "name": "python",
   "nbconvert_exporter": "python",
   "pygments_lexer": "ipython3",
   "version": "3.10.12"
  }
 },
 "nbformat": 4,
 "nbformat_minor": 4
}
