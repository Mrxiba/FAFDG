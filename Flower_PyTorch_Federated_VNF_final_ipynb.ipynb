{
  "cells": [
    {
      "cell_type": "markdown",
      "metadata": {
        "id": "view-in-github",
        "colab_type": "text"
      },
      "source": [
        "<a href=\"https://colab.research.google.com/github/Mrxiba/FAFDG/blob/main/Flower_PyTorch_Federated_VNF_final_ipynb.ipynb\" target=\"_parent\"><img src=\"https://colab.research.google.com/assets/colab-badge.svg\" alt=\"Open In Colab\"/></a>"
      ]
    },
    {
      "cell_type": "markdown",
      "metadata": {
        "id": "pQHfYnCSn5wT"
      },
      "source": [
        "### Installing dependencies\n",
        "\n",
        "Next, we install the necessary packages for PyTorch (`torch` and `torchvision`) and Flower (`flwr`):"
      ]
    },
    {
      "cell_type": "markdown",
      "metadata": {
        "id": "IxBR9CVpn5wU"
      },
      "source": [
        "Now that we have all dependencies installed, we can import everything we need for this tutorial:"
      ]
    },
    {
      "cell_type": "code",
      "execution_count": null,
      "metadata": {
        "id": "xntFS2eBJbKr",
        "colab": {
          "base_uri": "https://localhost:8080/"
        },
        "outputId": "1154b260-4770-4540-d6a5-fa7197c527f8"
      },
      "outputs": [
        {
          "output_type": "stream",
          "name": "stdout",
          "text": [
            "\u001b[2K     \u001b[90m━━━━━━━━━━━━━━━━━━━━━━━━━━━━━━━━━━━━━━━━\u001b[0m \u001b[32m219.2/219.2 kB\u001b[0m \u001b[31m3.0 MB/s\u001b[0m eta \u001b[36m0:00:00\u001b[0m\n",
            "\u001b[2K     \u001b[90m━━━━━━━━━━━━━━━━━━━━━━━━━━━━━━━━━━━━━━━━\u001b[0m \u001b[32m2.1/2.1 MB\u001b[0m \u001b[31m10.5 MB/s\u001b[0m eta \u001b[36m0:00:00\u001b[0m\n",
            "\u001b[2K     \u001b[90m━━━━━━━━━━━━━━━━━━━━━━━━━━━━━━━━━━━━━━━━\u001b[0m \u001b[32m56.9/56.9 MB\u001b[0m \u001b[31m7.7 MB/s\u001b[0m eta \u001b[36m0:00:00\u001b[0m\n",
            "\u001b[?25h"
          ]
        }
      ],
      "source": [
        "!pip install -q flwr[simulation] torch torchvision"
      ]
    },
    {
      "cell_type": "code",
      "execution_count": null,
      "metadata": {
        "colab": {
          "base_uri": "https://localhost:8080/"
        },
        "id": "uaLkqr71n5wU",
        "outputId": "6720030f-6d9a-4f54-d381-6c04ec5719aa"
      },
      "outputs": [
        {
          "output_type": "stream",
          "name": "stdout",
          "text": [
            "Training on cpu using PyTorch 2.1.0+cu121 and Flower 1.6.0\n"
          ]
        }
      ],
      "source": [
        "from collections import OrderedDict\n",
        "from typing import Dict, List, Optional, Tuple\n",
        "import torch\n",
        "import pandas as pd\n",
        "import matplotlib.pyplot as plt\n",
        "import numpy as np\n",
        "import torch.nn as nn\n",
        "import torch.nn.functional as F\n",
        "import torchvision\n",
        "import torchvision.transforms as transforms\n",
        "from torch.utils.data import DataLoader, random_split\n",
        "import torch\n",
        "\n",
        "import flwr as fl\n",
        "from flwr.common import Metrics\n",
        "\n",
        "device=DEVICE = torch.device(\"cpu\")  # Try \"cuda\" to train on GPU\n",
        "print(\n",
        "    f\"Training on {DEVICE} using PyTorch {torch.__version__} and Flower {fl.__version__}\"\n",
        ")"
      ]
    },
    {
      "cell_type": "code",
      "execution_count": null,
      "metadata": {
        "id": "nFzLTz8Pn5wW"
      },
      "outputs": [],
      "source": [
        "import pandas as pd\n",
        "from torch.utils.data import Dataset\n",
        "from torch.utils.data import DataLoader\n",
        "\n",
        "import torch\n",
        "from torch.utils.data import Dataset, DataLoader\n",
        "import pandas as pd\n",
        "\n",
        "NUM_CLIENTS = 2\n",
        "BATCH_SIZE = batch_size = 50\n",
        "ngpu = 0\n",
        "dataroot_Inline = \"/content/Inline.csv\"\n",
        "dataroot_Passive = \"/content/Passive.csv\"\n",
        "dataroot_vFW = \"/content/vFW.csv\"\n",
        "\n",
        "\n",
        "class VNFDataset(Dataset):\n",
        "    def __init__(self, root):\n",
        "        self.df = pd.read_csv(root)\n",
        "        self.data = self.df.to_numpy()\n",
        "        labels=['MEM']#CPU MEM LINK\n",
        "        predictors = list(set(list(self.df.columns))-set(labels))\n",
        "        self.df[predictors] = self.df[predictors]/self.df[predictors].max()# guiyihua\n",
        "        self.df[predictors].dropna(axis=0)\n",
        "        self.df[labels] = self.df[labels]/self.df[labels].max()\n",
        "        self.df[labels].dropna(axis=0)\n",
        "        self.x = torch.tensor(self.df[predictors].values, dtype=torch.float32)\n",
        "        self.y = torch.tensor(self.df[labels].values, dtype=torch.float32).reshape(-1, 1)\n",
        "    def __getitem__(self, idx):\n",
        "        return self.x[idx, :], self.y[idx,:]\n",
        "    def __len__(self):\n",
        "        return len(self.data)\n",
        "\n",
        "def load_datasets():\n",
        "\n",
        "    Inline_data = VNFDataset(dataroot_Inline)\n",
        "\n",
        "    Passive_data = VNFDataset(dataroot_Passive)\n",
        "\n",
        "    vFW_data = VNFDataset(dataroot_vFW)\n",
        "\n",
        "    testset = Inline_data\n",
        "\n",
        "    # Split training set into 2\n",
        "    datasets = [vFW_data,Passive_data]\n",
        "\n",
        "    # Split each partition into train/val and create DataLoader\n",
        "    trainloaders = []\n",
        "    valloaders = []\n",
        "    for ds in datasets:\n",
        "        len_val = len(ds) // 30  # 10 % validation set\n",
        "        len_train = len(ds) - len_val\n",
        "        lengths = [len_train, len_val]\n",
        "        ds_train, ds_val = random_split(ds, lengths, torch.Generator().manual_seed(42))\n",
        "        trainloaders.append(DataLoader(ds_train, batch_size=BATCH_SIZE, shuffle=True))\n",
        "        valloaders.append(DataLoader(ds_val, batch_size=BATCH_SIZE, shuffle=True))\n",
        "    testloader = DataLoader(testset, batch_size=BATCH_SIZE,shuffle=True)\n",
        "    return trainloaders, valloaders, testloader\n",
        "\n",
        "\n",
        "trainloaders, valloaders, testloader = load_datasets()"
      ]
    },
    {
      "cell_type": "code",
      "source": [
        "class Net(nn.Module):\n",
        "    def __init__(self):\n",
        "        super().__init__()\n",
        "        self.linear_relu_stack = nn.Sequential(\n",
        "            nn.Linear(8, 24),\n",
        "            nn.ReLU(),\n",
        "            nn.Linear(24, 12),\n",
        "            nn.ReLU(),\n",
        "            nn.Linear(12, 6),\n",
        "            nn.ReLU(),\n",
        "            nn.Linear(6, 1)\n",
        "        )\n",
        "\n",
        "    def forward(self, x):\n",
        "        x = self.linear_relu_stack(x)\n",
        "        return x\n",
        "\n",
        "def get_parameters(net) -> List[np.ndarray]:\n",
        "    return [val.cpu().numpy() for _, val in net.state_dict().items()]\n",
        "\n",
        "\n",
        "def set_parameters(net, parameters: List[np.ndarray]):\n",
        "    params_dict = zip(net.state_dict().keys(), parameters)\n",
        "    state_dict = OrderedDict({k: torch.Tensor(v) for k, v in params_dict})\n",
        "    net.load_state_dict(state_dict, strict=True)\n",
        "\n",
        "\n",
        "def train(net, trainloader, epochs: int):\n",
        "    \"\"\"Train the network on the training set.\"\"\"\n",
        "    criterion = torch.nn.MSELoss()\n",
        "    L1 = torch.nn.L1Loss()\n",
        "    optimizer = torch.optim.Adam(net.parameters()) #,lr=0.0001\n",
        "    net.train()\n",
        "    for epoch in range(epochs):\n",
        "      epoch_loss3, epoch_loss2, epoch_loss = 0.0, 0.0, 0.0\n",
        "      for images, labels in trainloader:\n",
        "        images, labels = images.to(DEVICE), labels.to(DEVICE)\n",
        "        optimizer.zero_grad()\n",
        "        outputs = net(images)\n",
        "        labels = labels.float()\n",
        "        loss = criterion(outputs, labels)\n",
        "        loss.backward()\n",
        "        optimizer.step()\n",
        "        # Metrics\n",
        "        epoch_loss = loss\n",
        "        loss2 = L1(outputs, labels)\n",
        "        epoch_loss2 = loss2\n",
        "        y_bar = outputs.mean()\n",
        "        ss_tot = ((outputs-y_bar)**2).sum()\n",
        "        ss_res = ((outputs-labels)**2).sum()\n",
        "        epoch_loss3 = (1 - (ss_res/ss_tot)).item()\n",
        "      print(f\"Epoch {epoch+1}: train MSE {epoch_loss}, train MAE {epoch_loss2}, train R2 {epoch_loss3}\")\n",
        "\n",
        "def test(net, testloader):\n",
        "    \"\"\"Evaluate the network on the entire test set.\"\"\"\n",
        "    MSE_cri = torch.nn.MSELoss()\n",
        "    L1 = torch.nn.L1Loss()\n",
        "    RMSE_e,MAE_e,R2_e = 0.0, 0.0, 0.0\n",
        "    net.eval()\n",
        "    with torch.no_grad():\n",
        "        for images, labels in testloader:\n",
        "          images, labels = images.to(DEVICE), labels.to(DEVICE)\n",
        "          outputs = net(images)\n",
        "          labels = labels.float()\n",
        "          RMSE_e = torch.sqrt(MSE_cri(outputs, labels)).item()# RMSE\n",
        "          MAE_e = L1(outputs, labels).item()# MAE\n",
        "          y_bar = (outputs.mean())\n",
        "          ss_tot = ((labels-y_bar)**2).sum()\n",
        "          ss_res = ((labels-outputs)**2).sum()\n",
        "          R2_e = (1 - (ss_res/ss_tot)).item()\n",
        "    return RMSE_e, MAE_e, R2_e"
      ],
      "metadata": {
        "id": "WXQcxgIDR1a0"
      },
      "execution_count": null,
      "outputs": []
    },
    {
      "cell_type": "code",
      "execution_count": null,
      "metadata": {
        "id": "xzcnQf-FJbKv"
      },
      "outputs": [],
      "source": [
        "class FlowerClient(fl.client.NumPyClient):\n",
        "    def __init__(self, cid, net, trainloader, valloader):\n",
        "        self.cid = cid\n",
        "        self.net = net\n",
        "        self.trainloader = trainloader\n",
        "        self.valloader = valloader\n",
        "\n",
        "    def get_parameters(self, config):\n",
        "        print(f\"[Client {self.cid}] get_parameters\")\n",
        "        return get_parameters(self.net)\n",
        "\n",
        "    def fit(self, parameters, config):\n",
        "        # Read values from config\n",
        "        server_round = config[\"server_round\"]\n",
        "        local_epochs = config[\"local_epochs\"]\n",
        "        # Use values provided by the config\n",
        "        print(f\"[Client {self.cid}] fit, config: {config}\")\n",
        "        set_parameters(self.net, parameters)\n",
        "        train(self.net, self.trainloader, epochs=1)\n",
        "        return get_parameters(self.net), len(self.trainloader), {}\n",
        "\n",
        "    def evaluate(self, parameters, config): ####test on local as val\n",
        "        print(f\"[Client {self.cid}] evaluate, config: {config}\")\n",
        "        set_parameters(self.net, parameters)\n",
        "        loss_1, loss_2, loss_3 = test(self.net, self.valloader) #\n",
        "        return float(loss_1), len(self.valloader), {\"RMSE_local_val\": float(loss_1),\"MAE_local_val\": float(loss_2),\"R2_local_val\": float(loss_3)}\n",
        "\n",
        "\n",
        "def client_fn(cid) -> FlowerClient:\n",
        "    net = Net().to(DEVICE)\n",
        "    trainloader = trainloaders[int(cid)]\n",
        "    valloader = valloaders[int(cid)]\n",
        "    return FlowerClient(cid, net, trainloader, valloader)\n",
        "\n",
        "def fit_config(server_round: int):\n",
        "    \"\"\"Return training configuration dict for each round.\n",
        "    Perform 4 rounds of training with 30 local epoch.\n",
        "    \"\"\"\n",
        "    config = {\n",
        "        \"server_round\": server_round,  # The current round of federated learning，just display.\n",
        "        \"local_epochs\": 20,  #######\n",
        "    }\n",
        "    return config\n",
        "\n",
        "\n",
        "# The `evaluate` function will be by Flower called after every round\n",
        "def generalize(\n",
        "    server_round: int,\n",
        "    parameters: fl.common.NDArrays,\n",
        "    config: Dict[str, fl.common.Scalar],\n",
        ") -> Optional[Tuple[float, Dict[str, fl.common.Scalar]]]:\n",
        "    net = Net().to(DEVICE)\n",
        "    set_parameters(net, parameters)  # Update model with the latest parameters\n",
        "    RMSE, MAE, R2 = test(net, testloader) #\n",
        "    print(f\"Server-side unseen generalization RMSE loss {RMSE}, MAE loss{MAE}, R-Square{R2}\") #\n",
        "    return RMSE, {\"generalization RMSE\": RMSE, \"generalization MAE\": MAE ,\"generalization R2\": R2}"
      ]
    },
    {
      "cell_type": "code",
      "execution_count": null,
      "metadata": {
        "id": "661ZOHVVJbKv",
        "colab": {
          "base_uri": "https://localhost:8080/"
        },
        "outputId": "0d6a575f-ef4b-44ab-bfbe-8db9567ec1cb"
      },
      "outputs": [
        {
          "output_type": "stream",
          "name": "stderr",
          "text": [
            "INFO flwr 2024-01-06 12:49:48,744 | app.py:178 | Starting Flower simulation, config: ServerConfig(num_rounds=100, round_timeout=None)\n",
            "INFO:flwr:Starting Flower simulation, config: ServerConfig(num_rounds=100, round_timeout=None)\n",
            "2024-01-06 12:49:53,543\tINFO worker.py:1621 -- Started a local Ray instance.\n",
            "INFO flwr 2024-01-06 12:49:56,447 | app.py:213 | Flower VCE: Ray initialized with resources: {'node:__internal_head__': 1.0, 'node:172.28.0.12': 1.0, 'memory': 7698567168.0, 'object_store_memory': 3849283584.0, 'CPU': 2.0}\n",
            "INFO:flwr:Flower VCE: Ray initialized with resources: {'node:__internal_head__': 1.0, 'node:172.28.0.12': 1.0, 'memory': 7698567168.0, 'object_store_memory': 3849283584.0, 'CPU': 2.0}\n",
            "INFO flwr 2024-01-06 12:49:56,458 | app.py:219 | Optimize your simulation with Flower VCE: https://flower.dev/docs/framework/how-to-run-simulations.html\n",
            "INFO:flwr:Optimize your simulation with Flower VCE: https://flower.dev/docs/framework/how-to-run-simulations.html\n",
            "INFO flwr 2024-01-06 12:49:56,467 | app.py:227 | No `client_resources` specified. Using minimal resources for clients.\n",
            "INFO:flwr:No `client_resources` specified. Using minimal resources for clients.\n",
            "INFO flwr 2024-01-06 12:49:56,479 | app.py:242 | Flower VCE: Resources for each Virtual Client: {'num_cpus': 1, 'num_gpus': 0.0}\n",
            "INFO:flwr:Flower VCE: Resources for each Virtual Client: {'num_cpus': 1, 'num_gpus': 0.0}\n",
            "INFO flwr 2024-01-06 12:49:56,541 | app.py:288 | Flower VCE: Creating VirtualClientEngineActorPool with 2 actors\n",
            "INFO:flwr:Flower VCE: Creating VirtualClientEngineActorPool with 2 actors\n",
            "INFO flwr 2024-01-06 12:49:56,545 | server.py:89 | Initializing global parameters\n",
            "INFO:flwr:Initializing global parameters\n",
            "INFO flwr 2024-01-06 12:49:56,548 | server.py:272 | Using initial parameters provided by strategy\n",
            "INFO:flwr:Using initial parameters provided by strategy\n",
            "INFO flwr 2024-01-06 12:49:56,550 | server.py:91 | Evaluating initial parameters\n",
            "INFO:flwr:Evaluating initial parameters\n",
            "INFO flwr 2024-01-06 12:49:56,689 | server.py:94 | initial parameters (loss, other metrics): 0.8828585147857666, {'generalization RMSE': 0.8828585147857666, 'generalization MAE': 0.8730707168579102, 'generalization R2': 0.0001500248908996582}\n",
            "INFO:flwr:initial parameters (loss, other metrics): 0.8828585147857666, {'generalization RMSE': 0.8828585147857666, 'generalization MAE': 0.8730707168579102, 'generalization R2': 0.0001500248908996582}\n",
            "INFO flwr 2024-01-06 12:49:56,703 | server.py:104 | FL starting\n",
            "INFO:flwr:FL starting\n",
            "DEBUG flwr 2024-01-06 12:49:56,713 | server.py:222 | fit_round 1: strategy sampled 2 clients (out of 2)\n",
            "DEBUG:flwr:fit_round 1: strategy sampled 2 clients (out of 2)\n"
          ]
        },
        {
          "output_type": "stream",
          "name": "stdout",
          "text": [
            "Server-side unseen generalization RMSE loss 0.8828585147857666, MAE loss0.8730707168579102, R-Square0.0001500248908996582\n"
          ]
        },
        {
          "output_type": "stream",
          "name": "stderr",
          "text": [
            "\u001b[2m\u001b[36m(pid=12957)\u001b[0m 2024-01-06 12:49:59.182893: E external/local_xla/xla/stream_executor/cuda/cuda_dnn.cc:9261] Unable to register cuDNN factory: Attempting to register factory for plugin cuDNN when one has already been registered\n",
            "\u001b[2m\u001b[36m(pid=12957)\u001b[0m 2024-01-06 12:49:59.182971: E external/local_xla/xla/stream_executor/cuda/cuda_fft.cc:607] Unable to register cuFFT factory: Attempting to register factory for plugin cuFFT when one has already been registered\n",
            "\u001b[2m\u001b[36m(pid=12957)\u001b[0m 2024-01-06 12:49:59.184854: E external/local_xla/xla/stream_executor/cuda/cuda_blas.cc:1515] Unable to register cuBLAS factory: Attempting to register factory for plugin cuBLAS when one has already been registered\n",
            "\u001b[2m\u001b[36m(pid=12957)\u001b[0m 2024-01-06 12:50:01.704508: W tensorflow/compiler/tf2tensorrt/utils/py_utils.cc:38] TF-TRT Warning: Could not find TensorRT\n"
          ]
        },
        {
          "output_type": "stream",
          "name": "stdout",
          "text": [
            "\u001b[2m\u001b[36m(DefaultActor pid=12957)\u001b[0m [Client 1] fit, config: {'server_round': 1, 'local_epochs': 20}\n"
          ]
        },
        {
          "output_type": "stream",
          "name": "stderr",
          "text": [
            "DEBUG flwr 2024-01-06 12:50:11,828 | server.py:236 | fit_round 1 received 2 results and 0 failures\n",
            "DEBUG:flwr:fit_round 1 received 2 results and 0 failures\n",
            "WARNING flwr 2024-01-06 12:50:11,838 | fedavg.py:242 | No fit_metrics_aggregation_fn provided\n",
            "WARNING:flwr:No fit_metrics_aggregation_fn provided\n",
            "INFO flwr 2024-01-06 12:50:11,875 | server.py:125 | fit progress: (1, 0.907082736492157, {'generalization RMSE': 0.907082736492157, 'generalization MAE': 0.9005072116851807, 'generalization R2': 0.0002288222312927246}, 15.16251675400008)\n",
            "INFO:flwr:fit progress: (1, 0.907082736492157, {'generalization RMSE': 0.907082736492157, 'generalization MAE': 0.9005072116851807, 'generalization R2': 0.0002288222312927246}, 15.16251675400008)\n",
            "DEBUG flwr 2024-01-06 12:50:11,880 | server.py:173 | evaluate_round 1: strategy sampled 2 clients (out of 2)\n",
            "DEBUG:flwr:evaluate_round 1: strategy sampled 2 clients (out of 2)\n",
            "DEBUG flwr 2024-01-06 12:50:11,955 | server.py:187 | evaluate_round 1 received 2 results and 0 failures\n",
            "DEBUG:flwr:evaluate_round 1 received 2 results and 0 failures\n",
            "WARNING flwr 2024-01-06 12:50:11,958 | fedavg.py:273 | No evaluate_metrics_aggregation_fn provided\n",
            "WARNING:flwr:No evaluate_metrics_aggregation_fn provided\n",
            "DEBUG flwr 2024-01-06 12:50:11,961 | server.py:222 | fit_round 2: strategy sampled 2 clients (out of 2)\n",
            "DEBUG:flwr:fit_round 2: strategy sampled 2 clients (out of 2)\n"
          ]
        },
        {
          "output_type": "stream",
          "name": "stdout",
          "text": [
            "\u001b[2m\u001b[36m(DefaultActor pid=12957)\u001b[0m Epoch 1: train MSE 0.7242643237113953, train MAE 0.8434733152389526, train R2 -170274.4375\n",
            "Server-side unseen generalization RMSE loss 0.907082736492157, MAE loss0.9005072116851807, R-Square0.0002288222312927246\n",
            "\u001b[2m\u001b[36m(DefaultActor pid=12956)\u001b[0m [Client 1] evaluate, config: {}\n"
          ]
        },
        {
          "output_type": "stream",
          "name": "stderr",
          "text": [
            "DEBUG flwr 2024-01-06 12:50:12,104 | server.py:236 | fit_round 2 received 2 results and 0 failures\n",
            "DEBUG:flwr:fit_round 2 received 2 results and 0 failures\n",
            "INFO flwr 2024-01-06 12:50:12,146 | server.py:125 | fit progress: (2, 0.8191032409667969, {'generalization RMSE': 0.8191032409667969, 'generalization MAE': 0.8097782731056213, 'generalization R2': 7.212162017822266e-05}, 15.433705895999992)\n",
            "INFO:flwr:fit progress: (2, 0.8191032409667969, {'generalization RMSE': 0.8191032409667969, 'generalization MAE': 0.8097782731056213, 'generalization R2': 7.212162017822266e-05}, 15.433705895999992)\n",
            "DEBUG flwr 2024-01-06 12:50:12,151 | server.py:173 | evaluate_round 2: strategy sampled 2 clients (out of 2)\n",
            "DEBUG:flwr:evaluate_round 2: strategy sampled 2 clients (out of 2)\n",
            "DEBUG flwr 2024-01-06 12:50:12,221 | server.py:187 | evaluate_round 2 received 2 results and 0 failures\n",
            "DEBUG:flwr:evaluate_round 2 received 2 results and 0 failures\n",
            "DEBUG flwr 2024-01-06 12:50:12,224 | server.py:222 | fit_round 3: strategy sampled 2 clients (out of 2)\n",
            "DEBUG:flwr:fit_round 3: strategy sampled 2 clients (out of 2)\n"
          ]
        },
        {
          "output_type": "stream",
          "name": "stdout",
          "text": [
            "Server-side unseen generalization RMSE loss 0.8191032409667969, MAE loss0.8097782731056213, R-Square7.212162017822266e-05\n"
          ]
        },
        {
          "output_type": "stream",
          "name": "stderr",
          "text": [
            "DEBUG flwr 2024-01-06 12:50:12,377 | server.py:236 | fit_round 3 received 2 results and 0 failures\n",
            "DEBUG:flwr:fit_round 3 received 2 results and 0 failures\n",
            "INFO flwr 2024-01-06 12:50:12,419 | server.py:125 | fit progress: (3, 0.7578230500221252, {'generalization RMSE': 0.7578230500221252, 'generalization MAE': 0.7463189959526062, 'generalization R2': 0.0}, 15.705860878999829)\n",
            "INFO:flwr:fit progress: (3, 0.7578230500221252, {'generalization RMSE': 0.7578230500221252, 'generalization MAE': 0.7463189959526062, 'generalization R2': 0.0}, 15.705860878999829)\n",
            "DEBUG flwr 2024-01-06 12:50:12,421 | server.py:173 | evaluate_round 3: strategy sampled 2 clients (out of 2)\n",
            "DEBUG:flwr:evaluate_round 3: strategy sampled 2 clients (out of 2)\n",
            "DEBUG flwr 2024-01-06 12:50:12,495 | server.py:187 | evaluate_round 3 received 2 results and 0 failures\n",
            "DEBUG:flwr:evaluate_round 3 received 2 results and 0 failures\n",
            "DEBUG flwr 2024-01-06 12:50:12,501 | server.py:222 | fit_round 4: strategy sampled 2 clients (out of 2)\n",
            "DEBUG:flwr:fit_round 4: strategy sampled 2 clients (out of 2)\n"
          ]
        },
        {
          "output_type": "stream",
          "name": "stdout",
          "text": [
            "Server-side unseen generalization RMSE loss 0.7578230500221252, MAE loss0.7463189959526062, R-Square0.0\n"
          ]
        },
        {
          "output_type": "stream",
          "name": "stderr",
          "text": [
            "DEBUG flwr 2024-01-06 12:50:12,651 | server.py:236 | fit_round 4 received 2 results and 0 failures\n",
            "DEBUG:flwr:fit_round 4 received 2 results and 0 failures\n",
            "INFO flwr 2024-01-06 12:50:12,691 | server.py:125 | fit progress: (4, 0.7413360476493835, {'generalization RMSE': 0.7413360476493835, 'generalization MAE': 0.7353897094726562, 'generalization R2': 0.0}, 15.978653860000122)\n",
            "INFO:flwr:fit progress: (4, 0.7413360476493835, {'generalization RMSE': 0.7413360476493835, 'generalization MAE': 0.7353897094726562, 'generalization R2': 0.0}, 15.978653860000122)\n",
            "DEBUG flwr 2024-01-06 12:50:12,696 | server.py:173 | evaluate_round 4: strategy sampled 2 clients (out of 2)\n",
            "DEBUG:flwr:evaluate_round 4: strategy sampled 2 clients (out of 2)\n",
            "DEBUG flwr 2024-01-06 12:50:12,760 | server.py:187 | evaluate_round 4 received 2 results and 0 failures\n",
            "DEBUG:flwr:evaluate_round 4 received 2 results and 0 failures\n",
            "DEBUG flwr 2024-01-06 12:50:12,764 | server.py:222 | fit_round 5: strategy sampled 2 clients (out of 2)\n",
            "DEBUG:flwr:fit_round 5: strategy sampled 2 clients (out of 2)\n"
          ]
        },
        {
          "output_type": "stream",
          "name": "stdout",
          "text": [
            "\u001b[2m\u001b[36m(DefaultActor pid=12957)\u001b[0m Epoch 1: train MSE 0.6116220355033875, train MAE 0.7728087902069092, train R2 -inf\n",
            "Server-side unseen generalization RMSE loss 0.7413360476493835, MAE loss0.7353897094726562, R-Square0.0\n"
          ]
        },
        {
          "output_type": "stream",
          "name": "stderr",
          "text": [
            "DEBUG flwr 2024-01-06 12:50:12,906 | server.py:236 | fit_round 5 received 2 results and 0 failures\n",
            "DEBUG:flwr:fit_round 5 received 2 results and 0 failures\n",
            "INFO flwr 2024-01-06 12:50:12,946 | server.py:125 | fit progress: (5, 0.7691686153411865, {'generalization RMSE': 0.7691686153411865, 'generalization MAE': 0.7585607171058655, 'generalization R2': 0.0}, 16.23329940099984)\n",
            "INFO:flwr:fit progress: (5, 0.7691686153411865, {'generalization RMSE': 0.7691686153411865, 'generalization MAE': 0.7585607171058655, 'generalization R2': 0.0}, 16.23329940099984)\n",
            "DEBUG flwr 2024-01-06 12:50:12,951 | server.py:173 | evaluate_round 5: strategy sampled 2 clients (out of 2)\n",
            "DEBUG:flwr:evaluate_round 5: strategy sampled 2 clients (out of 2)\n",
            "DEBUG flwr 2024-01-06 12:50:13,026 | server.py:187 | evaluate_round 5 received 2 results and 0 failures\n",
            "DEBUG:flwr:evaluate_round 5 received 2 results and 0 failures\n",
            "DEBUG flwr 2024-01-06 12:50:13,030 | server.py:222 | fit_round 6: strategy sampled 2 clients (out of 2)\n",
            "DEBUG:flwr:fit_round 6: strategy sampled 2 clients (out of 2)\n"
          ]
        },
        {
          "output_type": "stream",
          "name": "stdout",
          "text": [
            "Server-side unseen generalization RMSE loss 0.7691686153411865, MAE loss0.7585607171058655, R-Square0.0\n"
          ]
        },
        {
          "output_type": "stream",
          "name": "stderr",
          "text": [
            "DEBUG flwr 2024-01-06 12:50:13,189 | server.py:236 | fit_round 6 received 2 results and 0 failures\n",
            "DEBUG:flwr:fit_round 6 received 2 results and 0 failures\n",
            "INFO flwr 2024-01-06 12:50:13,231 | server.py:125 | fit progress: (6, 0.7422467470169067, {'generalization RMSE': 0.7422467470169067, 'generalization MAE': 0.7362639904022217, 'generalization R2': 0.0}, 16.51879961600025)\n",
            "INFO:flwr:fit progress: (6, 0.7422467470169067, {'generalization RMSE': 0.7422467470169067, 'generalization MAE': 0.7362639904022217, 'generalization R2': 0.0}, 16.51879961600025)\n",
            "DEBUG flwr 2024-01-06 12:50:13,236 | server.py:173 | evaluate_round 6: strategy sampled 2 clients (out of 2)\n",
            "DEBUG:flwr:evaluate_round 6: strategy sampled 2 clients (out of 2)\n",
            "DEBUG flwr 2024-01-06 12:50:13,313 | server.py:187 | evaluate_round 6 received 2 results and 0 failures\n",
            "DEBUG:flwr:evaluate_round 6 received 2 results and 0 failures\n",
            "DEBUG flwr 2024-01-06 12:50:13,316 | server.py:222 | fit_round 7: strategy sampled 2 clients (out of 2)\n",
            "DEBUG:flwr:fit_round 7: strategy sampled 2 clients (out of 2)\n"
          ]
        },
        {
          "output_type": "stream",
          "name": "stdout",
          "text": [
            "Server-side unseen generalization RMSE loss 0.7422467470169067, MAE loss0.7362639904022217, R-Square0.0\n"
          ]
        },
        {
          "output_type": "stream",
          "name": "stderr",
          "text": [
            "DEBUG flwr 2024-01-06 12:50:13,459 | server.py:236 | fit_round 7 received 2 results and 0 failures\n",
            "DEBUG:flwr:fit_round 7 received 2 results and 0 failures\n",
            "INFO flwr 2024-01-06 12:50:13,507 | server.py:125 | fit progress: (7, 0.7801252603530884, {'generalization RMSE': 0.7801252603530884, 'generalization MAE': 0.7707580327987671, 'generalization R2': 0.0}, 16.79400404099988)\n",
            "INFO:flwr:fit progress: (7, 0.7801252603530884, {'generalization RMSE': 0.7801252603530884, 'generalization MAE': 0.7707580327987671, 'generalization R2': 0.0}, 16.79400404099988)\n",
            "DEBUG flwr 2024-01-06 12:50:13,511 | server.py:173 | evaluate_round 7: strategy sampled 2 clients (out of 2)\n",
            "DEBUG:flwr:evaluate_round 7: strategy sampled 2 clients (out of 2)\n",
            "DEBUG flwr 2024-01-06 12:50:13,581 | server.py:187 | evaluate_round 7 received 2 results and 0 failures\n",
            "DEBUG:flwr:evaluate_round 7 received 2 results and 0 failures\n",
            "DEBUG flwr 2024-01-06 12:50:13,584 | server.py:222 | fit_round 8: strategy sampled 2 clients (out of 2)\n",
            "DEBUG:flwr:fit_round 8: strategy sampled 2 clients (out of 2)\n"
          ]
        },
        {
          "output_type": "stream",
          "name": "stdout",
          "text": [
            "Server-side unseen generalization RMSE loss 0.7801252603530884, MAE loss0.7707580327987671, R-Square0.0\n"
          ]
        },
        {
          "output_type": "stream",
          "name": "stderr",
          "text": [
            "DEBUG flwr 2024-01-06 12:50:13,743 | server.py:236 | fit_round 8 received 2 results and 0 failures\n",
            "DEBUG:flwr:fit_round 8 received 2 results and 0 failures\n",
            "INFO flwr 2024-01-06 12:50:13,786 | server.py:125 | fit progress: (8, 0.6537386775016785, {'generalization RMSE': 0.6537386775016785, 'generalization MAE': 0.6461889147758484, 'generalization R2': 0.0}, 17.073199103000206)\n",
            "INFO:flwr:fit progress: (8, 0.6537386775016785, {'generalization RMSE': 0.6537386775016785, 'generalization MAE': 0.6461889147758484, 'generalization R2': 0.0}, 17.073199103000206)\n",
            "DEBUG flwr 2024-01-06 12:50:13,791 | server.py:173 | evaluate_round 8: strategy sampled 2 clients (out of 2)\n",
            "DEBUG:flwr:evaluate_round 8: strategy sampled 2 clients (out of 2)\n",
            "DEBUG flwr 2024-01-06 12:50:13,861 | server.py:187 | evaluate_round 8 received 2 results and 0 failures\n",
            "DEBUG:flwr:evaluate_round 8 received 2 results and 0 failures\n",
            "DEBUG flwr 2024-01-06 12:50:13,864 | server.py:222 | fit_round 9: strategy sampled 2 clients (out of 2)\n",
            "DEBUG:flwr:fit_round 9: strategy sampled 2 clients (out of 2)\n"
          ]
        },
        {
          "output_type": "stream",
          "name": "stdout",
          "text": [
            "Server-side unseen generalization RMSE loss 0.6537386775016785, MAE loss0.6461889147758484, R-Square0.0\n"
          ]
        },
        {
          "output_type": "stream",
          "name": "stderr",
          "text": [
            "DEBUG flwr 2024-01-06 12:50:14,011 | server.py:236 | fit_round 9 received 2 results and 0 failures\n",
            "DEBUG:flwr:fit_round 9 received 2 results and 0 failures\n",
            "INFO flwr 2024-01-06 12:50:14,056 | server.py:125 | fit progress: (9, 0.6354175209999084, {'generalization RMSE': 0.6354175209999084, 'generalization MAE': 0.6238813400268555, 'generalization R2': 0.0}, 17.343244401999982)\n",
            "INFO:flwr:fit progress: (9, 0.6354175209999084, {'generalization RMSE': 0.6354175209999084, 'generalization MAE': 0.6238813400268555, 'generalization R2': 0.0}, 17.343244401999982)\n",
            "DEBUG flwr 2024-01-06 12:50:14,060 | server.py:173 | evaluate_round 9: strategy sampled 2 clients (out of 2)\n",
            "DEBUG:flwr:evaluate_round 9: strategy sampled 2 clients (out of 2)\n",
            "DEBUG flwr 2024-01-06 12:50:14,137 | server.py:187 | evaluate_round 9 received 2 results and 0 failures\n",
            "DEBUG:flwr:evaluate_round 9 received 2 results and 0 failures\n",
            "DEBUG flwr 2024-01-06 12:50:14,142 | server.py:222 | fit_round 10: strategy sampled 2 clients (out of 2)\n",
            "DEBUG:flwr:fit_round 10: strategy sampled 2 clients (out of 2)\n"
          ]
        },
        {
          "output_type": "stream",
          "name": "stdout",
          "text": [
            "Server-side unseen generalization RMSE loss 0.6354175209999084, MAE loss0.6238813400268555, R-Square0.0\n"
          ]
        },
        {
          "output_type": "stream",
          "name": "stderr",
          "text": [
            "DEBUG flwr 2024-01-06 12:50:14,292 | server.py:236 | fit_round 10 received 2 results and 0 failures\n",
            "DEBUG:flwr:fit_round 10 received 2 results and 0 failures\n",
            "INFO flwr 2024-01-06 12:50:14,335 | server.py:125 | fit progress: (10, 0.6961795091629028, {'generalization RMSE': 0.6961795091629028, 'generalization MAE': 0.6867955327033997, 'generalization R2': 0.0}, 17.622112431000005)\n",
            "INFO:flwr:fit progress: (10, 0.6961795091629028, {'generalization RMSE': 0.6961795091629028, 'generalization MAE': 0.6867955327033997, 'generalization R2': 0.0}, 17.622112431000005)\n",
            "DEBUG flwr 2024-01-06 12:50:14,339 | server.py:173 | evaluate_round 10: strategy sampled 2 clients (out of 2)\n",
            "DEBUG:flwr:evaluate_round 10: strategy sampled 2 clients (out of 2)\n",
            "DEBUG flwr 2024-01-06 12:50:14,406 | server.py:187 | evaluate_round 10 received 2 results and 0 failures\n",
            "DEBUG:flwr:evaluate_round 10 received 2 results and 0 failures\n",
            "DEBUG flwr 2024-01-06 12:50:14,412 | server.py:222 | fit_round 11: strategy sampled 2 clients (out of 2)\n",
            "DEBUG:flwr:fit_round 11: strategy sampled 2 clients (out of 2)\n"
          ]
        },
        {
          "output_type": "stream",
          "name": "stdout",
          "text": [
            "Server-side unseen generalization RMSE loss 0.6961795091629028, MAE loss0.6867955327033997, R-Square0.0\n"
          ]
        },
        {
          "output_type": "stream",
          "name": "stderr",
          "text": [
            "DEBUG flwr 2024-01-06 12:50:14,557 | server.py:236 | fit_round 11 received 2 results and 0 failures\n",
            "DEBUG:flwr:fit_round 11 received 2 results and 0 failures\n",
            "INFO flwr 2024-01-06 12:50:14,598 | server.py:125 | fit progress: (11, 0.6858895421028137, {'generalization RMSE': 0.6858895421028137, 'generalization MAE': 0.681545615196228, 'generalization R2': -2.384185791015625e-07}, 17.88484217999985)\n",
            "INFO:flwr:fit progress: (11, 0.6858895421028137, {'generalization RMSE': 0.6858895421028137, 'generalization MAE': 0.681545615196228, 'generalization R2': -2.384185791015625e-07}, 17.88484217999985)\n",
            "DEBUG flwr 2024-01-06 12:50:14,601 | server.py:173 | evaluate_round 11: strategy sampled 2 clients (out of 2)\n",
            "DEBUG:flwr:evaluate_round 11: strategy sampled 2 clients (out of 2)\n",
            "DEBUG flwr 2024-01-06 12:50:14,673 | server.py:187 | evaluate_round 11 received 2 results and 0 failures\n",
            "DEBUG:flwr:evaluate_round 11 received 2 results and 0 failures\n",
            "DEBUG flwr 2024-01-06 12:50:14,677 | server.py:222 | fit_round 12: strategy sampled 2 clients (out of 2)\n",
            "DEBUG:flwr:fit_round 12: strategy sampled 2 clients (out of 2)\n"
          ]
        },
        {
          "output_type": "stream",
          "name": "stdout",
          "text": [
            "Server-side unseen generalization RMSE loss 0.6858895421028137, MAE loss0.681545615196228, R-Square-2.384185791015625e-07\n"
          ]
        },
        {
          "output_type": "stream",
          "name": "stderr",
          "text": [
            "DEBUG flwr 2024-01-06 12:50:14,831 | server.py:236 | fit_round 12 received 2 results and 0 failures\n",
            "DEBUG:flwr:fit_round 12 received 2 results and 0 failures\n",
            "INFO flwr 2024-01-06 12:50:14,882 | server.py:125 | fit progress: (12, 0.6503244042396545, {'generalization RMSE': 0.6503244042396545, 'generalization MAE': 0.642181932926178, 'generalization R2': 0.0}, 18.16924499100014)\n",
            "INFO:flwr:fit progress: (12, 0.6503244042396545, {'generalization RMSE': 0.6503244042396545, 'generalization MAE': 0.642181932926178, 'generalization R2': 0.0}, 18.16924499100014)\n",
            "DEBUG flwr 2024-01-06 12:50:14,886 | server.py:173 | evaluate_round 12: strategy sampled 2 clients (out of 2)\n",
            "DEBUG:flwr:evaluate_round 12: strategy sampled 2 clients (out of 2)\n",
            "DEBUG flwr 2024-01-06 12:50:14,948 | server.py:187 | evaluate_round 12 received 2 results and 0 failures\n",
            "DEBUG:flwr:evaluate_round 12 received 2 results and 0 failures\n",
            "DEBUG flwr 2024-01-06 12:50:14,951 | server.py:222 | fit_round 13: strategy sampled 2 clients (out of 2)\n",
            "DEBUG:flwr:fit_round 13: strategy sampled 2 clients (out of 2)\n"
          ]
        },
        {
          "output_type": "stream",
          "name": "stdout",
          "text": [
            "Server-side unseen generalization RMSE loss 0.6503244042396545, MAE loss0.642181932926178, R-Square0.0\n"
          ]
        },
        {
          "output_type": "stream",
          "name": "stderr",
          "text": [
            "DEBUG flwr 2024-01-06 12:50:15,094 | server.py:236 | fit_round 13 received 2 results and 0 failures\n",
            "DEBUG:flwr:fit_round 13 received 2 results and 0 failures\n",
            "INFO flwr 2024-01-06 12:50:15,139 | server.py:125 | fit progress: (13, 0.6315168142318726, {'generalization RMSE': 0.6315168142318726, 'generalization MAE': 0.6199080944061279, 'generalization R2': 0.0}, 18.426113824999902)\n",
            "INFO:flwr:fit progress: (13, 0.6315168142318726, {'generalization RMSE': 0.6315168142318726, 'generalization MAE': 0.6199080944061279, 'generalization R2': 0.0}, 18.426113824999902)\n",
            "DEBUG flwr 2024-01-06 12:50:15,145 | server.py:173 | evaluate_round 13: strategy sampled 2 clients (out of 2)\n",
            "DEBUG:flwr:evaluate_round 13: strategy sampled 2 clients (out of 2)\n",
            "DEBUG flwr 2024-01-06 12:50:15,215 | server.py:187 | evaluate_round 13 received 2 results and 0 failures\n",
            "DEBUG:flwr:evaluate_round 13 received 2 results and 0 failures\n",
            "DEBUG flwr 2024-01-06 12:50:15,219 | server.py:222 | fit_round 14: strategy sampled 2 clients (out of 2)\n",
            "DEBUG:flwr:fit_round 14: strategy sampled 2 clients (out of 2)\n"
          ]
        },
        {
          "output_type": "stream",
          "name": "stdout",
          "text": [
            "Server-side unseen generalization RMSE loss 0.6315168142318726, MAE loss0.6199080944061279, R-Square0.0\n"
          ]
        },
        {
          "output_type": "stream",
          "name": "stderr",
          "text": [
            "DEBUG flwr 2024-01-06 12:50:15,368 | server.py:236 | fit_round 14 received 2 results and 0 failures\n",
            "DEBUG:flwr:fit_round 14 received 2 results and 0 failures\n",
            "INFO flwr 2024-01-06 12:50:15,410 | server.py:125 | fit progress: (14, 0.661665141582489, {'generalization RMSE': 0.661665141582489, 'generalization MAE': 0.648756206035614, 'generalization R2': 1.1920928955078125e-07}, 18.69719960500015)\n",
            "INFO:flwr:fit progress: (14, 0.661665141582489, {'generalization RMSE': 0.661665141582489, 'generalization MAE': 0.648756206035614, 'generalization R2': 1.1920928955078125e-07}, 18.69719960500015)\n",
            "DEBUG flwr 2024-01-06 12:50:15,413 | server.py:173 | evaluate_round 14: strategy sampled 2 clients (out of 2)\n",
            "DEBUG:flwr:evaluate_round 14: strategy sampled 2 clients (out of 2)\n",
            "DEBUG flwr 2024-01-06 12:50:15,487 | server.py:187 | evaluate_round 14 received 2 results and 0 failures\n",
            "DEBUG:flwr:evaluate_round 14 received 2 results and 0 failures\n",
            "DEBUG flwr 2024-01-06 12:50:15,491 | server.py:222 | fit_round 15: strategy sampled 2 clients (out of 2)\n",
            "DEBUG:flwr:fit_round 15: strategy sampled 2 clients (out of 2)\n"
          ]
        },
        {
          "output_type": "stream",
          "name": "stdout",
          "text": [
            "Server-side unseen generalization RMSE loss 0.661665141582489, MAE loss0.648756206035614, R-Square1.1920928955078125e-07\n"
          ]
        },
        {
          "output_type": "stream",
          "name": "stderr",
          "text": [
            "DEBUG flwr 2024-01-06 12:50:15,640 | server.py:236 | fit_round 15 received 2 results and 0 failures\n",
            "DEBUG:flwr:fit_round 15 received 2 results and 0 failures\n",
            "INFO flwr 2024-01-06 12:50:15,682 | server.py:125 | fit progress: (15, 0.5619062781333923, {'generalization RMSE': 0.5619062781333923, 'generalization MAE': 0.5469416975975037, 'generalization R2': -1.1920928955078125e-07}, 18.96923731300012)\n",
            "INFO:flwr:fit progress: (15, 0.5619062781333923, {'generalization RMSE': 0.5619062781333923, 'generalization MAE': 0.5469416975975037, 'generalization R2': -1.1920928955078125e-07}, 18.96923731300012)\n",
            "DEBUG flwr 2024-01-06 12:50:15,687 | server.py:173 | evaluate_round 15: strategy sampled 2 clients (out of 2)\n",
            "DEBUG:flwr:evaluate_round 15: strategy sampled 2 clients (out of 2)\n",
            "DEBUG flwr 2024-01-06 12:50:15,761 | server.py:187 | evaluate_round 15 received 2 results and 0 failures\n",
            "DEBUG:flwr:evaluate_round 15 received 2 results and 0 failures\n",
            "DEBUG flwr 2024-01-06 12:50:15,765 | server.py:222 | fit_round 16: strategy sampled 2 clients (out of 2)\n",
            "DEBUG:flwr:fit_round 16: strategy sampled 2 clients (out of 2)\n"
          ]
        },
        {
          "output_type": "stream",
          "name": "stdout",
          "text": [
            "Server-side unseen generalization RMSE loss 0.5619062781333923, MAE loss0.5469416975975037, R-Square-1.1920928955078125e-07\n"
          ]
        },
        {
          "output_type": "stream",
          "name": "stderr",
          "text": [
            "DEBUG flwr 2024-01-06 12:50:15,917 | server.py:236 | fit_round 16 received 2 results and 0 failures\n",
            "DEBUG:flwr:fit_round 16 received 2 results and 0 failures\n",
            "INFO flwr 2024-01-06 12:50:15,959 | server.py:125 | fit progress: (16, 0.6010575890541077, {'generalization RMSE': 0.6010575890541077, 'generalization MAE': 0.5871468186378479, 'generalization R2': 0.0}, 19.24601426900017)\n",
            "INFO:flwr:fit progress: (16, 0.6010575890541077, {'generalization RMSE': 0.6010575890541077, 'generalization MAE': 0.5871468186378479, 'generalization R2': 0.0}, 19.24601426900017)\n",
            "DEBUG flwr 2024-01-06 12:50:15,964 | server.py:173 | evaluate_round 16: strategy sampled 2 clients (out of 2)\n",
            "DEBUG:flwr:evaluate_round 16: strategy sampled 2 clients (out of 2)\n",
            "DEBUG flwr 2024-01-06 12:50:16,041 | server.py:187 | evaluate_round 16 received 2 results and 0 failures\n",
            "DEBUG:flwr:evaluate_round 16 received 2 results and 0 failures\n",
            "DEBUG flwr 2024-01-06 12:50:16,045 | server.py:222 | fit_round 17: strategy sampled 2 clients (out of 2)\n",
            "DEBUG:flwr:fit_round 17: strategy sampled 2 clients (out of 2)\n"
          ]
        },
        {
          "output_type": "stream",
          "name": "stdout",
          "text": [
            "Server-side unseen generalization RMSE loss 0.6010575890541077, MAE loss0.5871468186378479, R-Square0.0\n",
            "\u001b[2m\u001b[36m(DefaultActor pid=12956)\u001b[0m [Client 1] fit, config: {'server_round': 16, 'local_epochs': 20}\u001b[32m [repeated 31x across cluster]\u001b[0m\n"
          ]
        },
        {
          "output_type": "stream",
          "name": "stderr",
          "text": [
            "DEBUG flwr 2024-01-06 12:50:16,196 | server.py:236 | fit_round 17 received 2 results and 0 failures\n",
            "DEBUG:flwr:fit_round 17 received 2 results and 0 failures\n",
            "INFO flwr 2024-01-06 12:50:16,243 | server.py:125 | fit progress: (17, 0.5705356001853943, {'generalization RMSE': 0.5705356001853943, 'generalization MAE': 0.5648488402366638, 'generalization R2': 0.0}, 19.529871855000238)\n",
            "INFO:flwr:fit progress: (17, 0.5705356001853943, {'generalization RMSE': 0.5705356001853943, 'generalization MAE': 0.5648488402366638, 'generalization R2': 0.0}, 19.529871855000238)\n",
            "DEBUG flwr 2024-01-06 12:50:16,247 | server.py:173 | evaluate_round 17: strategy sampled 2 clients (out of 2)\n",
            "DEBUG:flwr:evaluate_round 17: strategy sampled 2 clients (out of 2)\n",
            "DEBUG flwr 2024-01-06 12:50:16,324 | server.py:187 | evaluate_round 17 received 2 results and 0 failures\n",
            "DEBUG:flwr:evaluate_round 17 received 2 results and 0 failures\n",
            "DEBUG flwr 2024-01-06 12:50:16,329 | server.py:222 | fit_round 18: strategy sampled 2 clients (out of 2)\n",
            "DEBUG:flwr:fit_round 18: strategy sampled 2 clients (out of 2)\n"
          ]
        },
        {
          "output_type": "stream",
          "name": "stdout",
          "text": [
            "Server-side unseen generalization RMSE loss 0.5705356001853943, MAE loss0.5648488402366638, R-Square0.0\n"
          ]
        },
        {
          "output_type": "stream",
          "name": "stderr",
          "text": [
            "DEBUG flwr 2024-01-06 12:50:16,476 | server.py:236 | fit_round 18 received 2 results and 0 failures\n",
            "DEBUG:flwr:fit_round 18 received 2 results and 0 failures\n",
            "INFO flwr 2024-01-06 12:50:16,518 | server.py:125 | fit progress: (18, 0.5371898412704468, {'generalization RMSE': 0.5371898412704468, 'generalization MAE': 0.5255247354507446, 'generalization R2': 3.5762786865234375e-07}, 19.8052787229999)\n",
            "INFO:flwr:fit progress: (18, 0.5371898412704468, {'generalization RMSE': 0.5371898412704468, 'generalization MAE': 0.5255247354507446, 'generalization R2': 3.5762786865234375e-07}, 19.8052787229999)\n",
            "DEBUG flwr 2024-01-06 12:50:16,522 | server.py:173 | evaluate_round 18: strategy sampled 2 clients (out of 2)\n",
            "DEBUG:flwr:evaluate_round 18: strategy sampled 2 clients (out of 2)\n",
            "DEBUG flwr 2024-01-06 12:50:16,592 | server.py:187 | evaluate_round 18 received 2 results and 0 failures\n",
            "DEBUG:flwr:evaluate_round 18 received 2 results and 0 failures\n",
            "DEBUG flwr 2024-01-06 12:50:16,597 | server.py:222 | fit_round 19: strategy sampled 2 clients (out of 2)\n",
            "DEBUG:flwr:fit_round 19: strategy sampled 2 clients (out of 2)\n"
          ]
        },
        {
          "output_type": "stream",
          "name": "stdout",
          "text": [
            "Server-side unseen generalization RMSE loss 0.5371898412704468, MAE loss0.5255247354507446, R-Square3.5762786865234375e-07\n"
          ]
        },
        {
          "output_type": "stream",
          "name": "stderr",
          "text": [
            "DEBUG flwr 2024-01-06 12:50:16,739 | server.py:236 | fit_round 19 received 2 results and 0 failures\n",
            "DEBUG:flwr:fit_round 19 received 2 results and 0 failures\n",
            "INFO flwr 2024-01-06 12:50:16,793 | server.py:125 | fit progress: (19, 0.527725338935852, {'generalization RMSE': 0.527725338935852, 'generalization MAE': 0.5089156031608582, 'generalization R2': 0.0}, 20.079987302000063)\n",
            "INFO:flwr:fit progress: (19, 0.527725338935852, {'generalization RMSE': 0.527725338935852, 'generalization MAE': 0.5089156031608582, 'generalization R2': 0.0}, 20.079987302000063)\n",
            "DEBUG flwr 2024-01-06 12:50:16,801 | server.py:173 | evaluate_round 19: strategy sampled 2 clients (out of 2)\n",
            "DEBUG:flwr:evaluate_round 19: strategy sampled 2 clients (out of 2)\n",
            "DEBUG flwr 2024-01-06 12:50:16,868 | server.py:187 | evaluate_round 19 received 2 results and 0 failures\n",
            "DEBUG:flwr:evaluate_round 19 received 2 results and 0 failures\n",
            "DEBUG flwr 2024-01-06 12:50:16,871 | server.py:222 | fit_round 20: strategy sampled 2 clients (out of 2)\n",
            "DEBUG:flwr:fit_round 20: strategy sampled 2 clients (out of 2)\n"
          ]
        },
        {
          "output_type": "stream",
          "name": "stdout",
          "text": [
            "Server-side unseen generalization RMSE loss 0.527725338935852, MAE loss0.5089156031608582, R-Square0.0\n",
            "\u001b[2m\u001b[36m(DefaultActor pid=12956)\u001b[0m Epoch 1: train MSE 0.32505959272384644, train MAE 0.5568062663078308, train R2 -365984565166080.0\u001b[32m [repeated 21x across cluster]\u001b[0m\n",
            "\u001b[2m\u001b[36m(DefaultActor pid=12957)\u001b[0m [Client 1] evaluate, config: {}\u001b[32m [repeated 37x across cluster]\u001b[0m\n"
          ]
        },
        {
          "output_type": "stream",
          "name": "stderr",
          "text": [
            "DEBUG flwr 2024-01-06 12:50:17,024 | server.py:236 | fit_round 20 received 2 results and 0 failures\n",
            "DEBUG:flwr:fit_round 20 received 2 results and 0 failures\n",
            "INFO flwr 2024-01-06 12:50:17,066 | server.py:125 | fit progress: (20, 0.4600411057472229, {'generalization RMSE': 0.4600411057472229, 'generalization MAE': 0.446870356798172, 'generalization R2': 1.7881393432617188e-07}, 20.353356661999896)\n",
            "INFO:flwr:fit progress: (20, 0.4600411057472229, {'generalization RMSE': 0.4600411057472229, 'generalization MAE': 0.446870356798172, 'generalization R2': 1.7881393432617188e-07}, 20.353356661999896)\n",
            "DEBUG flwr 2024-01-06 12:50:17,074 | server.py:173 | evaluate_round 20: strategy sampled 2 clients (out of 2)\n",
            "DEBUG:flwr:evaluate_round 20: strategy sampled 2 clients (out of 2)\n",
            "DEBUG flwr 2024-01-06 12:50:17,140 | server.py:187 | evaluate_round 20 received 2 results and 0 failures\n",
            "DEBUG:flwr:evaluate_round 20 received 2 results and 0 failures\n",
            "DEBUG flwr 2024-01-06 12:50:17,143 | server.py:222 | fit_round 21: strategy sampled 2 clients (out of 2)\n",
            "DEBUG:flwr:fit_round 21: strategy sampled 2 clients (out of 2)\n"
          ]
        },
        {
          "output_type": "stream",
          "name": "stdout",
          "text": [
            "Server-side unseen generalization RMSE loss 0.4600411057472229, MAE loss0.446870356798172, R-Square1.7881393432617188e-07\n"
          ]
        },
        {
          "output_type": "stream",
          "name": "stderr",
          "text": [
            "DEBUG flwr 2024-01-06 12:50:17,361 | server.py:236 | fit_round 21 received 2 results and 0 failures\n",
            "DEBUG:flwr:fit_round 21 received 2 results and 0 failures\n",
            "INFO flwr 2024-01-06 12:50:17,425 | server.py:125 | fit progress: (21, 0.48785096406936646, {'generalization RMSE': 0.48785096406936646, 'generalization MAE': 0.47572267055511475, 'generalization R2': 0.0}, 20.711847039000077)\n",
            "INFO:flwr:fit progress: (21, 0.48785096406936646, {'generalization RMSE': 0.48785096406936646, 'generalization MAE': 0.47572267055511475, 'generalization R2': 0.0}, 20.711847039000077)\n",
            "DEBUG flwr 2024-01-06 12:50:17,429 | server.py:173 | evaluate_round 21: strategy sampled 2 clients (out of 2)\n",
            "DEBUG:flwr:evaluate_round 21: strategy sampled 2 clients (out of 2)\n",
            "DEBUG flwr 2024-01-06 12:50:17,529 | server.py:187 | evaluate_round 21 received 2 results and 0 failures\n",
            "DEBUG:flwr:evaluate_round 21 received 2 results and 0 failures\n",
            "DEBUG flwr 2024-01-06 12:50:17,533 | server.py:222 | fit_round 22: strategy sampled 2 clients (out of 2)\n",
            "DEBUG:flwr:fit_round 22: strategy sampled 2 clients (out of 2)\n"
          ]
        },
        {
          "output_type": "stream",
          "name": "stdout",
          "text": [
            "Server-side unseen generalization RMSE loss 0.48785096406936646, MAE loss0.47572267055511475, R-Square0.0\n"
          ]
        },
        {
          "output_type": "stream",
          "name": "stderr",
          "text": [
            "DEBUG flwr 2024-01-06 12:50:17,760 | server.py:236 | fit_round 22 received 2 results and 0 failures\n",
            "DEBUG:flwr:fit_round 22 received 2 results and 0 failures\n",
            "INFO flwr 2024-01-06 12:50:17,843 | server.py:125 | fit progress: (22, 0.42207643389701843, {'generalization RMSE': 0.42207643389701843, 'generalization MAE': 0.40799760818481445, 'generalization R2': 1.1920928955078125e-07}, 21.130034739000166)\n",
            "INFO:flwr:fit progress: (22, 0.42207643389701843, {'generalization RMSE': 0.42207643389701843, 'generalization MAE': 0.40799760818481445, 'generalization R2': 1.1920928955078125e-07}, 21.130034739000166)\n",
            "DEBUG flwr 2024-01-06 12:50:17,847 | server.py:173 | evaluate_round 22: strategy sampled 2 clients (out of 2)\n",
            "DEBUG:flwr:evaluate_round 22: strategy sampled 2 clients (out of 2)\n"
          ]
        },
        {
          "output_type": "stream",
          "name": "stdout",
          "text": [
            "\u001b[2m\u001b[36m(DefaultActor pid=12956)\u001b[0m Epoch 1: train MSE 0.3053067624568939, train MAE 0.5406112670898438, train R2 -inf\u001b[32m [repeated 16x across cluster]\u001b[0m\n",
            "Server-side unseen generalization RMSE loss 0.42207643389701843, MAE loss0.40799760818481445, R-Square1.1920928955078125e-07\n"
          ]
        },
        {
          "output_type": "stream",
          "name": "stderr",
          "text": [
            "DEBUG flwr 2024-01-06 12:50:17,975 | server.py:187 | evaluate_round 22 received 2 results and 0 failures\n",
            "DEBUG:flwr:evaluate_round 22 received 2 results and 0 failures\n",
            "DEBUG flwr 2024-01-06 12:50:17,978 | server.py:222 | fit_round 23: strategy sampled 2 clients (out of 2)\n",
            "DEBUG:flwr:fit_round 23: strategy sampled 2 clients (out of 2)\n",
            "DEBUG flwr 2024-01-06 12:50:18,263 | server.py:236 | fit_round 23 received 2 results and 0 failures\n",
            "DEBUG:flwr:fit_round 23 received 2 results and 0 failures\n",
            "INFO flwr 2024-01-06 12:50:18,323 | server.py:125 | fit progress: (23, 0.42008349299430847, {'generalization RMSE': 0.42008349299430847, 'generalization MAE': 0.4027418792247772, 'generalization R2': 0.0}, 21.61070519199984)\n",
            "INFO:flwr:fit progress: (23, 0.42008349299430847, {'generalization RMSE': 0.42008349299430847, 'generalization MAE': 0.4027418792247772, 'generalization R2': 0.0}, 21.61070519199984)\n",
            "DEBUG flwr 2024-01-06 12:50:18,332 | server.py:173 | evaluate_round 23: strategy sampled 2 clients (out of 2)\n",
            "DEBUG:flwr:evaluate_round 23: strategy sampled 2 clients (out of 2)\n",
            "DEBUG flwr 2024-01-06 12:50:18,436 | server.py:187 | evaluate_round 23 received 2 results and 0 failures\n",
            "DEBUG:flwr:evaluate_round 23 received 2 results and 0 failures\n",
            "DEBUG flwr 2024-01-06 12:50:18,440 | server.py:222 | fit_round 24: strategy sampled 2 clients (out of 2)\n",
            "DEBUG:flwr:fit_round 24: strategy sampled 2 clients (out of 2)\n"
          ]
        },
        {
          "output_type": "stream",
          "name": "stdout",
          "text": [
            "Server-side unseen generalization RMSE loss 0.42008349299430847, MAE loss0.4027418792247772, R-Square0.0\n"
          ]
        },
        {
          "output_type": "stream",
          "name": "stderr",
          "text": [
            "DEBUG flwr 2024-01-06 12:50:18,657 | server.py:236 | fit_round 24 received 2 results and 0 failures\n",
            "DEBUG:flwr:fit_round 24 received 2 results and 0 failures\n",
            "INFO flwr 2024-01-06 12:50:18,712 | server.py:125 | fit progress: (24, 0.47470322251319885, {'generalization RMSE': 0.47470322251319885, 'generalization MAE': 0.45998966693878174, 'generalization R2': -3.5762786865234375e-07}, 21.999404375000267)\n",
            "INFO:flwr:fit progress: (24, 0.47470322251319885, {'generalization RMSE': 0.47470322251319885, 'generalization MAE': 0.45998966693878174, 'generalization R2': -3.5762786865234375e-07}, 21.999404375000267)\n",
            "DEBUG flwr 2024-01-06 12:50:18,721 | server.py:173 | evaluate_round 24: strategy sampled 2 clients (out of 2)\n",
            "DEBUG:flwr:evaluate_round 24: strategy sampled 2 clients (out of 2)\n",
            "DEBUG flwr 2024-01-06 12:50:18,846 | server.py:187 | evaluate_round 24 received 2 results and 0 failures\n",
            "DEBUG:flwr:evaluate_round 24 received 2 results and 0 failures\n",
            "DEBUG flwr 2024-01-06 12:50:18,851 | server.py:222 | fit_round 25: strategy sampled 2 clients (out of 2)\n",
            "DEBUG:flwr:fit_round 25: strategy sampled 2 clients (out of 2)\n"
          ]
        },
        {
          "output_type": "stream",
          "name": "stdout",
          "text": [
            "Server-side unseen generalization RMSE loss 0.47470322251319885, MAE loss0.45998966693878174, R-Square-3.5762786865234375e-07\n"
          ]
        },
        {
          "output_type": "stream",
          "name": "stderr",
          "text": [
            "DEBUG flwr 2024-01-06 12:50:19,080 | server.py:236 | fit_round 25 received 2 results and 0 failures\n",
            "DEBUG:flwr:fit_round 25 received 2 results and 0 failures\n",
            "INFO flwr 2024-01-06 12:50:19,137 | server.py:125 | fit progress: (25, 0.4233509600162506, {'generalization RMSE': 0.4233509600162506, 'generalization MAE': 0.40931597352027893, 'generalization R2': -1.1920928955078125e-07}, 22.42427303300019)\n",
            "INFO:flwr:fit progress: (25, 0.4233509600162506, {'generalization RMSE': 0.4233509600162506, 'generalization MAE': 0.40931597352027893, 'generalization R2': -1.1920928955078125e-07}, 22.42427303300019)\n",
            "DEBUG flwr 2024-01-06 12:50:19,141 | server.py:173 | evaluate_round 25: strategy sampled 2 clients (out of 2)\n",
            "DEBUG:flwr:evaluate_round 25: strategy sampled 2 clients (out of 2)\n",
            "DEBUG flwr 2024-01-06 12:50:19,248 | server.py:187 | evaluate_round 25 received 2 results and 0 failures\n",
            "DEBUG:flwr:evaluate_round 25 received 2 results and 0 failures\n",
            "DEBUG flwr 2024-01-06 12:50:19,260 | server.py:222 | fit_round 26: strategy sampled 2 clients (out of 2)\n",
            "DEBUG:flwr:fit_round 26: strategy sampled 2 clients (out of 2)\n"
          ]
        },
        {
          "output_type": "stream",
          "name": "stdout",
          "text": [
            "Server-side unseen generalization RMSE loss 0.4233509600162506, MAE loss0.40931597352027893, R-Square-1.1920928955078125e-07\n"
          ]
        },
        {
          "output_type": "stream",
          "name": "stderr",
          "text": [
            "DEBUG flwr 2024-01-06 12:50:19,517 | server.py:236 | fit_round 26 received 2 results and 0 failures\n",
            "DEBUG:flwr:fit_round 26 received 2 results and 0 failures\n",
            "INFO flwr 2024-01-06 12:50:19,586 | server.py:125 | fit progress: (26, 0.41156888008117676, {'generalization RMSE': 0.41156888008117676, 'generalization MAE': 0.3984162509441376, 'generalization R2': -1.1920928955078125e-07}, 22.873082869999962)\n",
            "INFO:flwr:fit progress: (26, 0.41156888008117676, {'generalization RMSE': 0.41156888008117676, 'generalization MAE': 0.3984162509441376, 'generalization R2': -1.1920928955078125e-07}, 22.873082869999962)\n",
            "DEBUG flwr 2024-01-06 12:50:19,595 | server.py:173 | evaluate_round 26: strategy sampled 2 clients (out of 2)\n",
            "DEBUG:flwr:evaluate_round 26: strategy sampled 2 clients (out of 2)\n",
            "DEBUG flwr 2024-01-06 12:50:19,688 | server.py:187 | evaluate_round 26 received 2 results and 0 failures\n",
            "DEBUG:flwr:evaluate_round 26 received 2 results and 0 failures\n",
            "DEBUG flwr 2024-01-06 12:50:19,691 | server.py:222 | fit_round 27: strategy sampled 2 clients (out of 2)\n",
            "DEBUG:flwr:fit_round 27: strategy sampled 2 clients (out of 2)\n"
          ]
        },
        {
          "output_type": "stream",
          "name": "stdout",
          "text": [
            "Server-side unseen generalization RMSE loss 0.41156888008117676, MAE loss0.3984162509441376, R-Square-1.1920928955078125e-07\n"
          ]
        },
        {
          "output_type": "stream",
          "name": "stderr",
          "text": [
            "DEBUG flwr 2024-01-06 12:50:19,971 | server.py:236 | fit_round 27 received 2 results and 0 failures\n",
            "DEBUG:flwr:fit_round 27 received 2 results and 0 failures\n",
            "INFO flwr 2024-01-06 12:50:20,037 | server.py:125 | fit progress: (27, 0.33980414271354675, {'generalization RMSE': 0.33980414271354675, 'generalization MAE': 0.31933140754699707, 'generalization R2': -2.384185791015625e-07}, 23.324259972000164)\n",
            "INFO:flwr:fit progress: (27, 0.33980414271354675, {'generalization RMSE': 0.33980414271354675, 'generalization MAE': 0.31933140754699707, 'generalization R2': -2.384185791015625e-07}, 23.324259972000164)\n",
            "DEBUG flwr 2024-01-06 12:50:20,042 | server.py:173 | evaluate_round 27: strategy sampled 2 clients (out of 2)\n",
            "DEBUG:flwr:evaluate_round 27: strategy sampled 2 clients (out of 2)\n",
            "DEBUG flwr 2024-01-06 12:50:20,157 | server.py:187 | evaluate_round 27 received 2 results and 0 failures\n",
            "DEBUG:flwr:evaluate_round 27 received 2 results and 0 failures\n",
            "DEBUG flwr 2024-01-06 12:50:20,160 | server.py:222 | fit_round 28: strategy sampled 2 clients (out of 2)\n",
            "DEBUG:flwr:fit_round 28: strategy sampled 2 clients (out of 2)\n"
          ]
        },
        {
          "output_type": "stream",
          "name": "stdout",
          "text": [
            "Server-side unseen generalization RMSE loss 0.33980414271354675, MAE loss0.31933140754699707, R-Square-2.384185791015625e-07\n"
          ]
        },
        {
          "output_type": "stream",
          "name": "stderr",
          "text": [
            "DEBUG flwr 2024-01-06 12:50:20,391 | server.py:236 | fit_round 28 received 2 results and 0 failures\n",
            "DEBUG:flwr:fit_round 28 received 2 results and 0 failures\n",
            "INFO flwr 2024-01-06 12:50:20,448 | server.py:125 | fit progress: (28, 0.3732553720474243, {'generalization RMSE': 0.3732553720474243, 'generalization MAE': 0.35389843583106995, 'generalization R2': -2.384185791015625e-07}, 23.73489334900023)\n",
            "INFO:flwr:fit progress: (28, 0.3732553720474243, {'generalization RMSE': 0.3732553720474243, 'generalization MAE': 0.35389843583106995, 'generalization R2': -2.384185791015625e-07}, 23.73489334900023)\n",
            "DEBUG flwr 2024-01-06 12:50:20,454 | server.py:173 | evaluate_round 28: strategy sampled 2 clients (out of 2)\n",
            "DEBUG:flwr:evaluate_round 28: strategy sampled 2 clients (out of 2)\n",
            "DEBUG flwr 2024-01-06 12:50:20,552 | server.py:187 | evaluate_round 28 received 2 results and 0 failures\n",
            "DEBUG:flwr:evaluate_round 28 received 2 results and 0 failures\n",
            "DEBUG flwr 2024-01-06 12:50:20,556 | server.py:222 | fit_round 29: strategy sampled 2 clients (out of 2)\n",
            "DEBUG:flwr:fit_round 29: strategy sampled 2 clients (out of 2)\n"
          ]
        },
        {
          "output_type": "stream",
          "name": "stdout",
          "text": [
            "Server-side unseen generalization RMSE loss 0.3732553720474243, MAE loss0.35389843583106995, R-Square-2.384185791015625e-07\n"
          ]
        },
        {
          "output_type": "stream",
          "name": "stderr",
          "text": [
            "DEBUG flwr 2024-01-06 12:50:20,797 | server.py:236 | fit_round 29 received 2 results and 0 failures\n",
            "DEBUG:flwr:fit_round 29 received 2 results and 0 failures\n",
            "INFO flwr 2024-01-06 12:50:20,864 | server.py:125 | fit progress: (29, 0.4076143503189087, {'generalization RMSE': 0.4076143503189087, 'generalization MAE': 0.39985811710357666, 'generalization R2': 0.0}, 24.15083505199982)\n",
            "INFO:flwr:fit progress: (29, 0.4076143503189087, {'generalization RMSE': 0.4076143503189087, 'generalization MAE': 0.39985811710357666, 'generalization R2': 0.0}, 24.15083505199982)\n",
            "DEBUG flwr 2024-01-06 12:50:20,868 | server.py:173 | evaluate_round 29: strategy sampled 2 clients (out of 2)\n",
            "DEBUG:flwr:evaluate_round 29: strategy sampled 2 clients (out of 2)\n",
            "DEBUG flwr 2024-01-06 12:50:20,975 | server.py:187 | evaluate_round 29 received 2 results and 0 failures\n",
            "DEBUG:flwr:evaluate_round 29 received 2 results and 0 failures\n",
            "DEBUG flwr 2024-01-06 12:50:20,983 | server.py:222 | fit_round 30: strategy sampled 2 clients (out of 2)\n",
            "DEBUG:flwr:fit_round 30: strategy sampled 2 clients (out of 2)\n"
          ]
        },
        {
          "output_type": "stream",
          "name": "stdout",
          "text": [
            "Server-side unseen generalization RMSE loss 0.4076143503189087, MAE loss0.39985811710357666, R-Square0.0\n",
            "\u001b[2m\u001b[36m(DefaultActor pid=12956)\u001b[0m [Client 1] fit, config: {'server_round': 29, 'local_epochs': 20}\u001b[32m [repeated 26x across cluster]\u001b[0m\n"
          ]
        },
        {
          "output_type": "stream",
          "name": "stderr",
          "text": [
            "DEBUG flwr 2024-01-06 12:50:21,241 | server.py:236 | fit_round 30 received 2 results and 0 failures\n",
            "DEBUG:flwr:fit_round 30 received 2 results and 0 failures\n",
            "INFO flwr 2024-01-06 12:50:21,309 | server.py:125 | fit progress: (30, 0.29554155468940735, {'generalization RMSE': 0.29554155468940735, 'generalization MAE': 0.2809826135635376, 'generalization R2': 0.0}, 24.596654645999934)\n",
            "INFO:flwr:fit progress: (30, 0.29554155468940735, {'generalization RMSE': 0.29554155468940735, 'generalization MAE': 0.2809826135635376, 'generalization R2': 0.0}, 24.596654645999934)\n",
            "DEBUG flwr 2024-01-06 12:50:21,318 | server.py:173 | evaluate_round 30: strategy sampled 2 clients (out of 2)\n",
            "DEBUG:flwr:evaluate_round 30: strategy sampled 2 clients (out of 2)\n",
            "DEBUG flwr 2024-01-06 12:50:21,432 | server.py:187 | evaluate_round 30 received 2 results and 0 failures\n",
            "DEBUG:flwr:evaluate_round 30 received 2 results and 0 failures\n",
            "DEBUG flwr 2024-01-06 12:50:21,435 | server.py:222 | fit_round 31: strategy sampled 2 clients (out of 2)\n",
            "DEBUG:flwr:fit_round 31: strategy sampled 2 clients (out of 2)\n"
          ]
        },
        {
          "output_type": "stream",
          "name": "stdout",
          "text": [
            "Server-side unseen generalization RMSE loss 0.29554155468940735, MAE loss0.2809826135635376, R-Square0.0\n"
          ]
        },
        {
          "output_type": "stream",
          "name": "stderr",
          "text": [
            "DEBUG flwr 2024-01-06 12:50:21,673 | server.py:236 | fit_round 31 received 2 results and 0 failures\n",
            "DEBUG:flwr:fit_round 31 received 2 results and 0 failures\n",
            "INFO flwr 2024-01-06 12:50:21,726 | server.py:125 | fit progress: (31, 0.22346244752407074, {'generalization RMSE': 0.22346244752407074, 'generalization MAE': 0.21326136589050293, 'generalization R2': 0.0}, 25.013558829999965)\n",
            "INFO:flwr:fit progress: (31, 0.22346244752407074, {'generalization RMSE': 0.22346244752407074, 'generalization MAE': 0.21326136589050293, 'generalization R2': 0.0}, 25.013558829999965)\n",
            "DEBUG flwr 2024-01-06 12:50:21,730 | server.py:173 | evaluate_round 31: strategy sampled 2 clients (out of 2)\n",
            "DEBUG:flwr:evaluate_round 31: strategy sampled 2 clients (out of 2)\n",
            "DEBUG flwr 2024-01-06 12:50:21,845 | server.py:187 | evaluate_round 31 received 2 results and 0 failures\n",
            "DEBUG:flwr:evaluate_round 31 received 2 results and 0 failures\n",
            "DEBUG flwr 2024-01-06 12:50:21,856 | server.py:222 | fit_round 32: strategy sampled 2 clients (out of 2)\n",
            "DEBUG:flwr:fit_round 32: strategy sampled 2 clients (out of 2)\n"
          ]
        },
        {
          "output_type": "stream",
          "name": "stdout",
          "text": [
            "Server-side unseen generalization RMSE loss 0.22346244752407074, MAE loss0.21326136589050293, R-Square0.0\n",
            "\u001b[2m\u001b[36m(DefaultActor pid=12956)\u001b[0m Epoch 1: train MSE 0.10953028500080109, train MAE 0.29959121346473694, train R2 -123320137678848.0\u001b[32m [repeated 11x across cluster]\u001b[0m\n"
          ]
        },
        {
          "output_type": "stream",
          "name": "stderr",
          "text": [
            "DEBUG flwr 2024-01-06 12:50:22,103 | server.py:236 | fit_round 32 received 2 results and 0 failures\n",
            "DEBUG:flwr:fit_round 32 received 2 results and 0 failures\n",
            "INFO flwr 2024-01-06 12:50:22,165 | server.py:125 | fit progress: (32, 0.3293207287788391, {'generalization RMSE': 0.3293207287788391, 'generalization MAE': 0.31601402163505554, 'generalization R2': -3.5762786865234375e-07}, 25.45195211700002)\n",
            "INFO:flwr:fit progress: (32, 0.3293207287788391, {'generalization RMSE': 0.3293207287788391, 'generalization MAE': 0.31601402163505554, 'generalization R2': -3.5762786865234375e-07}, 25.45195211700002)\n",
            "DEBUG flwr 2024-01-06 12:50:22,169 | server.py:173 | evaluate_round 32: strategy sampled 2 clients (out of 2)\n"
          ]
        },
        {
          "output_type": "stream",
          "name": "stdout",
          "text": [
            "\u001b[2m\u001b[36m(DefaultActor pid=12956)\u001b[0m [Client 0] evaluate, config: {}\u001b[32m [repeated 24x across cluster]\u001b[0m\n",
            "Server-side unseen generalization RMSE loss 0.3293207287788391, MAE loss0.31601402163505554, R-Square-3.5762786865234375e-07\n"
          ]
        },
        {
          "output_type": "stream",
          "name": "stderr",
          "text": [
            "DEBUG:flwr:evaluate_round 32: strategy sampled 2 clients (out of 2)\n",
            "DEBUG flwr 2024-01-06 12:50:22,283 | server.py:187 | evaluate_round 32 received 2 results and 0 failures\n",
            "DEBUG:flwr:evaluate_round 32 received 2 results and 0 failures\n",
            "DEBUG flwr 2024-01-06 12:50:22,291 | server.py:222 | fit_round 33: strategy sampled 2 clients (out of 2)\n",
            "DEBUG:flwr:fit_round 33: strategy sampled 2 clients (out of 2)\n",
            "DEBUG flwr 2024-01-06 12:50:22,526 | server.py:236 | fit_round 33 received 2 results and 0 failures\n",
            "DEBUG:flwr:fit_round 33 received 2 results and 0 failures\n",
            "INFO flwr 2024-01-06 12:50:22,586 | server.py:125 | fit progress: (33, 0.2873459458351135, {'generalization RMSE': 0.2873459458351135, 'generalization MAE': 0.2597291171550751, 'generalization R2': 0.0}, 25.873272502999953)\n",
            "INFO:flwr:fit progress: (33, 0.2873459458351135, {'generalization RMSE': 0.2873459458351135, 'generalization MAE': 0.2597291171550751, 'generalization R2': 0.0}, 25.873272502999953)\n",
            "DEBUG flwr 2024-01-06 12:50:22,597 | server.py:173 | evaluate_round 33: strategy sampled 2 clients (out of 2)\n",
            "DEBUG:flwr:evaluate_round 33: strategy sampled 2 clients (out of 2)\n",
            "DEBUG flwr 2024-01-06 12:50:22,707 | server.py:187 | evaluate_round 33 received 2 results and 0 failures\n",
            "DEBUG:flwr:evaluate_round 33 received 2 results and 0 failures\n",
            "DEBUG flwr 2024-01-06 12:50:22,711 | server.py:222 | fit_round 34: strategy sampled 2 clients (out of 2)\n",
            "DEBUG:flwr:fit_round 34: strategy sampled 2 clients (out of 2)\n"
          ]
        },
        {
          "output_type": "stream",
          "name": "stdout",
          "text": [
            "Server-side unseen generalization RMSE loss 0.2873459458351135, MAE loss0.2597291171550751, R-Square0.0\n",
            "\u001b[2m\u001b[36m(DefaultActor pid=12957)\u001b[0m Epoch 1: train MSE 0.11381740868091583, train MAE 0.3211483657360077, train R2 -inf\u001b[32m [repeated 13x across cluster]\u001b[0m\n"
          ]
        },
        {
          "output_type": "stream",
          "name": "stderr",
          "text": [
            "DEBUG flwr 2024-01-06 12:50:22,868 | server.py:236 | fit_round 34 received 2 results and 0 failures\n",
            "DEBUG:flwr:fit_round 34 received 2 results and 0 failures\n",
            "INFO flwr 2024-01-06 12:50:22,908 | server.py:125 | fit progress: (34, 0.35745158791542053, {'generalization RMSE': 0.35745158791542053, 'generalization MAE': 0.3511646091938019, 'generalization R2': 0.0}, 26.195502455000224)\n",
            "INFO:flwr:fit progress: (34, 0.35745158791542053, {'generalization RMSE': 0.35745158791542053, 'generalization MAE': 0.3511646091938019, 'generalization R2': 0.0}, 26.195502455000224)\n",
            "DEBUG flwr 2024-01-06 12:50:22,912 | server.py:173 | evaluate_round 34: strategy sampled 2 clients (out of 2)\n",
            "DEBUG:flwr:evaluate_round 34: strategy sampled 2 clients (out of 2)\n",
            "DEBUG flwr 2024-01-06 12:50:22,982 | server.py:187 | evaluate_round 34 received 2 results and 0 failures\n",
            "DEBUG:flwr:evaluate_round 34 received 2 results and 0 failures\n",
            "DEBUG flwr 2024-01-06 12:50:22,986 | server.py:222 | fit_round 35: strategy sampled 2 clients (out of 2)\n",
            "DEBUG:flwr:fit_round 35: strategy sampled 2 clients (out of 2)\n"
          ]
        },
        {
          "output_type": "stream",
          "name": "stdout",
          "text": [
            "Server-side unseen generalization RMSE loss 0.35745158791542053, MAE loss0.3511646091938019, R-Square0.0\n"
          ]
        },
        {
          "output_type": "stream",
          "name": "stderr",
          "text": [
            "DEBUG flwr 2024-01-06 12:50:23,157 | server.py:236 | fit_round 35 received 2 results and 0 failures\n",
            "DEBUG:flwr:fit_round 35 received 2 results and 0 failures\n",
            "INFO flwr 2024-01-06 12:50:23,203 | server.py:125 | fit progress: (35, 0.25018438696861267, {'generalization RMSE': 0.25018438696861267, 'generalization MAE': 0.22099696099758148, 'generalization R2': -3.5762786865234375e-07}, 26.49049938600001)\n",
            "INFO:flwr:fit progress: (35, 0.25018438696861267, {'generalization RMSE': 0.25018438696861267, 'generalization MAE': 0.22099696099758148, 'generalization R2': -3.5762786865234375e-07}, 26.49049938600001)\n",
            "DEBUG flwr 2024-01-06 12:50:23,207 | server.py:173 | evaluate_round 35: strategy sampled 2 clients (out of 2)\n",
            "DEBUG:flwr:evaluate_round 35: strategy sampled 2 clients (out of 2)\n",
            "DEBUG flwr 2024-01-06 12:50:23,287 | server.py:187 | evaluate_round 35 received 2 results and 0 failures\n",
            "DEBUG:flwr:evaluate_round 35 received 2 results and 0 failures\n",
            "DEBUG flwr 2024-01-06 12:50:23,294 | server.py:222 | fit_round 36: strategy sampled 2 clients (out of 2)\n",
            "DEBUG:flwr:fit_round 36: strategy sampled 2 clients (out of 2)\n"
          ]
        },
        {
          "output_type": "stream",
          "name": "stdout",
          "text": [
            "Server-side unseen generalization RMSE loss 0.25018438696861267, MAE loss0.22099696099758148, R-Square-3.5762786865234375e-07\n"
          ]
        },
        {
          "output_type": "stream",
          "name": "stderr",
          "text": [
            "DEBUG flwr 2024-01-06 12:50:23,435 | server.py:236 | fit_round 36 received 2 results and 0 failures\n",
            "DEBUG:flwr:fit_round 36 received 2 results and 0 failures\n",
            "INFO flwr 2024-01-06 12:50:23,480 | server.py:125 | fit progress: (36, 0.24975991249084473, {'generalization RMSE': 0.24975991249084473, 'generalization MAE': 0.22139295935630798, 'generalization R2': 0.0}, 26.7672584930001)\n",
            "INFO:flwr:fit progress: (36, 0.24975991249084473, {'generalization RMSE': 0.24975991249084473, 'generalization MAE': 0.22139295935630798, 'generalization R2': 0.0}, 26.7672584930001)\n",
            "DEBUG flwr 2024-01-06 12:50:23,484 | server.py:173 | evaluate_round 36: strategy sampled 2 clients (out of 2)\n",
            "DEBUG:flwr:evaluate_round 36: strategy sampled 2 clients (out of 2)\n",
            "DEBUG flwr 2024-01-06 12:50:23,559 | server.py:187 | evaluate_round 36 received 2 results and 0 failures\n",
            "DEBUG:flwr:evaluate_round 36 received 2 results and 0 failures\n",
            "DEBUG flwr 2024-01-06 12:50:23,566 | server.py:222 | fit_round 37: strategy sampled 2 clients (out of 2)\n",
            "DEBUG:flwr:fit_round 37: strategy sampled 2 clients (out of 2)\n"
          ]
        },
        {
          "output_type": "stream",
          "name": "stdout",
          "text": [
            "Server-side unseen generalization RMSE loss 0.24975991249084473, MAE loss0.22139295935630798, R-Square0.0\n"
          ]
        },
        {
          "output_type": "stream",
          "name": "stderr",
          "text": [
            "DEBUG flwr 2024-01-06 12:50:23,708 | server.py:236 | fit_round 37 received 2 results and 0 failures\n",
            "DEBUG:flwr:fit_round 37 received 2 results and 0 failures\n",
            "INFO flwr 2024-01-06 12:50:23,752 | server.py:125 | fit progress: (37, 0.1752660572528839, {'generalization RMSE': 0.1752660572528839, 'generalization MAE': 0.15367472171783447, 'generalization R2': -5.960464477539062e-07}, 27.039426952000213)\n",
            "INFO:flwr:fit progress: (37, 0.1752660572528839, {'generalization RMSE': 0.1752660572528839, 'generalization MAE': 0.15367472171783447, 'generalization R2': -5.960464477539062e-07}, 27.039426952000213)\n",
            "DEBUG flwr 2024-01-06 12:50:23,757 | server.py:173 | evaluate_round 37: strategy sampled 2 clients (out of 2)\n",
            "DEBUG:flwr:evaluate_round 37: strategy sampled 2 clients (out of 2)\n",
            "DEBUG flwr 2024-01-06 12:50:23,826 | server.py:187 | evaluate_round 37 received 2 results and 0 failures\n",
            "DEBUG:flwr:evaluate_round 37 received 2 results and 0 failures\n",
            "DEBUG flwr 2024-01-06 12:50:23,829 | server.py:222 | fit_round 38: strategy sampled 2 clients (out of 2)\n",
            "DEBUG:flwr:fit_round 38: strategy sampled 2 clients (out of 2)\n"
          ]
        },
        {
          "output_type": "stream",
          "name": "stdout",
          "text": [
            "Server-side unseen generalization RMSE loss 0.1752660572528839, MAE loss0.15367472171783447, R-Square-5.960464477539062e-07\n"
          ]
        },
        {
          "output_type": "stream",
          "name": "stderr",
          "text": [
            "DEBUG flwr 2024-01-06 12:50:23,966 | server.py:236 | fit_round 38 received 2 results and 0 failures\n",
            "DEBUG:flwr:fit_round 38 received 2 results and 0 failures\n",
            "INFO flwr 2024-01-06 12:50:24,018 | server.py:125 | fit progress: (38, 0.20357072353363037, {'generalization RMSE': 0.20357072353363037, 'generalization MAE': 0.17692981660366058, 'generalization R2': -3.5762786865234375e-07}, 27.305494142000043)\n",
            "INFO:flwr:fit progress: (38, 0.20357072353363037, {'generalization RMSE': 0.20357072353363037, 'generalization MAE': 0.17692981660366058, 'generalization R2': -3.5762786865234375e-07}, 27.305494142000043)\n",
            "DEBUG flwr 2024-01-06 12:50:24,023 | server.py:173 | evaluate_round 38: strategy sampled 2 clients (out of 2)\n",
            "DEBUG:flwr:evaluate_round 38: strategy sampled 2 clients (out of 2)\n",
            "DEBUG flwr 2024-01-06 12:50:24,095 | server.py:187 | evaluate_round 38 received 2 results and 0 failures\n",
            "DEBUG:flwr:evaluate_round 38 received 2 results and 0 failures\n",
            "DEBUG flwr 2024-01-06 12:50:24,102 | server.py:222 | fit_round 39: strategy sampled 2 clients (out of 2)\n",
            "DEBUG:flwr:fit_round 39: strategy sampled 2 clients (out of 2)\n"
          ]
        },
        {
          "output_type": "stream",
          "name": "stdout",
          "text": [
            "Server-side unseen generalization RMSE loss 0.20357072353363037, MAE loss0.17692981660366058, R-Square-3.5762786865234375e-07\n"
          ]
        },
        {
          "output_type": "stream",
          "name": "stderr",
          "text": [
            "DEBUG flwr 2024-01-06 12:50:24,262 | server.py:236 | fit_round 39 received 2 results and 0 failures\n",
            "DEBUG:flwr:fit_round 39 received 2 results and 0 failures\n",
            "INFO flwr 2024-01-06 12:50:24,313 | server.py:125 | fit progress: (39, 0.15896466374397278, {'generalization RMSE': 0.15896466374397278, 'generalization MAE': 0.1488979309797287, 'generalization R2': -7.152557373046875e-07}, 27.600386754999818)\n",
            "INFO:flwr:fit progress: (39, 0.15896466374397278, {'generalization RMSE': 0.15896466374397278, 'generalization MAE': 0.1488979309797287, 'generalization R2': -7.152557373046875e-07}, 27.600386754999818)\n",
            "DEBUG flwr 2024-01-06 12:50:24,317 | server.py:173 | evaluate_round 39: strategy sampled 2 clients (out of 2)\n",
            "DEBUG:flwr:evaluate_round 39: strategy sampled 2 clients (out of 2)\n",
            "DEBUG flwr 2024-01-06 12:50:24,383 | server.py:187 | evaluate_round 39 received 2 results and 0 failures\n",
            "DEBUG:flwr:evaluate_round 39 received 2 results and 0 failures\n",
            "DEBUG flwr 2024-01-06 12:50:24,386 | server.py:222 | fit_round 40: strategy sampled 2 clients (out of 2)\n",
            "DEBUG:flwr:fit_round 40: strategy sampled 2 clients (out of 2)\n"
          ]
        },
        {
          "output_type": "stream",
          "name": "stdout",
          "text": [
            "Server-side unseen generalization RMSE loss 0.15896466374397278, MAE loss0.1488979309797287, R-Square-7.152557373046875e-07\n"
          ]
        },
        {
          "output_type": "stream",
          "name": "stderr",
          "text": [
            "DEBUG flwr 2024-01-06 12:50:24,535 | server.py:236 | fit_round 40 received 2 results and 0 failures\n",
            "DEBUG:flwr:fit_round 40 received 2 results and 0 failures\n",
            "INFO flwr 2024-01-06 12:50:24,574 | server.py:125 | fit progress: (40, 0.2162778079509735, {'generalization RMSE': 0.2162778079509735, 'generalization MAE': 0.1949232965707779, 'generalization R2': 3.5762786865234375e-07}, 27.86129761500024)\n",
            "INFO:flwr:fit progress: (40, 0.2162778079509735, {'generalization RMSE': 0.2162778079509735, 'generalization MAE': 0.1949232965707779, 'generalization R2': 3.5762786865234375e-07}, 27.86129761500024)\n",
            "DEBUG flwr 2024-01-06 12:50:24,584 | server.py:173 | evaluate_round 40: strategy sampled 2 clients (out of 2)\n",
            "DEBUG:flwr:evaluate_round 40: strategy sampled 2 clients (out of 2)\n",
            "DEBUG flwr 2024-01-06 12:50:24,649 | server.py:187 | evaluate_round 40 received 2 results and 0 failures\n",
            "DEBUG:flwr:evaluate_round 40 received 2 results and 0 failures\n",
            "DEBUG flwr 2024-01-06 12:50:24,653 | server.py:222 | fit_round 41: strategy sampled 2 clients (out of 2)\n",
            "DEBUG:flwr:fit_round 41: strategy sampled 2 clients (out of 2)\n"
          ]
        },
        {
          "output_type": "stream",
          "name": "stdout",
          "text": [
            "Server-side unseen generalization RMSE loss 0.2162778079509735, MAE loss0.1949232965707779, R-Square3.5762786865234375e-07\n"
          ]
        },
        {
          "output_type": "stream",
          "name": "stderr",
          "text": [
            "DEBUG flwr 2024-01-06 12:50:24,799 | server.py:236 | fit_round 41 received 2 results and 0 failures\n",
            "DEBUG:flwr:fit_round 41 received 2 results and 0 failures\n",
            "INFO flwr 2024-01-06 12:50:24,843 | server.py:125 | fit progress: (41, 0.1873691827058792, {'generalization RMSE': 0.1873691827058792, 'generalization MAE': 0.1680935025215149, 'generalization R2': -4.76837158203125e-07}, 28.130176696000035)\n",
            "INFO:flwr:fit progress: (41, 0.1873691827058792, {'generalization RMSE': 0.1873691827058792, 'generalization MAE': 0.1680935025215149, 'generalization R2': -4.76837158203125e-07}, 28.130176696000035)\n",
            "DEBUG flwr 2024-01-06 12:50:24,847 | server.py:173 | evaluate_round 41: strategy sampled 2 clients (out of 2)\n",
            "DEBUG:flwr:evaluate_round 41: strategy sampled 2 clients (out of 2)\n",
            "DEBUG flwr 2024-01-06 12:50:24,919 | server.py:187 | evaluate_round 41 received 2 results and 0 failures\n",
            "DEBUG:flwr:evaluate_round 41 received 2 results and 0 failures\n",
            "DEBUG flwr 2024-01-06 12:50:24,924 | server.py:222 | fit_round 42: strategy sampled 2 clients (out of 2)\n",
            "DEBUG:flwr:fit_round 42: strategy sampled 2 clients (out of 2)\n"
          ]
        },
        {
          "output_type": "stream",
          "name": "stdout",
          "text": [
            "Server-side unseen generalization RMSE loss 0.1873691827058792, MAE loss0.1680935025215149, R-Square-4.76837158203125e-07\n"
          ]
        },
        {
          "output_type": "stream",
          "name": "stderr",
          "text": [
            "DEBUG flwr 2024-01-06 12:50:25,068 | server.py:236 | fit_round 42 received 2 results and 0 failures\n",
            "DEBUG:flwr:fit_round 42 received 2 results and 0 failures\n",
            "INFO flwr 2024-01-06 12:50:25,107 | server.py:125 | fit progress: (42, 0.2150699496269226, {'generalization RMSE': 0.2150699496269226, 'generalization MAE': 0.18868407607078552, 'generalization R2': 9.5367431640625e-07}, 28.393966039000134)\n",
            "INFO:flwr:fit progress: (42, 0.2150699496269226, {'generalization RMSE': 0.2150699496269226, 'generalization MAE': 0.18868407607078552, 'generalization R2': 9.5367431640625e-07}, 28.393966039000134)\n",
            "DEBUG flwr 2024-01-06 12:50:25,110 | server.py:173 | evaluate_round 42: strategy sampled 2 clients (out of 2)\n",
            "DEBUG:flwr:evaluate_round 42: strategy sampled 2 clients (out of 2)\n",
            "DEBUG flwr 2024-01-06 12:50:25,182 | server.py:187 | evaluate_round 42 received 2 results and 0 failures\n",
            "DEBUG:flwr:evaluate_round 42 received 2 results and 0 failures\n",
            "DEBUG flwr 2024-01-06 12:50:25,188 | server.py:222 | fit_round 43: strategy sampled 2 clients (out of 2)\n",
            "DEBUG:flwr:fit_round 43: strategy sampled 2 clients (out of 2)\n"
          ]
        },
        {
          "output_type": "stream",
          "name": "stdout",
          "text": [
            "Server-side unseen generalization RMSE loss 0.2150699496269226, MAE loss0.18868407607078552, R-Square9.5367431640625e-07\n"
          ]
        },
        {
          "output_type": "stream",
          "name": "stderr",
          "text": [
            "DEBUG flwr 2024-01-06 12:50:25,351 | server.py:236 | fit_round 43 received 2 results and 0 failures\n",
            "DEBUG:flwr:fit_round 43 received 2 results and 0 failures\n",
            "INFO flwr 2024-01-06 12:50:25,390 | server.py:125 | fit progress: (43, 0.12010610848665237, {'generalization RMSE': 0.12010610848665237, 'generalization MAE': 0.11002922058105469, 'generalization R2': 1.3113021850585938e-06}, 28.6775393060002)\n",
            "INFO:flwr:fit progress: (43, 0.12010610848665237, {'generalization RMSE': 0.12010610848665237, 'generalization MAE': 0.11002922058105469, 'generalization R2': 1.3113021850585938e-06}, 28.6775393060002)\n",
            "DEBUG flwr 2024-01-06 12:50:25,395 | server.py:173 | evaluate_round 43: strategy sampled 2 clients (out of 2)\n",
            "DEBUG:flwr:evaluate_round 43: strategy sampled 2 clients (out of 2)\n",
            "DEBUG flwr 2024-01-06 12:50:25,470 | server.py:187 | evaluate_round 43 received 2 results and 0 failures\n",
            "DEBUG:flwr:evaluate_round 43 received 2 results and 0 failures\n",
            "DEBUG flwr 2024-01-06 12:50:25,472 | server.py:222 | fit_round 44: strategy sampled 2 clients (out of 2)\n",
            "DEBUG:flwr:fit_round 44: strategy sampled 2 clients (out of 2)\n"
          ]
        },
        {
          "output_type": "stream",
          "name": "stdout",
          "text": [
            "Server-side unseen generalization RMSE loss 0.12010610848665237, MAE loss0.11002922058105469, R-Square1.3113021850585938e-06\n"
          ]
        },
        {
          "output_type": "stream",
          "name": "stderr",
          "text": [
            "DEBUG flwr 2024-01-06 12:50:25,615 | server.py:236 | fit_round 44 received 2 results and 0 failures\n",
            "DEBUG:flwr:fit_round 44 received 2 results and 0 failures\n",
            "INFO flwr 2024-01-06 12:50:25,657 | server.py:125 | fit progress: (44, 0.13498614728450775, {'generalization RMSE': 0.13498614728450775, 'generalization MAE': 0.09571066498756409, 'generalization R2': 1.0132789611816406e-06}, 28.944762437999998)\n",
            "INFO:flwr:fit progress: (44, 0.13498614728450775, {'generalization RMSE': 0.13498614728450775, 'generalization MAE': 0.09571066498756409, 'generalization R2': 1.0132789611816406e-06}, 28.944762437999998)\n",
            "DEBUG flwr 2024-01-06 12:50:25,662 | server.py:173 | evaluate_round 44: strategy sampled 2 clients (out of 2)\n",
            "DEBUG:flwr:evaluate_round 44: strategy sampled 2 clients (out of 2)\n",
            "DEBUG flwr 2024-01-06 12:50:25,735 | server.py:187 | evaluate_round 44 received 2 results and 0 failures\n",
            "DEBUG:flwr:evaluate_round 44 received 2 results and 0 failures\n",
            "DEBUG flwr 2024-01-06 12:50:25,738 | server.py:222 | fit_round 45: strategy sampled 2 clients (out of 2)\n",
            "DEBUG:flwr:fit_round 45: strategy sampled 2 clients (out of 2)\n"
          ]
        },
        {
          "output_type": "stream",
          "name": "stdout",
          "text": [
            "Server-side unseen generalization RMSE loss 0.13498614728450775, MAE loss0.09571066498756409, R-Square1.0132789611816406e-06\n"
          ]
        },
        {
          "output_type": "stream",
          "name": "stderr",
          "text": [
            "DEBUG flwr 2024-01-06 12:50:25,881 | server.py:236 | fit_round 45 received 2 results and 0 failures\n",
            "DEBUG:flwr:fit_round 45 received 2 results and 0 failures\n",
            "INFO flwr 2024-01-06 12:50:25,922 | server.py:125 | fit progress: (45, 0.11433127522468567, {'generalization RMSE': 0.11433127522468567, 'generalization MAE': 0.10429143905639648, 'generalization R2': 2.980232238769531e-07}, 29.209600002000116)\n",
            "INFO:flwr:fit progress: (45, 0.11433127522468567, {'generalization RMSE': 0.11433127522468567, 'generalization MAE': 0.10429143905639648, 'generalization R2': 2.980232238769531e-07}, 29.209600002000116)\n",
            "DEBUG flwr 2024-01-06 12:50:25,927 | server.py:173 | evaluate_round 45: strategy sampled 2 clients (out of 2)\n",
            "DEBUG:flwr:evaluate_round 45: strategy sampled 2 clients (out of 2)\n",
            "DEBUG flwr 2024-01-06 12:50:25,995 | server.py:187 | evaluate_round 45 received 2 results and 0 failures\n",
            "DEBUG:flwr:evaluate_round 45 received 2 results and 0 failures\n",
            "DEBUG flwr 2024-01-06 12:50:25,998 | server.py:222 | fit_round 46: strategy sampled 2 clients (out of 2)\n",
            "DEBUG:flwr:fit_round 46: strategy sampled 2 clients (out of 2)\n"
          ]
        },
        {
          "output_type": "stream",
          "name": "stdout",
          "text": [
            "Server-side unseen generalization RMSE loss 0.11433127522468567, MAE loss0.10429143905639648, R-Square2.980232238769531e-07\n",
            "\u001b[2m\u001b[36m(DefaultActor pid=12956)\u001b[0m [Client 0] fit, config: {'server_round': 46, 'local_epochs': 20}\u001b[32m [repeated 33x across cluster]\u001b[0m\n"
          ]
        },
        {
          "output_type": "stream",
          "name": "stderr",
          "text": [
            "DEBUG flwr 2024-01-06 12:50:26,152 | server.py:236 | fit_round 46 received 2 results and 0 failures\n",
            "DEBUG:flwr:fit_round 46 received 2 results and 0 failures\n",
            "INFO flwr 2024-01-06 12:50:26,193 | server.py:125 | fit progress: (46, 0.10993674397468567, {'generalization RMSE': 0.10993674397468567, 'generalization MAE': 0.09818926453590393, 'generalization R2': 2.384185791015625e-07}, 29.48035876999984)\n",
            "INFO:flwr:fit progress: (46, 0.10993674397468567, {'generalization RMSE': 0.10993674397468567, 'generalization MAE': 0.09818926453590393, 'generalization R2': 2.384185791015625e-07}, 29.48035876999984)\n",
            "DEBUG flwr 2024-01-06 12:50:26,197 | server.py:173 | evaluate_round 46: strategy sampled 2 clients (out of 2)\n",
            "DEBUG:flwr:evaluate_round 46: strategy sampled 2 clients (out of 2)\n",
            "DEBUG flwr 2024-01-06 12:50:26,283 | server.py:187 | evaluate_round 46 received 2 results and 0 failures\n",
            "DEBUG:flwr:evaluate_round 46 received 2 results and 0 failures\n",
            "DEBUG flwr 2024-01-06 12:50:26,287 | server.py:222 | fit_round 47: strategy sampled 2 clients (out of 2)\n",
            "DEBUG:flwr:fit_round 47: strategy sampled 2 clients (out of 2)\n"
          ]
        },
        {
          "output_type": "stream",
          "name": "stdout",
          "text": [
            "Server-side unseen generalization RMSE loss 0.10993674397468567, MAE loss0.09818926453590393, R-Square2.384185791015625e-07\n"
          ]
        },
        {
          "output_type": "stream",
          "name": "stderr",
          "text": [
            "DEBUG flwr 2024-01-06 12:50:26,438 | server.py:236 | fit_round 47 received 2 results and 0 failures\n",
            "DEBUG:flwr:fit_round 47 received 2 results and 0 failures\n",
            "INFO flwr 2024-01-06 12:50:26,480 | server.py:125 | fit progress: (47, 0.12823431193828583, {'generalization RMSE': 0.12823431193828583, 'generalization MAE': 0.10890272259712219, 'generalization R2': -3.5762786865234375e-07}, 29.767054986999938)\n",
            "INFO:flwr:fit progress: (47, 0.12823431193828583, {'generalization RMSE': 0.12823431193828583, 'generalization MAE': 0.10890272259712219, 'generalization R2': -3.5762786865234375e-07}, 29.767054986999938)\n",
            "DEBUG flwr 2024-01-06 12:50:26,485 | server.py:173 | evaluate_round 47: strategy sampled 2 clients (out of 2)\n",
            "DEBUG:flwr:evaluate_round 47: strategy sampled 2 clients (out of 2)\n",
            "DEBUG flwr 2024-01-06 12:50:26,556 | server.py:187 | evaluate_round 47 received 2 results and 0 failures\n",
            "DEBUG:flwr:evaluate_round 47 received 2 results and 0 failures\n",
            "DEBUG flwr 2024-01-06 12:50:26,559 | server.py:222 | fit_round 48: strategy sampled 2 clients (out of 2)\n",
            "DEBUG:flwr:fit_round 48: strategy sampled 2 clients (out of 2)\n"
          ]
        },
        {
          "output_type": "stream",
          "name": "stdout",
          "text": [
            "Server-side unseen generalization RMSE loss 0.12823431193828583, MAE loss0.10890272259712219, R-Square-3.5762786865234375e-07\n"
          ]
        },
        {
          "output_type": "stream",
          "name": "stderr",
          "text": [
            "DEBUG flwr 2024-01-06 12:50:26,708 | server.py:236 | fit_round 48 received 2 results and 0 failures\n",
            "DEBUG:flwr:fit_round 48 received 2 results and 0 failures\n",
            "INFO flwr 2024-01-06 12:50:26,750 | server.py:125 | fit progress: (48, 0.11635039001703262, {'generalization RMSE': 0.11635039001703262, 'generalization MAE': 0.08862189203500748, 'generalization R2': -3.5762786865234375e-07}, 30.03726500499988)\n",
            "INFO:flwr:fit progress: (48, 0.11635039001703262, {'generalization RMSE': 0.11635039001703262, 'generalization MAE': 0.08862189203500748, 'generalization R2': -3.5762786865234375e-07}, 30.03726500499988)\n",
            "DEBUG flwr 2024-01-06 12:50:26,754 | server.py:173 | evaluate_round 48: strategy sampled 2 clients (out of 2)\n",
            "DEBUG:flwr:evaluate_round 48: strategy sampled 2 clients (out of 2)\n",
            "DEBUG flwr 2024-01-06 12:50:26,823 | server.py:187 | evaluate_round 48 received 2 results and 0 failures\n",
            "DEBUG:flwr:evaluate_round 48 received 2 results and 0 failures\n",
            "DEBUG flwr 2024-01-06 12:50:26,829 | server.py:222 | fit_round 49: strategy sampled 2 clients (out of 2)\n",
            "DEBUG:flwr:fit_round 49: strategy sampled 2 clients (out of 2)\n"
          ]
        },
        {
          "output_type": "stream",
          "name": "stdout",
          "text": [
            "Server-side unseen generalization RMSE loss 0.11635039001703262, MAE loss0.08862189203500748, R-Square-3.5762786865234375e-07\n",
            "\u001b[2m\u001b[36m(DefaultActor pid=12956)\u001b[0m Epoch 1: train MSE 0.015512894839048386, train MAE 0.10475563257932663, train R2 -4366491713536.0\u001b[32m [repeated 15x across cluster]\u001b[0m\n"
          ]
        },
        {
          "output_type": "stream",
          "name": "stderr",
          "text": [
            "DEBUG flwr 2024-01-06 12:50:26,981 | server.py:236 | fit_round 49 received 2 results and 0 failures\n",
            "DEBUG:flwr:fit_round 49 received 2 results and 0 failures\n",
            "INFO flwr 2024-01-06 12:50:27,034 | server.py:125 | fit progress: (49, 0.10750515758991241, {'generalization RMSE': 0.10750515758991241, 'generalization MAE': 0.08578655123710632, 'generalization R2': 0.0}, 30.321370615999967)\n",
            "INFO:flwr:fit progress: (49, 0.10750515758991241, {'generalization RMSE': 0.10750515758991241, 'generalization MAE': 0.08578655123710632, 'generalization R2': 0.0}, 30.321370615999967)\n",
            "DEBUG flwr 2024-01-06 12:50:27,038 | server.py:173 | evaluate_round 49: strategy sampled 2 clients (out of 2)\n",
            "DEBUG:flwr:evaluate_round 49: strategy sampled 2 clients (out of 2)\n",
            "DEBUG flwr 2024-01-06 12:50:27,115 | server.py:187 | evaluate_round 49 received 2 results and 0 failures\n",
            "DEBUG:flwr:evaluate_round 49 received 2 results and 0 failures\n",
            "DEBUG flwr 2024-01-06 12:50:27,118 | server.py:222 | fit_round 50: strategy sampled 2 clients (out of 2)\n",
            "DEBUG:flwr:fit_round 50: strategy sampled 2 clients (out of 2)\n"
          ]
        },
        {
          "output_type": "stream",
          "name": "stdout",
          "text": [
            "\u001b[2m\u001b[36m(DefaultActor pid=12956)\u001b[0m [Client 0] evaluate, config: {}\u001b[32m [repeated 34x across cluster]\u001b[0m\n",
            "Server-side unseen generalization RMSE loss 0.10750515758991241, MAE loss0.08578655123710632, R-Square0.0\n"
          ]
        },
        {
          "output_type": "stream",
          "name": "stderr",
          "text": [
            "DEBUG flwr 2024-01-06 12:50:27,281 | server.py:236 | fit_round 50 received 2 results and 0 failures\n",
            "DEBUG:flwr:fit_round 50 received 2 results and 0 failures\n",
            "INFO flwr 2024-01-06 12:50:27,338 | server.py:125 | fit progress: (50, 0.10128619521856308, {'generalization RMSE': 0.10128619521856308, 'generalization MAE': 0.08060738444328308, 'generalization R2': 1.7881393432617188e-07}, 30.625631288000022)\n",
            "INFO:flwr:fit progress: (50, 0.10128619521856308, {'generalization RMSE': 0.10128619521856308, 'generalization MAE': 0.08060738444328308, 'generalization R2': 1.7881393432617188e-07}, 30.625631288000022)\n",
            "DEBUG flwr 2024-01-06 12:50:27,342 | server.py:173 | evaluate_round 50: strategy sampled 2 clients (out of 2)\n",
            "DEBUG:flwr:evaluate_round 50: strategy sampled 2 clients (out of 2)\n",
            "DEBUG flwr 2024-01-06 12:50:27,412 | server.py:187 | evaluate_round 50 received 2 results and 0 failures\n",
            "DEBUG:flwr:evaluate_round 50 received 2 results and 0 failures\n",
            "DEBUG flwr 2024-01-06 12:50:27,415 | server.py:222 | fit_round 51: strategy sampled 2 clients (out of 2)\n",
            "DEBUG:flwr:fit_round 51: strategy sampled 2 clients (out of 2)\n"
          ]
        },
        {
          "output_type": "stream",
          "name": "stdout",
          "text": [
            "Server-side unseen generalization RMSE loss 0.10128619521856308, MAE loss0.08060738444328308, R-Square1.7881393432617188e-07\n"
          ]
        },
        {
          "output_type": "stream",
          "name": "stderr",
          "text": [
            "DEBUG flwr 2024-01-06 12:50:27,573 | server.py:236 | fit_round 51 received 2 results and 0 failures\n",
            "DEBUG:flwr:fit_round 51 received 2 results and 0 failures\n",
            "INFO flwr 2024-01-06 12:50:27,614 | server.py:125 | fit progress: (51, 0.09410856664180756, {'generalization RMSE': 0.09410856664180756, 'generalization MAE': 0.07835908979177475, 'generalization R2': -4.76837158203125e-07}, 30.901503093999963)\n",
            "INFO:flwr:fit progress: (51, 0.09410856664180756, {'generalization RMSE': 0.09410856664180756, 'generalization MAE': 0.07835908979177475, 'generalization R2': -4.76837158203125e-07}, 30.901503093999963)\n",
            "DEBUG flwr 2024-01-06 12:50:27,619 | server.py:173 | evaluate_round 51: strategy sampled 2 clients (out of 2)\n",
            "DEBUG:flwr:evaluate_round 51: strategy sampled 2 clients (out of 2)\n",
            "DEBUG flwr 2024-01-06 12:50:27,693 | server.py:187 | evaluate_round 51 received 2 results and 0 failures\n",
            "DEBUG:flwr:evaluate_round 51 received 2 results and 0 failures\n",
            "DEBUG flwr 2024-01-06 12:50:27,704 | server.py:222 | fit_round 52: strategy sampled 2 clients (out of 2)\n",
            "DEBUG:flwr:fit_round 52: strategy sampled 2 clients (out of 2)\n"
          ]
        },
        {
          "output_type": "stream",
          "name": "stdout",
          "text": [
            "Server-side unseen generalization RMSE loss 0.09410856664180756, MAE loss0.07835908979177475, R-Square-4.76837158203125e-07\n",
            "\u001b[2m\u001b[36m(DefaultActor pid=12957)\u001b[0m Epoch 1: train MSE 0.016078434884548187, train MAE 0.10755403339862823, train R2 -inf\u001b[32m [repeated 22x across cluster]\u001b[0m\n"
          ]
        },
        {
          "output_type": "stream",
          "name": "stderr",
          "text": [
            "DEBUG flwr 2024-01-06 12:50:27,852 | server.py:236 | fit_round 52 received 2 results and 0 failures\n",
            "DEBUG:flwr:fit_round 52 received 2 results and 0 failures\n",
            "INFO flwr 2024-01-06 12:50:27,891 | server.py:125 | fit progress: (52, 0.11847627907991409, {'generalization RMSE': 0.11847627907991409, 'generalization MAE': 0.0911417081952095, 'generalization R2': 2.980232238769531e-07}, 31.178318396000122)\n",
            "INFO:flwr:fit progress: (52, 0.11847627907991409, {'generalization RMSE': 0.11847627907991409, 'generalization MAE': 0.0911417081952095, 'generalization R2': 2.980232238769531e-07}, 31.178318396000122)\n",
            "DEBUG flwr 2024-01-06 12:50:27,895 | server.py:173 | evaluate_round 52: strategy sampled 2 clients (out of 2)\n",
            "DEBUG:flwr:evaluate_round 52: strategy sampled 2 clients (out of 2)\n",
            "DEBUG flwr 2024-01-06 12:50:27,970 | server.py:187 | evaluate_round 52 received 2 results and 0 failures\n",
            "DEBUG:flwr:evaluate_round 52 received 2 results and 0 failures\n",
            "DEBUG flwr 2024-01-06 12:50:27,974 | server.py:222 | fit_round 53: strategy sampled 2 clients (out of 2)\n",
            "DEBUG:flwr:fit_round 53: strategy sampled 2 clients (out of 2)\n"
          ]
        },
        {
          "output_type": "stream",
          "name": "stdout",
          "text": [
            "Server-side unseen generalization RMSE loss 0.11847627907991409, MAE loss0.0911417081952095, R-Square2.980232238769531e-07\n"
          ]
        },
        {
          "output_type": "stream",
          "name": "stderr",
          "text": [
            "DEBUG flwr 2024-01-06 12:50:28,120 | server.py:236 | fit_round 53 received 2 results and 0 failures\n",
            "DEBUG:flwr:fit_round 53 received 2 results and 0 failures\n",
            "INFO flwr 2024-01-06 12:50:28,164 | server.py:125 | fit progress: (53, 0.10464861989021301, {'generalization RMSE': 0.10464861989021301, 'generalization MAE': 0.0857098251581192, 'generalization R2': -2.384185791015625e-07}, 31.451425105)\n",
            "INFO:flwr:fit progress: (53, 0.10464861989021301, {'generalization RMSE': 0.10464861989021301, 'generalization MAE': 0.0857098251581192, 'generalization R2': -2.384185791015625e-07}, 31.451425105)\n",
            "DEBUG flwr 2024-01-06 12:50:28,168 | server.py:173 | evaluate_round 53: strategy sampled 2 clients (out of 2)\n",
            "DEBUG:flwr:evaluate_round 53: strategy sampled 2 clients (out of 2)\n",
            "DEBUG flwr 2024-01-06 12:50:28,240 | server.py:187 | evaluate_round 53 received 2 results and 0 failures\n",
            "DEBUG:flwr:evaluate_round 53 received 2 results and 0 failures\n",
            "DEBUG flwr 2024-01-06 12:50:28,245 | server.py:222 | fit_round 54: strategy sampled 2 clients (out of 2)\n",
            "DEBUG:flwr:fit_round 54: strategy sampled 2 clients (out of 2)\n"
          ]
        },
        {
          "output_type": "stream",
          "name": "stdout",
          "text": [
            "Server-side unseen generalization RMSE loss 0.10464861989021301, MAE loss0.0857098251581192, R-Square-2.384185791015625e-07\n"
          ]
        },
        {
          "output_type": "stream",
          "name": "stderr",
          "text": [
            "DEBUG flwr 2024-01-06 12:50:28,412 | server.py:236 | fit_round 54 received 2 results and 0 failures\n",
            "DEBUG:flwr:fit_round 54 received 2 results and 0 failures\n",
            "INFO flwr 2024-01-06 12:50:28,455 | server.py:125 | fit progress: (54, 0.11856570094823837, {'generalization RMSE': 0.11856570094823837, 'generalization MAE': 0.10207050293684006, 'generalization R2': -2.384185791015625e-07}, 31.742793322000125)\n",
            "INFO:flwr:fit progress: (54, 0.11856570094823837, {'generalization RMSE': 0.11856570094823837, 'generalization MAE': 0.10207050293684006, 'generalization R2': -2.384185791015625e-07}, 31.742793322000125)\n",
            "DEBUG flwr 2024-01-06 12:50:28,460 | server.py:173 | evaluate_round 54: strategy sampled 2 clients (out of 2)\n",
            "DEBUG:flwr:evaluate_round 54: strategy sampled 2 clients (out of 2)\n",
            "DEBUG flwr 2024-01-06 12:50:28,539 | server.py:187 | evaluate_round 54 received 2 results and 0 failures\n",
            "DEBUG:flwr:evaluate_round 54 received 2 results and 0 failures\n",
            "DEBUG flwr 2024-01-06 12:50:28,543 | server.py:222 | fit_round 55: strategy sampled 2 clients (out of 2)\n",
            "DEBUG:flwr:fit_round 55: strategy sampled 2 clients (out of 2)\n"
          ]
        },
        {
          "output_type": "stream",
          "name": "stdout",
          "text": [
            "Server-side unseen generalization RMSE loss 0.11856570094823837, MAE loss0.10207050293684006, R-Square-2.384185791015625e-07\n"
          ]
        },
        {
          "output_type": "stream",
          "name": "stderr",
          "text": [
            "DEBUG flwr 2024-01-06 12:50:28,688 | server.py:236 | fit_round 55 received 2 results and 0 failures\n",
            "DEBUG:flwr:fit_round 55 received 2 results and 0 failures\n",
            "INFO flwr 2024-01-06 12:50:28,729 | server.py:125 | fit progress: (55, 0.10743629932403564, {'generalization RMSE': 0.10743629932403564, 'generalization MAE': 0.09596899151802063, 'generalization R2': 3.5762786865234375e-07}, 32.01646147500014)\n",
            "INFO:flwr:fit progress: (55, 0.10743629932403564, {'generalization RMSE': 0.10743629932403564, 'generalization MAE': 0.09596899151802063, 'generalization R2': 3.5762786865234375e-07}, 32.01646147500014)\n",
            "DEBUG flwr 2024-01-06 12:50:28,733 | server.py:173 | evaluate_round 55: strategy sampled 2 clients (out of 2)\n",
            "DEBUG:flwr:evaluate_round 55: strategy sampled 2 clients (out of 2)\n",
            "DEBUG flwr 2024-01-06 12:50:28,811 | server.py:187 | evaluate_round 55 received 2 results and 0 failures\n",
            "DEBUG:flwr:evaluate_round 55 received 2 results and 0 failures\n",
            "DEBUG flwr 2024-01-06 12:50:28,815 | server.py:222 | fit_round 56: strategy sampled 2 clients (out of 2)\n",
            "DEBUG:flwr:fit_round 56: strategy sampled 2 clients (out of 2)\n"
          ]
        },
        {
          "output_type": "stream",
          "name": "stdout",
          "text": [
            "Server-side unseen generalization RMSE loss 0.10743629932403564, MAE loss0.09596899151802063, R-Square3.5762786865234375e-07\n"
          ]
        },
        {
          "output_type": "stream",
          "name": "stderr",
          "text": [
            "DEBUG flwr 2024-01-06 12:50:28,964 | server.py:236 | fit_round 56 received 2 results and 0 failures\n",
            "DEBUG:flwr:fit_round 56 received 2 results and 0 failures\n",
            "INFO flwr 2024-01-06 12:50:29,010 | server.py:125 | fit progress: (56, 0.10817870497703552, {'generalization RMSE': 0.10817870497703552, 'generalization MAE': 0.08568030595779419, 'generalization R2': -1.1920928955078125e-07}, 32.29706773499993)\n",
            "INFO:flwr:fit progress: (56, 0.10817870497703552, {'generalization RMSE': 0.10817870497703552, 'generalization MAE': 0.08568030595779419, 'generalization R2': -1.1920928955078125e-07}, 32.29706773499993)\n",
            "DEBUG flwr 2024-01-06 12:50:29,014 | server.py:173 | evaluate_round 56: strategy sampled 2 clients (out of 2)\n",
            "DEBUG:flwr:evaluate_round 56: strategy sampled 2 clients (out of 2)\n",
            "DEBUG flwr 2024-01-06 12:50:29,092 | server.py:187 | evaluate_round 56 received 2 results and 0 failures\n",
            "DEBUG:flwr:evaluate_round 56 received 2 results and 0 failures\n",
            "DEBUG flwr 2024-01-06 12:50:29,098 | server.py:222 | fit_round 57: strategy sampled 2 clients (out of 2)\n",
            "DEBUG:flwr:fit_round 57: strategy sampled 2 clients (out of 2)\n"
          ]
        },
        {
          "output_type": "stream",
          "name": "stdout",
          "text": [
            "Server-side unseen generalization RMSE loss 0.10817870497703552, MAE loss0.08568030595779419, R-Square-1.1920928955078125e-07\n"
          ]
        },
        {
          "output_type": "stream",
          "name": "stderr",
          "text": [
            "DEBUG flwr 2024-01-06 12:50:29,253 | server.py:236 | fit_round 57 received 2 results and 0 failures\n",
            "DEBUG:flwr:fit_round 57 received 2 results and 0 failures\n",
            "INFO flwr 2024-01-06 12:50:29,300 | server.py:125 | fit progress: (57, 0.08832444995641708, {'generalization RMSE': 0.08832444995641708, 'generalization MAE': 0.05704917758703232, 'generalization R2': -1.1920928955078125e-07}, 32.58744212300007)\n",
            "INFO:flwr:fit progress: (57, 0.08832444995641708, {'generalization RMSE': 0.08832444995641708, 'generalization MAE': 0.05704917758703232, 'generalization R2': -1.1920928955078125e-07}, 32.58744212300007)\n",
            "DEBUG flwr 2024-01-06 12:50:29,306 | server.py:173 | evaluate_round 57: strategy sampled 2 clients (out of 2)\n",
            "DEBUG:flwr:evaluate_round 57: strategy sampled 2 clients (out of 2)\n",
            "DEBUG flwr 2024-01-06 12:50:29,389 | server.py:187 | evaluate_round 57 received 2 results and 0 failures\n",
            "DEBUG:flwr:evaluate_round 57 received 2 results and 0 failures\n",
            "DEBUG flwr 2024-01-06 12:50:29,393 | server.py:222 | fit_round 58: strategy sampled 2 clients (out of 2)\n",
            "DEBUG:flwr:fit_round 58: strategy sampled 2 clients (out of 2)\n"
          ]
        },
        {
          "output_type": "stream",
          "name": "stdout",
          "text": [
            "Server-side unseen generalization RMSE loss 0.08832444995641708, MAE loss0.05704917758703232, R-Square-1.1920928955078125e-07\n"
          ]
        },
        {
          "output_type": "stream",
          "name": "stderr",
          "text": [
            "DEBUG flwr 2024-01-06 12:50:29,539 | server.py:236 | fit_round 58 received 2 results and 0 failures\n",
            "DEBUG:flwr:fit_round 58 received 2 results and 0 failures\n",
            "INFO flwr 2024-01-06 12:50:29,578 | server.py:125 | fit progress: (58, 0.07578728348016739, {'generalization RMSE': 0.07578728348016739, 'generalization MAE': 0.05766019597649574, 'generalization R2': -4.76837158203125e-07}, 32.86544423700025)\n",
            "INFO:flwr:fit progress: (58, 0.07578728348016739, {'generalization RMSE': 0.07578728348016739, 'generalization MAE': 0.05766019597649574, 'generalization R2': -4.76837158203125e-07}, 32.86544423700025)\n",
            "DEBUG flwr 2024-01-06 12:50:29,582 | server.py:173 | evaluate_round 58: strategy sampled 2 clients (out of 2)\n",
            "DEBUG:flwr:evaluate_round 58: strategy sampled 2 clients (out of 2)\n",
            "DEBUG flwr 2024-01-06 12:50:29,651 | server.py:187 | evaluate_round 58 received 2 results and 0 failures\n",
            "DEBUG:flwr:evaluate_round 58 received 2 results and 0 failures\n",
            "DEBUG flwr 2024-01-06 12:50:29,654 | server.py:222 | fit_round 59: strategy sampled 2 clients (out of 2)\n",
            "DEBUG:flwr:fit_round 59: strategy sampled 2 clients (out of 2)\n"
          ]
        },
        {
          "output_type": "stream",
          "name": "stdout",
          "text": [
            "Server-side unseen generalization RMSE loss 0.07578728348016739, MAE loss0.05766019597649574, R-Square-4.76837158203125e-07\n"
          ]
        },
        {
          "output_type": "stream",
          "name": "stderr",
          "text": [
            "DEBUG flwr 2024-01-06 12:50:29,808 | server.py:236 | fit_round 59 received 2 results and 0 failures\n",
            "DEBUG:flwr:fit_round 59 received 2 results and 0 failures\n",
            "INFO flwr 2024-01-06 12:50:29,854 | server.py:125 | fit progress: (59, 0.08630022406578064, {'generalization RMSE': 0.08630022406578064, 'generalization MAE': 0.05155692994594574, 'generalization R2': 1.7881393432617188e-07}, 33.14136119400018)\n",
            "INFO:flwr:fit progress: (59, 0.08630022406578064, {'generalization RMSE': 0.08630022406578064, 'generalization MAE': 0.05155692994594574, 'generalization R2': 1.7881393432617188e-07}, 33.14136119400018)\n",
            "DEBUG flwr 2024-01-06 12:50:29,859 | server.py:173 | evaluate_round 59: strategy sampled 2 clients (out of 2)\n",
            "DEBUG:flwr:evaluate_round 59: strategy sampled 2 clients (out of 2)\n",
            "DEBUG flwr 2024-01-06 12:50:29,928 | server.py:187 | evaluate_round 59 received 2 results and 0 failures\n",
            "DEBUG:flwr:evaluate_round 59 received 2 results and 0 failures\n",
            "DEBUG flwr 2024-01-06 12:50:29,931 | server.py:222 | fit_round 60: strategy sampled 2 clients (out of 2)\n",
            "DEBUG:flwr:fit_round 60: strategy sampled 2 clients (out of 2)\n"
          ]
        },
        {
          "output_type": "stream",
          "name": "stdout",
          "text": [
            "Server-side unseen generalization RMSE loss 0.08630022406578064, MAE loss0.05155692994594574, R-Square1.7881393432617188e-07\n"
          ]
        },
        {
          "output_type": "stream",
          "name": "stderr",
          "text": [
            "DEBUG flwr 2024-01-06 12:50:30,087 | server.py:236 | fit_round 60 received 2 results and 0 failures\n",
            "DEBUG:flwr:fit_round 60 received 2 results and 0 failures\n",
            "INFO flwr 2024-01-06 12:50:30,131 | server.py:125 | fit progress: (60, 0.10625720769166946, {'generalization RMSE': 0.10625720769166946, 'generalization MAE': 0.07969710230827332, 'generalization R2': 2.384185791015625e-07}, 33.41846204900003)\n",
            "INFO:flwr:fit progress: (60, 0.10625720769166946, {'generalization RMSE': 0.10625720769166946, 'generalization MAE': 0.07969710230827332, 'generalization R2': 2.384185791015625e-07}, 33.41846204900003)\n",
            "DEBUG flwr 2024-01-06 12:50:30,136 | server.py:173 | evaluate_round 60: strategy sampled 2 clients (out of 2)\n",
            "DEBUG:flwr:evaluate_round 60: strategy sampled 2 clients (out of 2)\n",
            "DEBUG flwr 2024-01-06 12:50:30,208 | server.py:187 | evaluate_round 60 received 2 results and 0 failures\n",
            "DEBUG:flwr:evaluate_round 60 received 2 results and 0 failures\n",
            "DEBUG flwr 2024-01-06 12:50:30,215 | server.py:222 | fit_round 61: strategy sampled 2 clients (out of 2)\n",
            "DEBUG:flwr:fit_round 61: strategy sampled 2 clients (out of 2)\n"
          ]
        },
        {
          "output_type": "stream",
          "name": "stdout",
          "text": [
            "Server-side unseen generalization RMSE loss 0.10625720769166946, MAE loss0.07969710230827332, R-Square2.384185791015625e-07\n"
          ]
        },
        {
          "output_type": "stream",
          "name": "stderr",
          "text": [
            "DEBUG flwr 2024-01-06 12:50:30,372 | server.py:236 | fit_round 61 received 2 results and 0 failures\n",
            "DEBUG:flwr:fit_round 61 received 2 results and 0 failures\n",
            "INFO flwr 2024-01-06 12:50:30,422 | server.py:125 | fit progress: (61, 0.1365174651145935, {'generalization RMSE': 0.1365174651145935, 'generalization MAE': 0.1191013976931572, 'generalization R2': -2.384185791015625e-07}, 33.709547530000236)\n",
            "INFO:flwr:fit progress: (61, 0.1365174651145935, {'generalization RMSE': 0.1365174651145935, 'generalization MAE': 0.1191013976931572, 'generalization R2': -2.384185791015625e-07}, 33.709547530000236)\n",
            "DEBUG flwr 2024-01-06 12:50:30,426 | server.py:173 | evaluate_round 61: strategy sampled 2 clients (out of 2)\n",
            "DEBUG:flwr:evaluate_round 61: strategy sampled 2 clients (out of 2)\n",
            "DEBUG flwr 2024-01-06 12:50:30,500 | server.py:187 | evaluate_round 61 received 2 results and 0 failures\n",
            "DEBUG:flwr:evaluate_round 61 received 2 results and 0 failures\n",
            "DEBUG flwr 2024-01-06 12:50:30,505 | server.py:222 | fit_round 62: strategy sampled 2 clients (out of 2)\n",
            "DEBUG:flwr:fit_round 62: strategy sampled 2 clients (out of 2)\n"
          ]
        },
        {
          "output_type": "stream",
          "name": "stdout",
          "text": [
            "Server-side unseen generalization RMSE loss 0.1365174651145935, MAE loss0.1191013976931572, R-Square-2.384185791015625e-07\n"
          ]
        },
        {
          "output_type": "stream",
          "name": "stderr",
          "text": [
            "DEBUG flwr 2024-01-06 12:50:30,648 | server.py:236 | fit_round 62 received 2 results and 0 failures\n",
            "DEBUG:flwr:fit_round 62 received 2 results and 0 failures\n",
            "INFO flwr 2024-01-06 12:50:30,695 | server.py:125 | fit progress: (62, 0.12333362549543381, {'generalization RMSE': 0.12333362549543381, 'generalization MAE': 0.09708700329065323, 'generalization R2': 0.0}, 33.98191923100012)\n",
            "INFO:flwr:fit progress: (62, 0.12333362549543381, {'generalization RMSE': 0.12333362549543381, 'generalization MAE': 0.09708700329065323, 'generalization R2': 0.0}, 33.98191923100012)\n",
            "DEBUG flwr 2024-01-06 12:50:30,699 | server.py:173 | evaluate_round 62: strategy sampled 2 clients (out of 2)\n",
            "DEBUG:flwr:evaluate_round 62: strategy sampled 2 clients (out of 2)\n",
            "DEBUG flwr 2024-01-06 12:50:30,770 | server.py:187 | evaluate_round 62 received 2 results and 0 failures\n",
            "DEBUG:flwr:evaluate_round 62 received 2 results and 0 failures\n",
            "DEBUG flwr 2024-01-06 12:50:30,773 | server.py:222 | fit_round 63: strategy sampled 2 clients (out of 2)\n",
            "DEBUG:flwr:fit_round 63: strategy sampled 2 clients (out of 2)\n"
          ]
        },
        {
          "output_type": "stream",
          "name": "stdout",
          "text": [
            "Server-side unseen generalization RMSE loss 0.12333362549543381, MAE loss0.09708700329065323, R-Square0.0\n"
          ]
        },
        {
          "output_type": "stream",
          "name": "stderr",
          "text": [
            "DEBUG flwr 2024-01-06 12:50:30,938 | server.py:236 | fit_round 63 received 2 results and 0 failures\n",
            "DEBUG:flwr:fit_round 63 received 2 results and 0 failures\n",
            "INFO flwr 2024-01-06 12:50:30,985 | server.py:125 | fit progress: (63, 0.10020594298839569, {'generalization RMSE': 0.10020594298839569, 'generalization MAE': 0.06911972165107727, 'generalization R2': 0.0}, 34.27181908800003)\n",
            "INFO:flwr:fit progress: (63, 0.10020594298839569, {'generalization RMSE': 0.10020594298839569, 'generalization MAE': 0.06911972165107727, 'generalization R2': 0.0}, 34.27181908800003)\n",
            "DEBUG flwr 2024-01-06 12:50:30,990 | server.py:173 | evaluate_round 63: strategy sampled 2 clients (out of 2)\n",
            "DEBUG:flwr:evaluate_round 63: strategy sampled 2 clients (out of 2)\n",
            "DEBUG flwr 2024-01-06 12:50:31,060 | server.py:187 | evaluate_round 63 received 2 results and 0 failures\n",
            "DEBUG:flwr:evaluate_round 63 received 2 results and 0 failures\n",
            "DEBUG flwr 2024-01-06 12:50:31,063 | server.py:222 | fit_round 64: strategy sampled 2 clients (out of 2)\n",
            "DEBUG:flwr:fit_round 64: strategy sampled 2 clients (out of 2)\n"
          ]
        },
        {
          "output_type": "stream",
          "name": "stdout",
          "text": [
            "Server-side unseen generalization RMSE loss 0.10020594298839569, MAE loss0.06911972165107727, R-Square0.0\n",
            "\u001b[2m\u001b[36m(DefaultActor pid=12956)\u001b[0m [Client 0] fit, config: {'server_round': 63, 'local_epochs': 20}\u001b[32m [repeated 35x across cluster]\u001b[0m\n"
          ]
        },
        {
          "output_type": "stream",
          "name": "stderr",
          "text": [
            "DEBUG flwr 2024-01-06 12:50:31,215 | server.py:236 | fit_round 64 received 2 results and 0 failures\n",
            "DEBUG:flwr:fit_round 64 received 2 results and 0 failures\n",
            "INFO flwr 2024-01-06 12:50:31,257 | server.py:125 | fit progress: (64, 0.13721683621406555, {'generalization RMSE': 0.13721683621406555, 'generalization MAE': 0.11937462538480759, 'generalization R2': 0.0}, 34.543988550999984)\n",
            "INFO:flwr:fit progress: (64, 0.13721683621406555, {'generalization RMSE': 0.13721683621406555, 'generalization MAE': 0.11937462538480759, 'generalization R2': 0.0}, 34.543988550999984)\n",
            "DEBUG flwr 2024-01-06 12:50:31,261 | server.py:173 | evaluate_round 64: strategy sampled 2 clients (out of 2)\n",
            "DEBUG:flwr:evaluate_round 64: strategy sampled 2 clients (out of 2)\n",
            "DEBUG flwr 2024-01-06 12:50:31,341 | server.py:187 | evaluate_round 64 received 2 results and 0 failures\n",
            "DEBUG:flwr:evaluate_round 64 received 2 results and 0 failures\n",
            "DEBUG flwr 2024-01-06 12:50:31,345 | server.py:222 | fit_round 65: strategy sampled 2 clients (out of 2)\n",
            "DEBUG:flwr:fit_round 65: strategy sampled 2 clients (out of 2)\n"
          ]
        },
        {
          "output_type": "stream",
          "name": "stdout",
          "text": [
            "Server-side unseen generalization RMSE loss 0.13721683621406555, MAE loss0.11937462538480759, R-Square0.0\n"
          ]
        },
        {
          "output_type": "stream",
          "name": "stderr",
          "text": [
            "DEBUG flwr 2024-01-06 12:50:31,508 | server.py:236 | fit_round 65 received 2 results and 0 failures\n",
            "DEBUG:flwr:fit_round 65 received 2 results and 0 failures\n",
            "INFO flwr 2024-01-06 12:50:31,553 | server.py:125 | fit progress: (65, 0.10494259744882584, {'generalization RMSE': 0.10494259744882584, 'generalization MAE': 0.07403499633073807, 'generalization R2': 5.960464477539063e-08}, 34.840400663999844)\n",
            "INFO:flwr:fit progress: (65, 0.10494259744882584, {'generalization RMSE': 0.10494259744882584, 'generalization MAE': 0.07403499633073807, 'generalization R2': 5.960464477539063e-08}, 34.840400663999844)\n",
            "DEBUG flwr 2024-01-06 12:50:31,560 | server.py:173 | evaluate_round 65: strategy sampled 2 clients (out of 2)\n",
            "DEBUG:flwr:evaluate_round 65: strategy sampled 2 clients (out of 2)\n",
            "DEBUG flwr 2024-01-06 12:50:31,629 | server.py:187 | evaluate_round 65 received 2 results and 0 failures\n",
            "DEBUG:flwr:evaluate_round 65 received 2 results and 0 failures\n",
            "DEBUG flwr 2024-01-06 12:50:31,633 | server.py:222 | fit_round 66: strategy sampled 2 clients (out of 2)\n",
            "DEBUG:flwr:fit_round 66: strategy sampled 2 clients (out of 2)\n"
          ]
        },
        {
          "output_type": "stream",
          "name": "stdout",
          "text": [
            "Server-side unseen generalization RMSE loss 0.10494259744882584, MAE loss0.07403499633073807, R-Square5.960464477539063e-08\n"
          ]
        },
        {
          "output_type": "stream",
          "name": "stderr",
          "text": [
            "DEBUG flwr 2024-01-06 12:50:31,778 | server.py:236 | fit_round 66 received 2 results and 0 failures\n",
            "DEBUG:flwr:fit_round 66 received 2 results and 0 failures\n",
            "INFO flwr 2024-01-06 12:50:31,822 | server.py:125 | fit progress: (66, 0.11788979172706604, {'generalization RMSE': 0.11788979172706604, 'generalization MAE': 0.09696447104215622, 'generalization R2': -7.152557373046875e-07}, 35.109157015000164)\n",
            "INFO:flwr:fit progress: (66, 0.11788979172706604, {'generalization RMSE': 0.11788979172706604, 'generalization MAE': 0.09696447104215622, 'generalization R2': -7.152557373046875e-07}, 35.109157015000164)\n",
            "DEBUG flwr 2024-01-06 12:50:31,826 | server.py:173 | evaluate_round 66: strategy sampled 2 clients (out of 2)\n",
            "DEBUG:flwr:evaluate_round 66: strategy sampled 2 clients (out of 2)\n",
            "DEBUG flwr 2024-01-06 12:50:31,902 | server.py:187 | evaluate_round 66 received 2 results and 0 failures\n",
            "DEBUG:flwr:evaluate_round 66 received 2 results and 0 failures\n",
            "DEBUG flwr 2024-01-06 12:50:31,906 | server.py:222 | fit_round 67: strategy sampled 2 clients (out of 2)\n",
            "DEBUG:flwr:fit_round 67: strategy sampled 2 clients (out of 2)\n"
          ]
        },
        {
          "output_type": "stream",
          "name": "stdout",
          "text": [
            "Server-side unseen generalization RMSE loss 0.11788979172706604, MAE loss0.09696447104215622, R-Square-7.152557373046875e-07\n",
            "\u001b[2m\u001b[36m(DefaultActor pid=12957)\u001b[0m Epoch 1: train MSE 0.013546018861234188, train MAE 0.09493725746870041, train R2 -953216335872.0\u001b[32m [repeated 20x across cluster]\u001b[0m\n"
          ]
        },
        {
          "output_type": "stream",
          "name": "stderr",
          "text": [
            "DEBUG flwr 2024-01-06 12:50:32,045 | server.py:236 | fit_round 67 received 2 results and 0 failures\n",
            "DEBUG:flwr:fit_round 67 received 2 results and 0 failures\n",
            "INFO flwr 2024-01-06 12:50:32,089 | server.py:125 | fit progress: (67, 0.09610702842473984, {'generalization RMSE': 0.09610702842473984, 'generalization MAE': 0.06869962811470032, 'generalization R2': -1.1920928955078125e-07}, 35.37677984599986)\n",
            "INFO:flwr:fit progress: (67, 0.09610702842473984, {'generalization RMSE': 0.09610702842473984, 'generalization MAE': 0.06869962811470032, 'generalization R2': -1.1920928955078125e-07}, 35.37677984599986)\n",
            "DEBUG flwr 2024-01-06 12:50:32,094 | server.py:173 | evaluate_round 67: strategy sampled 2 clients (out of 2)\n",
            "DEBUG:flwr:evaluate_round 67: strategy sampled 2 clients (out of 2)\n",
            "DEBUG flwr 2024-01-06 12:50:32,174 | server.py:187 | evaluate_round 67 received 2 results and 0 failures\n",
            "DEBUG:flwr:evaluate_round 67 received 2 results and 0 failures\n",
            "DEBUG flwr 2024-01-06 12:50:32,177 | server.py:222 | fit_round 68: strategy sampled 2 clients (out of 2)\n",
            "DEBUG:flwr:fit_round 68: strategy sampled 2 clients (out of 2)\n"
          ]
        },
        {
          "output_type": "stream",
          "name": "stdout",
          "text": [
            "\u001b[2m\u001b[36m(DefaultActor pid=12956)\u001b[0m [Client 1] evaluate, config: {}\u001b[32m [repeated 36x across cluster]\u001b[0m\n",
            "Server-side unseen generalization RMSE loss 0.09610702842473984, MAE loss0.06869962811470032, R-Square-1.1920928955078125e-07\n"
          ]
        },
        {
          "output_type": "stream",
          "name": "stderr",
          "text": [
            "DEBUG flwr 2024-01-06 12:50:32,327 | server.py:236 | fit_round 68 received 2 results and 0 failures\n",
            "DEBUG:flwr:fit_round 68 received 2 results and 0 failures\n",
            "INFO flwr 2024-01-06 12:50:32,368 | server.py:125 | fit progress: (68, 0.11622071266174316, {'generalization RMSE': 0.11622071266174316, 'generalization MAE': 0.0959489643573761, 'generalization R2': 5.960464477539062e-07}, 35.65531495000005)\n",
            "INFO:flwr:fit progress: (68, 0.11622071266174316, {'generalization RMSE': 0.11622071266174316, 'generalization MAE': 0.0959489643573761, 'generalization R2': 5.960464477539062e-07}, 35.65531495000005)\n",
            "DEBUG flwr 2024-01-06 12:50:32,372 | server.py:173 | evaluate_round 68: strategy sampled 2 clients (out of 2)\n",
            "DEBUG:flwr:evaluate_round 68: strategy sampled 2 clients (out of 2)\n",
            "DEBUG flwr 2024-01-06 12:50:32,444 | server.py:187 | evaluate_round 68 received 2 results and 0 failures\n",
            "DEBUG:flwr:evaluate_round 68 received 2 results and 0 failures\n",
            "DEBUG flwr 2024-01-06 12:50:32,448 | server.py:222 | fit_round 69: strategy sampled 2 clients (out of 2)\n",
            "DEBUG:flwr:fit_round 69: strategy sampled 2 clients (out of 2)\n"
          ]
        },
        {
          "output_type": "stream",
          "name": "stdout",
          "text": [
            "Server-side unseen generalization RMSE loss 0.11622071266174316, MAE loss0.0959489643573761, R-Square5.960464477539062e-07\n"
          ]
        },
        {
          "output_type": "stream",
          "name": "stderr",
          "text": [
            "DEBUG flwr 2024-01-06 12:50:32,611 | server.py:236 | fit_round 69 received 2 results and 0 failures\n",
            "DEBUG:flwr:fit_round 69 received 2 results and 0 failures\n",
            "INFO flwr 2024-01-06 12:50:32,653 | server.py:125 | fit progress: (69, 0.10799142718315125, {'generalization RMSE': 0.10799142718315125, 'generalization MAE': 0.08570459485054016, 'generalization R2': 3.5762786865234375e-07}, 35.94028484199998)\n",
            "INFO:flwr:fit progress: (69, 0.10799142718315125, {'generalization RMSE': 0.10799142718315125, 'generalization MAE': 0.08570459485054016, 'generalization R2': 3.5762786865234375e-07}, 35.94028484199998)\n",
            "DEBUG flwr 2024-01-06 12:50:32,657 | server.py:173 | evaluate_round 69: strategy sampled 2 clients (out of 2)\n",
            "DEBUG:flwr:evaluate_round 69: strategy sampled 2 clients (out of 2)\n",
            "DEBUG flwr 2024-01-06 12:50:32,726 | server.py:187 | evaluate_round 69 received 2 results and 0 failures\n",
            "DEBUG:flwr:evaluate_round 69 received 2 results and 0 failures\n",
            "DEBUG flwr 2024-01-06 12:50:32,734 | server.py:222 | fit_round 70: strategy sampled 2 clients (out of 2)\n",
            "DEBUG:flwr:fit_round 70: strategy sampled 2 clients (out of 2)\n"
          ]
        },
        {
          "output_type": "stream",
          "name": "stdout",
          "text": [
            "Server-side unseen generalization RMSE loss 0.10799142718315125, MAE loss0.08570459485054016, R-Square3.5762786865234375e-07\n",
            "\u001b[2m\u001b[36m(DefaultActor pid=12956)\u001b[0m Epoch 1: train MSE 0.021095873787999153, train MAE 0.1331695020198822, train R2 -inf\u001b[32m [repeated 15x across cluster]\u001b[0m\n"
          ]
        },
        {
          "output_type": "stream",
          "name": "stderr",
          "text": [
            "DEBUG flwr 2024-01-06 12:50:32,940 | server.py:236 | fit_round 70 received 2 results and 0 failures\n",
            "DEBUG:flwr:fit_round 70 received 2 results and 0 failures\n",
            "INFO flwr 2024-01-06 12:50:32,997 | server.py:125 | fit progress: (70, 0.12361187487840652, {'generalization RMSE': 0.12361187487840652, 'generalization MAE': 0.10174954682588577, 'generalization R2': 7.152557373046875e-07}, 36.28383087700013)\n",
            "INFO:flwr:fit progress: (70, 0.12361187487840652, {'generalization RMSE': 0.12361187487840652, 'generalization MAE': 0.10174954682588577, 'generalization R2': 7.152557373046875e-07}, 36.28383087700013)\n",
            "DEBUG flwr 2024-01-06 12:50:33,001 | server.py:173 | evaluate_round 70: strategy sampled 2 clients (out of 2)\n",
            "DEBUG:flwr:evaluate_round 70: strategy sampled 2 clients (out of 2)\n",
            "DEBUG flwr 2024-01-06 12:50:33,098 | server.py:187 | evaluate_round 70 received 2 results and 0 failures\n",
            "DEBUG:flwr:evaluate_round 70 received 2 results and 0 failures\n",
            "DEBUG flwr 2024-01-06 12:50:33,102 | server.py:222 | fit_round 71: strategy sampled 2 clients (out of 2)\n",
            "DEBUG:flwr:fit_round 71: strategy sampled 2 clients (out of 2)\n"
          ]
        },
        {
          "output_type": "stream",
          "name": "stdout",
          "text": [
            "Server-side unseen generalization RMSE loss 0.12361187487840652, MAE loss0.10174954682588577, R-Square7.152557373046875e-07\n"
          ]
        },
        {
          "output_type": "stream",
          "name": "stderr",
          "text": [
            "DEBUG flwr 2024-01-06 12:50:33,330 | server.py:236 | fit_round 71 received 2 results and 0 failures\n",
            "DEBUG:flwr:fit_round 71 received 2 results and 0 failures\n",
            "INFO flwr 2024-01-06 12:50:33,398 | server.py:125 | fit progress: (71, 0.09431484341621399, {'generalization RMSE': 0.09431484341621399, 'generalization MAE': 0.07423732429742813, 'generalization R2': 2.384185791015625e-07}, 36.68517705500017)\n",
            "INFO:flwr:fit progress: (71, 0.09431484341621399, {'generalization RMSE': 0.09431484341621399, 'generalization MAE': 0.07423732429742813, 'generalization R2': 2.384185791015625e-07}, 36.68517705500017)\n",
            "DEBUG flwr 2024-01-06 12:50:33,404 | server.py:173 | evaluate_round 71: strategy sampled 2 clients (out of 2)\n",
            "DEBUG:flwr:evaluate_round 71: strategy sampled 2 clients (out of 2)\n",
            "DEBUG flwr 2024-01-06 12:50:33,542 | server.py:187 | evaluate_round 71 received 2 results and 0 failures\n",
            "DEBUG:flwr:evaluate_round 71 received 2 results and 0 failures\n",
            "DEBUG flwr 2024-01-06 12:50:33,546 | server.py:222 | fit_round 72: strategy sampled 2 clients (out of 2)\n",
            "DEBUG:flwr:fit_round 72: strategy sampled 2 clients (out of 2)\n"
          ]
        },
        {
          "output_type": "stream",
          "name": "stdout",
          "text": [
            "Server-side unseen generalization RMSE loss 0.09431484341621399, MAE loss0.07423732429742813, R-Square2.384185791015625e-07\n"
          ]
        },
        {
          "output_type": "stream",
          "name": "stderr",
          "text": [
            "DEBUG flwr 2024-01-06 12:50:33,783 | server.py:236 | fit_round 72 received 2 results and 0 failures\n",
            "DEBUG:flwr:fit_round 72 received 2 results and 0 failures\n",
            "INFO flwr 2024-01-06 12:50:33,844 | server.py:125 | fit progress: (72, 0.11290019005537033, {'generalization RMSE': 0.11290019005537033, 'generalization MAE': 0.07969725131988525, 'generalization R2': 0.0}, 37.13150428400013)\n",
            "INFO:flwr:fit progress: (72, 0.11290019005537033, {'generalization RMSE': 0.11290019005537033, 'generalization MAE': 0.07969725131988525, 'generalization R2': 0.0}, 37.13150428400013)\n",
            "DEBUG flwr 2024-01-06 12:50:33,853 | server.py:173 | evaluate_round 72: strategy sampled 2 clients (out of 2)\n",
            "DEBUG:flwr:evaluate_round 72: strategy sampled 2 clients (out of 2)\n",
            "DEBUG flwr 2024-01-06 12:50:33,964 | server.py:187 | evaluate_round 72 received 2 results and 0 failures\n",
            "DEBUG:flwr:evaluate_round 72 received 2 results and 0 failures\n",
            "DEBUG flwr 2024-01-06 12:50:33,968 | server.py:222 | fit_round 73: strategy sampled 2 clients (out of 2)\n",
            "DEBUG:flwr:fit_round 73: strategy sampled 2 clients (out of 2)\n"
          ]
        },
        {
          "output_type": "stream",
          "name": "stdout",
          "text": [
            "Server-side unseen generalization RMSE loss 0.11290019005537033, MAE loss0.07969725131988525, R-Square0.0\n"
          ]
        },
        {
          "output_type": "stream",
          "name": "stderr",
          "text": [
            "DEBUG flwr 2024-01-06 12:50:34,224 | server.py:236 | fit_round 73 received 2 results and 0 failures\n",
            "DEBUG:flwr:fit_round 73 received 2 results and 0 failures\n",
            "INFO flwr 2024-01-06 12:50:34,285 | server.py:125 | fit progress: (73, 0.12365943938493729, {'generalization RMSE': 0.12365943938493729, 'generalization MAE': 0.09687592834234238, 'generalization R2': -1.1920928955078125e-07}, 37.572009533000255)\n",
            "INFO:flwr:fit progress: (73, 0.12365943938493729, {'generalization RMSE': 0.12365943938493729, 'generalization MAE': 0.09687592834234238, 'generalization R2': -1.1920928955078125e-07}, 37.572009533000255)\n",
            "DEBUG flwr 2024-01-06 12:50:34,296 | server.py:173 | evaluate_round 73: strategy sampled 2 clients (out of 2)\n",
            "DEBUG:flwr:evaluate_round 73: strategy sampled 2 clients (out of 2)\n",
            "DEBUG flwr 2024-01-06 12:50:34,412 | server.py:187 | evaluate_round 73 received 2 results and 0 failures\n",
            "DEBUG:flwr:evaluate_round 73 received 2 results and 0 failures\n",
            "DEBUG flwr 2024-01-06 12:50:34,417 | server.py:222 | fit_round 74: strategy sampled 2 clients (out of 2)\n",
            "DEBUG:flwr:fit_round 74: strategy sampled 2 clients (out of 2)\n"
          ]
        },
        {
          "output_type": "stream",
          "name": "stdout",
          "text": [
            "Server-side unseen generalization RMSE loss 0.12365943938493729, MAE loss0.09687592834234238, R-Square-1.1920928955078125e-07\n"
          ]
        },
        {
          "output_type": "stream",
          "name": "stderr",
          "text": [
            "DEBUG flwr 2024-01-06 12:50:34,671 | server.py:236 | fit_round 74 received 2 results and 0 failures\n",
            "DEBUG:flwr:fit_round 74 received 2 results and 0 failures\n",
            "INFO flwr 2024-01-06 12:50:34,743 | server.py:125 | fit progress: (74, 0.0933767631649971, {'generalization RMSE': 0.0933767631649971, 'generalization MAE': 0.08088966459035873, 'generalization R2': 0.0}, 38.02988616199991)\n",
            "INFO:flwr:fit progress: (74, 0.0933767631649971, {'generalization RMSE': 0.0933767631649971, 'generalization MAE': 0.08088966459035873, 'generalization R2': 0.0}, 38.02988616199991)\n",
            "DEBUG flwr 2024-01-06 12:50:34,751 | server.py:173 | evaluate_round 74: strategy sampled 2 clients (out of 2)\n",
            "DEBUG:flwr:evaluate_round 74: strategy sampled 2 clients (out of 2)\n",
            "DEBUG flwr 2024-01-06 12:50:34,868 | server.py:187 | evaluate_round 74 received 2 results and 0 failures\n",
            "DEBUG:flwr:evaluate_round 74 received 2 results and 0 failures\n",
            "DEBUG flwr 2024-01-06 12:50:34,871 | server.py:222 | fit_round 75: strategy sampled 2 clients (out of 2)\n",
            "DEBUG:flwr:fit_round 75: strategy sampled 2 clients (out of 2)\n"
          ]
        },
        {
          "output_type": "stream",
          "name": "stdout",
          "text": [
            "Server-side unseen generalization RMSE loss 0.0933767631649971, MAE loss0.08088966459035873, R-Square0.0\n"
          ]
        },
        {
          "output_type": "stream",
          "name": "stderr",
          "text": [
            "DEBUG flwr 2024-01-06 12:50:35,141 | server.py:236 | fit_round 75 received 2 results and 0 failures\n",
            "DEBUG:flwr:fit_round 75 received 2 results and 0 failures\n",
            "INFO flwr 2024-01-06 12:50:35,202 | server.py:125 | fit progress: (75, 0.13325920701026917, {'generalization RMSE': 0.13325920701026917, 'generalization MAE': 0.11377529799938202, 'generalization R2': 0.0}, 38.489787566999894)\n",
            "INFO:flwr:fit progress: (75, 0.13325920701026917, {'generalization RMSE': 0.13325920701026917, 'generalization MAE': 0.11377529799938202, 'generalization R2': 0.0}, 38.489787566999894)\n",
            "DEBUG flwr 2024-01-06 12:50:35,210 | server.py:173 | evaluate_round 75: strategy sampled 2 clients (out of 2)\n",
            "DEBUG:flwr:evaluate_round 75: strategy sampled 2 clients (out of 2)\n",
            "DEBUG flwr 2024-01-06 12:50:35,338 | server.py:187 | evaluate_round 75 received 2 results and 0 failures\n",
            "DEBUG:flwr:evaluate_round 75 received 2 results and 0 failures\n",
            "DEBUG flwr 2024-01-06 12:50:35,344 | server.py:222 | fit_round 76: strategy sampled 2 clients (out of 2)\n",
            "DEBUG:flwr:fit_round 76: strategy sampled 2 clients (out of 2)\n"
          ]
        },
        {
          "output_type": "stream",
          "name": "stdout",
          "text": [
            "Server-side unseen generalization RMSE loss 0.13325920701026917, MAE loss0.11377529799938202, R-Square0.0\n"
          ]
        },
        {
          "output_type": "stream",
          "name": "stderr",
          "text": [
            "DEBUG flwr 2024-01-06 12:50:35,591 | server.py:236 | fit_round 76 received 2 results and 0 failures\n",
            "DEBUG:flwr:fit_round 76 received 2 results and 0 failures\n",
            "INFO flwr 2024-01-06 12:50:35,660 | server.py:125 | fit progress: (76, 0.13768863677978516, {'generalization RMSE': 0.13768863677978516, 'generalization MAE': 0.11995062977075577, 'generalization R2': 0.0}, 38.94749974000024)\n",
            "INFO:flwr:fit progress: (76, 0.13768863677978516, {'generalization RMSE': 0.13768863677978516, 'generalization MAE': 0.11995062977075577, 'generalization R2': 0.0}, 38.94749974000024)\n",
            "DEBUG flwr 2024-01-06 12:50:35,668 | server.py:173 | evaluate_round 76: strategy sampled 2 clients (out of 2)\n",
            "DEBUG:flwr:evaluate_round 76: strategy sampled 2 clients (out of 2)\n",
            "DEBUG flwr 2024-01-06 12:50:35,769 | server.py:187 | evaluate_round 76 received 2 results and 0 failures\n",
            "DEBUG:flwr:evaluate_round 76 received 2 results and 0 failures\n",
            "DEBUG flwr 2024-01-06 12:50:35,774 | server.py:222 | fit_round 77: strategy sampled 2 clients (out of 2)\n",
            "DEBUG:flwr:fit_round 77: strategy sampled 2 clients (out of 2)\n"
          ]
        },
        {
          "output_type": "stream",
          "name": "stdout",
          "text": [
            "Server-side unseen generalization RMSE loss 0.13768863677978516, MAE loss0.11995062977075577, R-Square0.0\n"
          ]
        },
        {
          "output_type": "stream",
          "name": "stderr",
          "text": [
            "DEBUG flwr 2024-01-06 12:50:36,014 | server.py:236 | fit_round 77 received 2 results and 0 failures\n",
            "DEBUG:flwr:fit_round 77 received 2 results and 0 failures\n",
            "INFO flwr 2024-01-06 12:50:36,086 | server.py:125 | fit progress: (77, 0.11397603899240494, {'generalization RMSE': 0.11397603899240494, 'generalization MAE': 0.09676499664783478, 'generalization R2': 0.0}, 39.37305328399998)\n",
            "INFO:flwr:fit progress: (77, 0.11397603899240494, {'generalization RMSE': 0.11397603899240494, 'generalization MAE': 0.09676499664783478, 'generalization R2': 0.0}, 39.37305328399998)\n",
            "DEBUG flwr 2024-01-06 12:50:36,095 | server.py:173 | evaluate_round 77: strategy sampled 2 clients (out of 2)\n",
            "DEBUG:flwr:evaluate_round 77: strategy sampled 2 clients (out of 2)\n",
            "DEBUG flwr 2024-01-06 12:50:36,206 | server.py:187 | evaluate_round 77 received 2 results and 0 failures\n",
            "DEBUG:flwr:evaluate_round 77 received 2 results and 0 failures\n",
            "DEBUG flwr 2024-01-06 12:50:36,209 | server.py:222 | fit_round 78: strategy sampled 2 clients (out of 2)\n",
            "DEBUG:flwr:fit_round 78: strategy sampled 2 clients (out of 2)\n"
          ]
        },
        {
          "output_type": "stream",
          "name": "stdout",
          "text": [
            "Server-side unseen generalization RMSE loss 0.11397603899240494, MAE loss0.09676499664783478, R-Square0.0\n",
            "\u001b[2m\u001b[36m(DefaultActor pid=12956)\u001b[0m [Client 0] fit, config: {'server_round': 77, 'local_epochs': 20}\u001b[32m [repeated 28x across cluster]\u001b[0m\n"
          ]
        },
        {
          "output_type": "stream",
          "name": "stderr",
          "text": [
            "DEBUG flwr 2024-01-06 12:50:36,435 | server.py:236 | fit_round 78 received 2 results and 0 failures\n",
            "DEBUG:flwr:fit_round 78 received 2 results and 0 failures\n",
            "INFO flwr 2024-01-06 12:50:36,488 | server.py:125 | fit progress: (78, 0.14522917568683624, {'generalization RMSE': 0.14522917568683624, 'generalization MAE': 0.1313261091709137, 'generalization R2': -3.5762786865234375e-07}, 39.775608464000015)\n",
            "INFO:flwr:fit progress: (78, 0.14522917568683624, {'generalization RMSE': 0.14522917568683624, 'generalization MAE': 0.1313261091709137, 'generalization R2': -3.5762786865234375e-07}, 39.775608464000015)\n",
            "DEBUG flwr 2024-01-06 12:50:36,497 | server.py:173 | evaluate_round 78: strategy sampled 2 clients (out of 2)\n",
            "DEBUG:flwr:evaluate_round 78: strategy sampled 2 clients (out of 2)\n",
            "DEBUG flwr 2024-01-06 12:50:36,601 | server.py:187 | evaluate_round 78 received 2 results and 0 failures\n",
            "DEBUG:flwr:evaluate_round 78 received 2 results and 0 failures\n",
            "DEBUG flwr 2024-01-06 12:50:36,604 | server.py:222 | fit_round 79: strategy sampled 2 clients (out of 2)\n",
            "DEBUG:flwr:fit_round 79: strategy sampled 2 clients (out of 2)\n"
          ]
        },
        {
          "output_type": "stream",
          "name": "stdout",
          "text": [
            "Server-side unseen generalization RMSE loss 0.14522917568683624, MAE loss0.1313261091709137, R-Square-3.5762786865234375e-07\n"
          ]
        },
        {
          "output_type": "stream",
          "name": "stderr",
          "text": [
            "DEBUG flwr 2024-01-06 12:50:36,842 | server.py:236 | fit_round 79 received 2 results and 0 failures\n",
            "DEBUG:flwr:fit_round 79 received 2 results and 0 failures\n",
            "INFO flwr 2024-01-06 12:50:36,903 | server.py:125 | fit progress: (79, 0.09430599957704544, {'generalization RMSE': 0.09430599957704544, 'generalization MAE': 0.06329607963562012, 'generalization R2': 2.384185791015625e-07}, 40.19026736800015)\n",
            "INFO:flwr:fit progress: (79, 0.09430599957704544, {'generalization RMSE': 0.09430599957704544, 'generalization MAE': 0.06329607963562012, 'generalization R2': 2.384185791015625e-07}, 40.19026736800015)\n",
            "DEBUG flwr 2024-01-06 12:50:36,914 | server.py:173 | evaluate_round 79: strategy sampled 2 clients (out of 2)\n",
            "DEBUG:flwr:evaluate_round 79: strategy sampled 2 clients (out of 2)\n",
            "DEBUG flwr 2024-01-06 12:50:37,021 | server.py:187 | evaluate_round 79 received 2 results and 0 failures\n",
            "DEBUG:flwr:evaluate_round 79 received 2 results and 0 failures\n",
            "DEBUG flwr 2024-01-06 12:50:37,027 | server.py:222 | fit_round 80: strategy sampled 2 clients (out of 2)\n",
            "DEBUG:flwr:fit_round 80: strategy sampled 2 clients (out of 2)\n"
          ]
        },
        {
          "output_type": "stream",
          "name": "stdout",
          "text": [
            "Server-side unseen generalization RMSE loss 0.09430599957704544, MAE loss0.06329607963562012, R-Square2.384185791015625e-07\n",
            "\u001b[2m\u001b[36m(DefaultActor pid=12956)\u001b[0m Epoch 1: train MSE 0.01167885772883892, train MAE 0.0783417671918869, train R2 -3287306207232.0\u001b[32m [repeated 13x across cluster]\u001b[0m\n"
          ]
        },
        {
          "output_type": "stream",
          "name": "stderr",
          "text": [
            "DEBUG flwr 2024-01-06 12:50:37,313 | server.py:236 | fit_round 80 received 2 results and 0 failures\n",
            "DEBUG:flwr:fit_round 80 received 2 results and 0 failures\n",
            "INFO flwr 2024-01-06 12:50:37,372 | server.py:125 | fit progress: (80, 0.09020508080720901, {'generalization RMSE': 0.09020508080720901, 'generalization MAE': 0.05138399451971054, 'generalization R2': 1.2516975402832031e-06}, 40.659201006999865)\n",
            "INFO:flwr:fit progress: (80, 0.09020508080720901, {'generalization RMSE': 0.09020508080720901, 'generalization MAE': 0.05138399451971054, 'generalization R2': 1.2516975402832031e-06}, 40.659201006999865)\n",
            "DEBUG flwr 2024-01-06 12:50:37,378 | server.py:173 | evaluate_round 80: strategy sampled 2 clients (out of 2)\n",
            "DEBUG:flwr:evaluate_round 80: strategy sampled 2 clients (out of 2)\n"
          ]
        },
        {
          "output_type": "stream",
          "name": "stdout",
          "text": [
            "\u001b[2m\u001b[36m(DefaultActor pid=12956)\u001b[0m [Client 0] evaluate, config: {}\u001b[32m [repeated 26x across cluster]\u001b[0m\n",
            "Server-side unseen generalization RMSE loss 0.09020508080720901, MAE loss0.05138399451971054, R-Square1.2516975402832031e-06\n"
          ]
        },
        {
          "output_type": "stream",
          "name": "stderr",
          "text": [
            "DEBUG flwr 2024-01-06 12:50:37,488 | server.py:187 | evaluate_round 80 received 2 results and 0 failures\n",
            "DEBUG:flwr:evaluate_round 80 received 2 results and 0 failures\n",
            "DEBUG flwr 2024-01-06 12:50:37,497 | server.py:222 | fit_round 81: strategy sampled 2 clients (out of 2)\n",
            "DEBUG:flwr:fit_round 81: strategy sampled 2 clients (out of 2)\n",
            "DEBUG flwr 2024-01-06 12:50:37,715 | server.py:236 | fit_round 81 received 2 results and 0 failures\n",
            "DEBUG:flwr:fit_round 81 received 2 results and 0 failures\n",
            "INFO flwr 2024-01-06 12:50:37,782 | server.py:125 | fit progress: (81, 0.10733702778816223, {'generalization RMSE': 0.10733702778816223, 'generalization MAE': 0.0809696614742279, 'generalization R2': 1.1920928955078125e-06}, 41.06951050099997)\n",
            "INFO:flwr:fit progress: (81, 0.10733702778816223, {'generalization RMSE': 0.10733702778816223, 'generalization MAE': 0.0809696614742279, 'generalization R2': 1.1920928955078125e-06}, 41.06951050099997)\n",
            "DEBUG flwr 2024-01-06 12:50:37,789 | server.py:173 | evaluate_round 81: strategy sampled 2 clients (out of 2)\n",
            "DEBUG:flwr:evaluate_round 81: strategy sampled 2 clients (out of 2)\n",
            "DEBUG flwr 2024-01-06 12:50:37,907 | server.py:187 | evaluate_round 81 received 2 results and 0 failures\n",
            "DEBUG:flwr:evaluate_round 81 received 2 results and 0 failures\n",
            "DEBUG flwr 2024-01-06 12:50:37,913 | server.py:222 | fit_round 82: strategy sampled 2 clients (out of 2)\n",
            "DEBUG:flwr:fit_round 82: strategy sampled 2 clients (out of 2)\n"
          ]
        },
        {
          "output_type": "stream",
          "name": "stdout",
          "text": [
            "Server-side unseen generalization RMSE loss 0.10733702778816223, MAE loss0.0809696614742279, R-Square1.1920928955078125e-06\n",
            "\u001b[2m\u001b[36m(DefaultActor pid=12956)\u001b[0m Epoch 1: train MSE 0.010810645297169685, train MAE 0.08629189431667328, train R2 -inf\u001b[32m [repeated 12x across cluster]\u001b[0m\n"
          ]
        },
        {
          "output_type": "stream",
          "name": "stderr",
          "text": [
            "DEBUG flwr 2024-01-06 12:50:38,139 | server.py:236 | fit_round 82 received 2 results and 0 failures\n",
            "DEBUG:flwr:fit_round 82 received 2 results and 0 failures\n",
            "INFO flwr 2024-01-06 12:50:38,204 | server.py:125 | fit progress: (82, 0.13182790577411652, {'generalization RMSE': 0.13182790577411652, 'generalization MAE': 0.11954281479120255, 'generalization R2': 0.0}, 41.4915891390001)\n",
            "INFO:flwr:fit progress: (82, 0.13182790577411652, {'generalization RMSE': 0.13182790577411652, 'generalization MAE': 0.11954281479120255, 'generalization R2': 0.0}, 41.4915891390001)\n",
            "DEBUG flwr 2024-01-06 12:50:38,209 | server.py:173 | evaluate_round 82: strategy sampled 2 clients (out of 2)\n",
            "DEBUG:flwr:evaluate_round 82: strategy sampled 2 clients (out of 2)\n",
            "DEBUG flwr 2024-01-06 12:50:38,314 | server.py:187 | evaluate_round 82 received 2 results and 0 failures\n",
            "DEBUG:flwr:evaluate_round 82 received 2 results and 0 failures\n",
            "DEBUG flwr 2024-01-06 12:50:38,319 | server.py:222 | fit_round 83: strategy sampled 2 clients (out of 2)\n",
            "DEBUG:flwr:fit_round 83: strategy sampled 2 clients (out of 2)\n"
          ]
        },
        {
          "output_type": "stream",
          "name": "stdout",
          "text": [
            "Server-side unseen generalization RMSE loss 0.13182790577411652, MAE loss0.11954281479120255, R-Square0.0\n"
          ]
        },
        {
          "output_type": "stream",
          "name": "stderr",
          "text": [
            "DEBUG flwr 2024-01-06 12:50:38,569 | server.py:236 | fit_round 83 received 2 results and 0 failures\n",
            "DEBUG:flwr:fit_round 83 received 2 results and 0 failures\n",
            "INFO flwr 2024-01-06 12:50:38,627 | server.py:125 | fit progress: (83, 0.12762710452079773, {'generalization RMSE': 0.12762710452079773, 'generalization MAE': 0.10289347916841507, 'generalization R2': 1.7881393432617188e-07}, 41.9147286299999)\n",
            "INFO:flwr:fit progress: (83, 0.12762710452079773, {'generalization RMSE': 0.12762710452079773, 'generalization MAE': 0.10289347916841507, 'generalization R2': 1.7881393432617188e-07}, 41.9147286299999)\n",
            "DEBUG flwr 2024-01-06 12:50:38,631 | server.py:173 | evaluate_round 83: strategy sampled 2 clients (out of 2)\n",
            "DEBUG:flwr:evaluate_round 83: strategy sampled 2 clients (out of 2)\n",
            "DEBUG flwr 2024-01-06 12:50:38,702 | server.py:187 | evaluate_round 83 received 2 results and 0 failures\n",
            "DEBUG:flwr:evaluate_round 83 received 2 results and 0 failures\n",
            "DEBUG flwr 2024-01-06 12:50:38,707 | server.py:222 | fit_round 84: strategy sampled 2 clients (out of 2)\n",
            "DEBUG:flwr:fit_round 84: strategy sampled 2 clients (out of 2)\n"
          ]
        },
        {
          "output_type": "stream",
          "name": "stdout",
          "text": [
            "Server-side unseen generalization RMSE loss 0.12762710452079773, MAE loss0.10289347916841507, R-Square1.7881393432617188e-07\n"
          ]
        },
        {
          "output_type": "stream",
          "name": "stderr",
          "text": [
            "DEBUG flwr 2024-01-06 12:50:38,866 | server.py:236 | fit_round 84 received 2 results and 0 failures\n",
            "DEBUG:flwr:fit_round 84 received 2 results and 0 failures\n",
            "INFO flwr 2024-01-06 12:50:38,919 | server.py:125 | fit progress: (84, 0.078565314412117, {'generalization RMSE': 0.078565314412117, 'generalization MAE': 0.04613164812326431, 'generalization R2': -8.344650268554688e-07}, 42.206428248000066)\n",
            "INFO:flwr:fit progress: (84, 0.078565314412117, {'generalization RMSE': 0.078565314412117, 'generalization MAE': 0.04613164812326431, 'generalization R2': -8.344650268554688e-07}, 42.206428248000066)\n",
            "DEBUG flwr 2024-01-06 12:50:38,924 | server.py:173 | evaluate_round 84: strategy sampled 2 clients (out of 2)\n",
            "DEBUG:flwr:evaluate_round 84: strategy sampled 2 clients (out of 2)\n",
            "DEBUG flwr 2024-01-06 12:50:38,996 | server.py:187 | evaluate_round 84 received 2 results and 0 failures\n",
            "DEBUG:flwr:evaluate_round 84 received 2 results and 0 failures\n",
            "DEBUG flwr 2024-01-06 12:50:39,001 | server.py:222 | fit_round 85: strategy sampled 2 clients (out of 2)\n",
            "DEBUG:flwr:fit_round 85: strategy sampled 2 clients (out of 2)\n"
          ]
        },
        {
          "output_type": "stream",
          "name": "stdout",
          "text": [
            "Server-side unseen generalization RMSE loss 0.078565314412117, MAE loss0.04613164812326431, R-Square-8.344650268554688e-07\n"
          ]
        },
        {
          "output_type": "stream",
          "name": "stderr",
          "text": [
            "DEBUG flwr 2024-01-06 12:50:39,153 | server.py:236 | fit_round 85 received 2 results and 0 failures\n",
            "DEBUG:flwr:fit_round 85 received 2 results and 0 failures\n",
            "INFO flwr 2024-01-06 12:50:39,201 | server.py:125 | fit progress: (85, 0.09477755427360535, {'generalization RMSE': 0.09477755427360535, 'generalization MAE': 0.07567184418439865, 'generalization R2': -2.384185791015625e-07}, 42.48803788600026)\n",
            "INFO:flwr:fit progress: (85, 0.09477755427360535, {'generalization RMSE': 0.09477755427360535, 'generalization MAE': 0.07567184418439865, 'generalization R2': -2.384185791015625e-07}, 42.48803788600026)\n",
            "DEBUG flwr 2024-01-06 12:50:39,205 | server.py:173 | evaluate_round 85: strategy sampled 2 clients (out of 2)\n",
            "DEBUG:flwr:evaluate_round 85: strategy sampled 2 clients (out of 2)\n",
            "DEBUG flwr 2024-01-06 12:50:39,281 | server.py:187 | evaluate_round 85 received 2 results and 0 failures\n",
            "DEBUG:flwr:evaluate_round 85 received 2 results and 0 failures\n",
            "DEBUG flwr 2024-01-06 12:50:39,284 | server.py:222 | fit_round 86: strategy sampled 2 clients (out of 2)\n",
            "DEBUG:flwr:fit_round 86: strategy sampled 2 clients (out of 2)\n"
          ]
        },
        {
          "output_type": "stream",
          "name": "stdout",
          "text": [
            "Server-side unseen generalization RMSE loss 0.09477755427360535, MAE loss0.07567184418439865, R-Square-2.384185791015625e-07\n"
          ]
        },
        {
          "output_type": "stream",
          "name": "stderr",
          "text": [
            "DEBUG flwr 2024-01-06 12:50:39,428 | server.py:236 | fit_round 86 received 2 results and 0 failures\n",
            "DEBUG:flwr:fit_round 86 received 2 results and 0 failures\n",
            "INFO flwr 2024-01-06 12:50:39,473 | server.py:125 | fit progress: (86, 0.12343690544366837, {'generalization RMSE': 0.12343690544366837, 'generalization MAE': 0.10786327719688416, 'generalization R2': 5.960464477539063e-08}, 42.75981755800012)\n",
            "INFO:flwr:fit progress: (86, 0.12343690544366837, {'generalization RMSE': 0.12343690544366837, 'generalization MAE': 0.10786327719688416, 'generalization R2': 5.960464477539063e-08}, 42.75981755800012)\n",
            "DEBUG flwr 2024-01-06 12:50:39,477 | server.py:173 | evaluate_round 86: strategy sampled 2 clients (out of 2)\n",
            "DEBUG:flwr:evaluate_round 86: strategy sampled 2 clients (out of 2)\n",
            "DEBUG flwr 2024-01-06 12:50:39,552 | server.py:187 | evaluate_round 86 received 2 results and 0 failures\n",
            "DEBUG:flwr:evaluate_round 86 received 2 results and 0 failures\n",
            "DEBUG flwr 2024-01-06 12:50:39,555 | server.py:222 | fit_round 87: strategy sampled 2 clients (out of 2)\n",
            "DEBUG:flwr:fit_round 87: strategy sampled 2 clients (out of 2)\n"
          ]
        },
        {
          "output_type": "stream",
          "name": "stdout",
          "text": [
            "Server-side unseen generalization RMSE loss 0.12343690544366837, MAE loss0.10786327719688416, R-Square5.960464477539063e-08\n"
          ]
        },
        {
          "output_type": "stream",
          "name": "stderr",
          "text": [
            "DEBUG flwr 2024-01-06 12:50:39,708 | server.py:236 | fit_round 87 received 2 results and 0 failures\n",
            "DEBUG:flwr:fit_round 87 received 2 results and 0 failures\n",
            "INFO flwr 2024-01-06 12:50:39,754 | server.py:125 | fit progress: (87, 0.10134138911962509, {'generalization RMSE': 0.10134138911962509, 'generalization MAE': 0.08622703701257706, 'generalization R2': 0.0}, 43.04100353900003)\n",
            "INFO:flwr:fit progress: (87, 0.10134138911962509, {'generalization RMSE': 0.10134138911962509, 'generalization MAE': 0.08622703701257706, 'generalization R2': 0.0}, 43.04100353900003)\n",
            "DEBUG flwr 2024-01-06 12:50:39,756 | server.py:173 | evaluate_round 87: strategy sampled 2 clients (out of 2)\n",
            "DEBUG:flwr:evaluate_round 87: strategy sampled 2 clients (out of 2)\n",
            "DEBUG flwr 2024-01-06 12:50:39,823 | server.py:187 | evaluate_round 87 received 2 results and 0 failures\n",
            "DEBUG:flwr:evaluate_round 87 received 2 results and 0 failures\n",
            "DEBUG flwr 2024-01-06 12:50:39,827 | server.py:222 | fit_round 88: strategy sampled 2 clients (out of 2)\n",
            "DEBUG:flwr:fit_round 88: strategy sampled 2 clients (out of 2)\n"
          ]
        },
        {
          "output_type": "stream",
          "name": "stdout",
          "text": [
            "Server-side unseen generalization RMSE loss 0.10134138911962509, MAE loss0.08622703701257706, R-Square0.0\n"
          ]
        },
        {
          "output_type": "stream",
          "name": "stderr",
          "text": [
            "DEBUG flwr 2024-01-06 12:50:39,985 | server.py:236 | fit_round 88 received 2 results and 0 failures\n",
            "DEBUG:flwr:fit_round 88 received 2 results and 0 failures\n",
            "INFO flwr 2024-01-06 12:50:40,026 | server.py:125 | fit progress: (88, 0.10298841446638107, {'generalization RMSE': 0.10298841446638107, 'generalization MAE': 0.06922256946563721, 'generalization R2': -2.384185791015625e-07}, 43.31283603300017)\n",
            "INFO:flwr:fit progress: (88, 0.10298841446638107, {'generalization RMSE': 0.10298841446638107, 'generalization MAE': 0.06922256946563721, 'generalization R2': -2.384185791015625e-07}, 43.31283603300017)\n",
            "DEBUG flwr 2024-01-06 12:50:40,029 | server.py:173 | evaluate_round 88: strategy sampled 2 clients (out of 2)\n",
            "DEBUG:flwr:evaluate_round 88: strategy sampled 2 clients (out of 2)\n",
            "DEBUG flwr 2024-01-06 12:50:40,103 | server.py:187 | evaluate_round 88 received 2 results and 0 failures\n",
            "DEBUG:flwr:evaluate_round 88 received 2 results and 0 failures\n",
            "DEBUG flwr 2024-01-06 12:50:40,107 | server.py:222 | fit_round 89: strategy sampled 2 clients (out of 2)\n",
            "DEBUG:flwr:fit_round 89: strategy sampled 2 clients (out of 2)\n"
          ]
        },
        {
          "output_type": "stream",
          "name": "stdout",
          "text": [
            "Server-side unseen generalization RMSE loss 0.10298841446638107, MAE loss0.06922256946563721, R-Square-2.384185791015625e-07\n"
          ]
        },
        {
          "output_type": "stream",
          "name": "stderr",
          "text": [
            "DEBUG flwr 2024-01-06 12:50:40,268 | server.py:236 | fit_round 89 received 2 results and 0 failures\n",
            "DEBUG:flwr:fit_round 89 received 2 results and 0 failures\n",
            "INFO flwr 2024-01-06 12:50:40,312 | server.py:125 | fit progress: (89, 0.10894358158111572, {'generalization RMSE': 0.10894358158111572, 'generalization MAE': 0.07983227074146271, 'generalization R2': 1.0132789611816406e-06}, 43.599408607999976)\n",
            "INFO:flwr:fit progress: (89, 0.10894358158111572, {'generalization RMSE': 0.10894358158111572, 'generalization MAE': 0.07983227074146271, 'generalization R2': 1.0132789611816406e-06}, 43.599408607999976)\n",
            "DEBUG flwr 2024-01-06 12:50:40,316 | server.py:173 | evaluate_round 89: strategy sampled 2 clients (out of 2)\n",
            "DEBUG:flwr:evaluate_round 89: strategy sampled 2 clients (out of 2)\n",
            "DEBUG flwr 2024-01-06 12:50:40,392 | server.py:187 | evaluate_round 89 received 2 results and 0 failures\n",
            "DEBUG:flwr:evaluate_round 89 received 2 results and 0 failures\n",
            "DEBUG flwr 2024-01-06 12:50:40,395 | server.py:222 | fit_round 90: strategy sampled 2 clients (out of 2)\n",
            "DEBUG:flwr:fit_round 90: strategy sampled 2 clients (out of 2)\n"
          ]
        },
        {
          "output_type": "stream",
          "name": "stdout",
          "text": [
            "Server-side unseen generalization RMSE loss 0.10894358158111572, MAE loss0.07983227074146271, R-Square1.0132789611816406e-06\n"
          ]
        },
        {
          "output_type": "stream",
          "name": "stderr",
          "text": [
            "DEBUG flwr 2024-01-06 12:50:40,539 | server.py:236 | fit_round 90 received 2 results and 0 failures\n",
            "DEBUG:flwr:fit_round 90 received 2 results and 0 failures\n",
            "INFO flwr 2024-01-06 12:50:40,580 | server.py:125 | fit progress: (90, 0.13895097374916077, {'generalization RMSE': 0.13895097374916077, 'generalization MAE': 0.11905258148908615, 'generalization R2': 2.980232238769531e-07}, 43.8673870749999)\n",
            "INFO:flwr:fit progress: (90, 0.13895097374916077, {'generalization RMSE': 0.13895097374916077, 'generalization MAE': 0.11905258148908615, 'generalization R2': 2.980232238769531e-07}, 43.8673870749999)\n",
            "DEBUG flwr 2024-01-06 12:50:40,585 | server.py:173 | evaluate_round 90: strategy sampled 2 clients (out of 2)\n",
            "DEBUG:flwr:evaluate_round 90: strategy sampled 2 clients (out of 2)\n",
            "DEBUG flwr 2024-01-06 12:50:40,660 | server.py:187 | evaluate_round 90 received 2 results and 0 failures\n",
            "DEBUG:flwr:evaluate_round 90 received 2 results and 0 failures\n",
            "DEBUG flwr 2024-01-06 12:50:40,664 | server.py:222 | fit_round 91: strategy sampled 2 clients (out of 2)\n",
            "DEBUG:flwr:fit_round 91: strategy sampled 2 clients (out of 2)\n"
          ]
        },
        {
          "output_type": "stream",
          "name": "stdout",
          "text": [
            "Server-side unseen generalization RMSE loss 0.13895097374916077, MAE loss0.11905258148908615, R-Square2.980232238769531e-07\n"
          ]
        },
        {
          "output_type": "stream",
          "name": "stderr",
          "text": [
            "DEBUG flwr 2024-01-06 12:50:40,814 | server.py:236 | fit_round 91 received 2 results and 0 failures\n",
            "DEBUG:flwr:fit_round 91 received 2 results and 0 failures\n",
            "INFO flwr 2024-01-06 12:50:40,859 | server.py:125 | fit progress: (91, 0.12153885513544083, {'generalization RMSE': 0.12153885513544083, 'generalization MAE': 0.0915001928806305, 'generalization R2': 1.7881393432617188e-07}, 44.14665768099985)\n",
            "INFO:flwr:fit progress: (91, 0.12153885513544083, {'generalization RMSE': 0.12153885513544083, 'generalization MAE': 0.0915001928806305, 'generalization R2': 1.7881393432617188e-07}, 44.14665768099985)\n",
            "DEBUG flwr 2024-01-06 12:50:40,863 | server.py:173 | evaluate_round 91: strategy sampled 2 clients (out of 2)\n",
            "DEBUG:flwr:evaluate_round 91: strategy sampled 2 clients (out of 2)\n",
            "DEBUG flwr 2024-01-06 12:50:40,955 | server.py:187 | evaluate_round 91 received 2 results and 0 failures\n",
            "DEBUG:flwr:evaluate_round 91 received 2 results and 0 failures\n",
            "DEBUG flwr 2024-01-06 12:50:40,960 | server.py:222 | fit_round 92: strategy sampled 2 clients (out of 2)\n",
            "DEBUG:flwr:fit_round 92: strategy sampled 2 clients (out of 2)\n"
          ]
        },
        {
          "output_type": "stream",
          "name": "stdout",
          "text": [
            "Server-side unseen generalization RMSE loss 0.12153885513544083, MAE loss0.0915001928806305, R-Square1.7881393432617188e-07\n"
          ]
        },
        {
          "output_type": "stream",
          "name": "stderr",
          "text": [
            "DEBUG flwr 2024-01-06 12:50:41,114 | server.py:236 | fit_round 92 received 2 results and 0 failures\n",
            "DEBUG:flwr:fit_round 92 received 2 results and 0 failures\n",
            "INFO flwr 2024-01-06 12:50:41,157 | server.py:125 | fit progress: (92, 0.14616556465625763, {'generalization RMSE': 0.14616556465625763, 'generalization MAE': 0.12520906329154968, 'generalization R2': 0.0}, 44.44461105900018)\n",
            "INFO:flwr:fit progress: (92, 0.14616556465625763, {'generalization RMSE': 0.14616556465625763, 'generalization MAE': 0.12520906329154968, 'generalization R2': 0.0}, 44.44461105900018)\n",
            "DEBUG flwr 2024-01-06 12:50:41,163 | server.py:173 | evaluate_round 92: strategy sampled 2 clients (out of 2)\n",
            "DEBUG:flwr:evaluate_round 92: strategy sampled 2 clients (out of 2)\n",
            "DEBUG flwr 2024-01-06 12:50:41,237 | server.py:187 | evaluate_round 92 received 2 results and 0 failures\n",
            "DEBUG:flwr:evaluate_round 92 received 2 results and 0 failures\n",
            "DEBUG flwr 2024-01-06 12:50:41,241 | server.py:222 | fit_round 93: strategy sampled 2 clients (out of 2)\n",
            "DEBUG:flwr:fit_round 93: strategy sampled 2 clients (out of 2)\n"
          ]
        },
        {
          "output_type": "stream",
          "name": "stdout",
          "text": [
            "Server-side unseen generalization RMSE loss 0.14616556465625763, MAE loss0.12520906329154968, R-Square0.0\n",
            "\u001b[2m\u001b[36m(DefaultActor pid=12957)\u001b[0m [Client 1] fit, config: {'server_round': 93, 'local_epochs': 20}\u001b[32m [repeated 31x across cluster]\u001b[0m\n"
          ]
        },
        {
          "output_type": "stream",
          "name": "stderr",
          "text": [
            "DEBUG flwr 2024-01-06 12:50:41,394 | server.py:236 | fit_round 93 received 2 results and 0 failures\n",
            "DEBUG:flwr:fit_round 93 received 2 results and 0 failures\n",
            "INFO flwr 2024-01-06 12:50:41,436 | server.py:125 | fit progress: (93, 0.10358797013759613, {'generalization RMSE': 0.10358797013759613, 'generalization MAE': 0.0911814272403717, 'generalization R2': -3.5762786865234375e-07}, 44.723660720000225)\n",
            "INFO:flwr:fit progress: (93, 0.10358797013759613, {'generalization RMSE': 0.10358797013759613, 'generalization MAE': 0.0911814272403717, 'generalization R2': -3.5762786865234375e-07}, 44.723660720000225)\n",
            "DEBUG flwr 2024-01-06 12:50:41,440 | server.py:173 | evaluate_round 93: strategy sampled 2 clients (out of 2)\n",
            "DEBUG:flwr:evaluate_round 93: strategy sampled 2 clients (out of 2)\n",
            "DEBUG flwr 2024-01-06 12:50:41,519 | server.py:187 | evaluate_round 93 received 2 results and 0 failures\n",
            "DEBUG:flwr:evaluate_round 93 received 2 results and 0 failures\n",
            "DEBUG flwr 2024-01-06 12:50:41,524 | server.py:222 | fit_round 94: strategy sampled 2 clients (out of 2)\n",
            "DEBUG:flwr:fit_round 94: strategy sampled 2 clients (out of 2)\n"
          ]
        },
        {
          "output_type": "stream",
          "name": "stdout",
          "text": [
            "Server-side unseen generalization RMSE loss 0.10358797013759613, MAE loss0.0911814272403717, R-Square-3.5762786865234375e-07\n"
          ]
        },
        {
          "output_type": "stream",
          "name": "stderr",
          "text": [
            "DEBUG flwr 2024-01-06 12:50:41,669 | server.py:236 | fit_round 94 received 2 results and 0 failures\n",
            "DEBUG:flwr:fit_round 94 received 2 results and 0 failures\n",
            "INFO flwr 2024-01-06 12:50:41,718 | server.py:125 | fit progress: (94, 0.1460041105747223, {'generalization RMSE': 0.1460041105747223, 'generalization MAE': 0.12587875127792358, 'generalization R2': 1.7881393432617188e-07}, 45.00574422699992)\n",
            "INFO:flwr:fit progress: (94, 0.1460041105747223, {'generalization RMSE': 0.1460041105747223, 'generalization MAE': 0.12587875127792358, 'generalization R2': 1.7881393432617188e-07}, 45.00574422699992)\n",
            "DEBUG flwr 2024-01-06 12:50:41,723 | server.py:173 | evaluate_round 94: strategy sampled 2 clients (out of 2)\n",
            "DEBUG:flwr:evaluate_round 94: strategy sampled 2 clients (out of 2)\n",
            "DEBUG flwr 2024-01-06 12:50:41,791 | server.py:187 | evaluate_round 94 received 2 results and 0 failures\n",
            "DEBUG:flwr:evaluate_round 94 received 2 results and 0 failures\n",
            "DEBUG flwr 2024-01-06 12:50:41,795 | server.py:222 | fit_round 95: strategy sampled 2 clients (out of 2)\n",
            "DEBUG:flwr:fit_round 95: strategy sampled 2 clients (out of 2)\n"
          ]
        },
        {
          "output_type": "stream",
          "name": "stdout",
          "text": [
            "Server-side unseen generalization RMSE loss 0.1460041105747223, MAE loss0.12587875127792358, R-Square1.7881393432617188e-07\n"
          ]
        },
        {
          "output_type": "stream",
          "name": "stderr",
          "text": [
            "DEBUG flwr 2024-01-06 12:50:41,955 | server.py:236 | fit_round 95 received 2 results and 0 failures\n",
            "DEBUG:flwr:fit_round 95 received 2 results and 0 failures\n",
            "INFO flwr 2024-01-06 12:50:42,003 | server.py:125 | fit progress: (95, 0.1023452952504158, {'generalization RMSE': 0.1023452952504158, 'generalization MAE': 0.08073214441537857, 'generalization R2': -2.384185791015625e-07}, 45.29063073399993)\n",
            "INFO:flwr:fit progress: (95, 0.1023452952504158, {'generalization RMSE': 0.1023452952504158, 'generalization MAE': 0.08073214441537857, 'generalization R2': -2.384185791015625e-07}, 45.29063073399993)\n",
            "DEBUG flwr 2024-01-06 12:50:42,008 | server.py:173 | evaluate_round 95: strategy sampled 2 clients (out of 2)\n",
            "DEBUG:flwr:evaluate_round 95: strategy sampled 2 clients (out of 2)\n",
            "DEBUG flwr 2024-01-06 12:50:42,080 | server.py:187 | evaluate_round 95 received 2 results and 0 failures\n",
            "DEBUG:flwr:evaluate_round 95 received 2 results and 0 failures\n",
            "DEBUG flwr 2024-01-06 12:50:42,083 | server.py:222 | fit_round 96: strategy sampled 2 clients (out of 2)\n",
            "DEBUG:flwr:fit_round 96: strategy sampled 2 clients (out of 2)\n"
          ]
        },
        {
          "output_type": "stream",
          "name": "stdout",
          "text": [
            "Server-side unseen generalization RMSE loss 0.1023452952504158, MAE loss0.08073214441537857, R-Square-2.384185791015625e-07\n",
            "\u001b[2m\u001b[36m(DefaultActor pid=12956)\u001b[0m Epoch 1: train MSE 0.014059565961360931, train MAE 0.09527534246444702, train R2 -989354000384.0\u001b[32m [repeated 23x across cluster]\u001b[0m\n"
          ]
        },
        {
          "output_type": "stream",
          "name": "stderr",
          "text": [
            "DEBUG flwr 2024-01-06 12:50:42,234 | server.py:236 | fit_round 96 received 2 results and 0 failures\n",
            "DEBUG:flwr:fit_round 96 received 2 results and 0 failures\n",
            "INFO flwr 2024-01-06 12:50:42,286 | server.py:125 | fit progress: (96, 0.11404000222682953, {'generalization RMSE': 0.11404000222682953, 'generalization MAE': 0.09681517630815506, 'generalization R2': -3.5762786865234375e-07}, 45.57351198300012)\n",
            "INFO:flwr:fit progress: (96, 0.11404000222682953, {'generalization RMSE': 0.11404000222682953, 'generalization MAE': 0.09681517630815506, 'generalization R2': -3.5762786865234375e-07}, 45.57351198300012)\n",
            "DEBUG flwr 2024-01-06 12:50:42,292 | server.py:173 | evaluate_round 96: strategy sampled 2 clients (out of 2)\n",
            "DEBUG:flwr:evaluate_round 96: strategy sampled 2 clients (out of 2)\n",
            "DEBUG flwr 2024-01-06 12:50:42,374 | server.py:187 | evaluate_round 96 received 2 results and 0 failures\n",
            "DEBUG:flwr:evaluate_round 96 received 2 results and 0 failures\n",
            "DEBUG flwr 2024-01-06 12:50:42,378 | server.py:222 | fit_round 97: strategy sampled 2 clients (out of 2)\n",
            "DEBUG:flwr:fit_round 97: strategy sampled 2 clients (out of 2)\n"
          ]
        },
        {
          "output_type": "stream",
          "name": "stdout",
          "text": [
            "\u001b[2m\u001b[36m(DefaultActor pid=12956)\u001b[0m [Client 0] evaluate, config: {}\u001b[32m [repeated 32x across cluster]\u001b[0m\n",
            "Server-side unseen generalization RMSE loss 0.11404000222682953, MAE loss0.09681517630815506, R-Square-3.5762786865234375e-07\n"
          ]
        },
        {
          "output_type": "stream",
          "name": "stderr",
          "text": [
            "DEBUG flwr 2024-01-06 12:50:42,520 | server.py:236 | fit_round 97 received 2 results and 0 failures\n",
            "DEBUG:flwr:fit_round 97 received 2 results and 0 failures\n",
            "INFO flwr 2024-01-06 12:50:42,565 | server.py:125 | fit progress: (97, 0.1319485902786255, {'generalization RMSE': 0.1319485902786255, 'generalization MAE': 0.10817546397447586, 'generalization R2': 0.0}, 45.85222631800025)\n",
            "INFO:flwr:fit progress: (97, 0.1319485902786255, {'generalization RMSE': 0.1319485902786255, 'generalization MAE': 0.10817546397447586, 'generalization R2': 0.0}, 45.85222631800025)\n",
            "DEBUG flwr 2024-01-06 12:50:42,569 | server.py:173 | evaluate_round 97: strategy sampled 2 clients (out of 2)\n",
            "DEBUG:flwr:evaluate_round 97: strategy sampled 2 clients (out of 2)\n",
            "DEBUG flwr 2024-01-06 12:50:42,644 | server.py:187 | evaluate_round 97 received 2 results and 0 failures\n",
            "DEBUG:flwr:evaluate_round 97 received 2 results and 0 failures\n",
            "DEBUG flwr 2024-01-06 12:50:42,646 | server.py:222 | fit_round 98: strategy sampled 2 clients (out of 2)\n",
            "DEBUG:flwr:fit_round 98: strategy sampled 2 clients (out of 2)\n"
          ]
        },
        {
          "output_type": "stream",
          "name": "stdout",
          "text": [
            "Server-side unseen generalization RMSE loss 0.1319485902786255, MAE loss0.10817546397447586, R-Square0.0\n"
          ]
        },
        {
          "output_type": "stream",
          "name": "stderr",
          "text": [
            "DEBUG flwr 2024-01-06 12:50:42,795 | server.py:236 | fit_round 98 received 2 results and 0 failures\n",
            "DEBUG:flwr:fit_round 98 received 2 results and 0 failures\n",
            "INFO flwr 2024-01-06 12:50:42,837 | server.py:125 | fit progress: (98, 0.1146630346775055, {'generalization RMSE': 0.1146630346775055, 'generalization MAE': 0.08541739732027054, 'generalization R2': 0.0}, 46.124389411000266)\n",
            "INFO:flwr:fit progress: (98, 0.1146630346775055, {'generalization RMSE': 0.1146630346775055, 'generalization MAE': 0.08541739732027054, 'generalization R2': 0.0}, 46.124389411000266)\n",
            "DEBUG flwr 2024-01-06 12:50:42,841 | server.py:173 | evaluate_round 98: strategy sampled 2 clients (out of 2)\n",
            "DEBUG:flwr:evaluate_round 98: strategy sampled 2 clients (out of 2)\n",
            "DEBUG flwr 2024-01-06 12:50:42,925 | server.py:187 | evaluate_round 98 received 2 results and 0 failures\n",
            "DEBUG:flwr:evaluate_round 98 received 2 results and 0 failures\n",
            "DEBUG flwr 2024-01-06 12:50:42,929 | server.py:222 | fit_round 99: strategy sampled 2 clients (out of 2)\n",
            "DEBUG:flwr:fit_round 99: strategy sampled 2 clients (out of 2)\n"
          ]
        },
        {
          "output_type": "stream",
          "name": "stdout",
          "text": [
            "Server-side unseen generalization RMSE loss 0.1146630346775055, MAE loss0.08541739732027054, R-Square0.0\n",
            "\u001b[2m\u001b[36m(DefaultActor pid=12957)\u001b[0m Epoch 1: train MSE 0.013184322975575924, train MAE 0.0938568189740181, train R2 -inf\u001b[32m [repeated 9x across cluster]\u001b[0m\n"
          ]
        },
        {
          "output_type": "stream",
          "name": "stderr",
          "text": [
            "DEBUG flwr 2024-01-06 12:50:43,101 | server.py:236 | fit_round 99 received 2 results and 0 failures\n",
            "DEBUG:flwr:fit_round 99 received 2 results and 0 failures\n",
            "INFO flwr 2024-01-06 12:50:43,146 | server.py:125 | fit progress: (99, 0.13056455552577972, {'generalization RMSE': 0.13056455552577972, 'generalization MAE': 0.11351964622735977, 'generalization R2': 2.384185791015625e-07}, 46.433789157999854)\n",
            "INFO:flwr:fit progress: (99, 0.13056455552577972, {'generalization RMSE': 0.13056455552577972, 'generalization MAE': 0.11351964622735977, 'generalization R2': 2.384185791015625e-07}, 46.433789157999854)\n",
            "DEBUG flwr 2024-01-06 12:50:43,150 | server.py:173 | evaluate_round 99: strategy sampled 2 clients (out of 2)\n",
            "DEBUG:flwr:evaluate_round 99: strategy sampled 2 clients (out of 2)\n",
            "DEBUG flwr 2024-01-06 12:50:43,228 | server.py:187 | evaluate_round 99 received 2 results and 0 failures\n",
            "DEBUG:flwr:evaluate_round 99 received 2 results and 0 failures\n",
            "DEBUG flwr 2024-01-06 12:50:43,232 | server.py:222 | fit_round 100: strategy sampled 2 clients (out of 2)\n",
            "DEBUG:flwr:fit_round 100: strategy sampled 2 clients (out of 2)\n"
          ]
        },
        {
          "output_type": "stream",
          "name": "stdout",
          "text": [
            "Server-side unseen generalization RMSE loss 0.13056455552577972, MAE loss0.11351964622735977, R-Square2.384185791015625e-07\n"
          ]
        },
        {
          "output_type": "stream",
          "name": "stderr",
          "text": [
            "DEBUG flwr 2024-01-06 12:50:43,398 | server.py:236 | fit_round 100 received 2 results and 0 failures\n",
            "DEBUG:flwr:fit_round 100 received 2 results and 0 failures\n",
            "INFO flwr 2024-01-06 12:50:43,447 | server.py:125 | fit progress: (100, 0.12948572635650635, {'generalization RMSE': 0.12948572635650635, 'generalization MAE': 0.11269231140613556, 'generalization R2': -9.5367431640625e-07}, 46.73457822199998)\n",
            "INFO:flwr:fit progress: (100, 0.12948572635650635, {'generalization RMSE': 0.12948572635650635, 'generalization MAE': 0.11269231140613556, 'generalization R2': -9.5367431640625e-07}, 46.73457822199998)\n",
            "DEBUG flwr 2024-01-06 12:50:43,451 | server.py:173 | evaluate_round 100: strategy sampled 2 clients (out of 2)\n",
            "DEBUG:flwr:evaluate_round 100: strategy sampled 2 clients (out of 2)\n",
            "DEBUG flwr 2024-01-06 12:50:43,540 | server.py:187 | evaluate_round 100 received 2 results and 0 failures\n",
            "DEBUG:flwr:evaluate_round 100 received 2 results and 0 failures\n",
            "INFO flwr 2024-01-06 12:50:43,543 | server.py:153 | FL finished in 46.83057699600022\n",
            "INFO:flwr:FL finished in 46.83057699600022\n",
            "INFO flwr 2024-01-06 12:50:43,546 | app.py:226 | app_fit: losses_distributed [(1, 0.877393364906311), (2, 0.8465016186237335), (3, 0.8224548399448395), (4, 0.8059016168117523), (5, 0.7894996404647827), (6, 0.7730933129787445), (7, 0.7566690742969513), (8, 0.7402818500995636), (9, 0.7238939702510834), (10, 0.7075117230415344), (11, 0.6911587417125702), (12, 0.6747960448265076), (13, 0.6584906876087189), (14, 0.6421857178211212), (15, 0.62591552734375), (16, 0.6096370220184326), (17, 0.5933740437030792), (18, 0.5771499276161194), (19, 0.5609356462955475), (20, 0.5447629988193512), (21, 0.528605043888092), (22, 0.512488454580307), (23, 0.4963732063770294), (24, 0.48029570281505585), (25, 0.4642877131700516), (26, 0.4483226537704468), (27, 0.4324005991220474), (28, 0.4165450185537338), (29, 0.40077444911003113), (30, 0.3850089907646179), (31, 0.36933358013629913), (32, 0.353758841753006), (33, 0.33832748234272003), (34, 0.3229960799217224), (35, 0.30777575075626373), (36, 0.29258956015110016), (37, 0.27763089537620544), (38, 0.26292257010936737), (39, 0.24830931425094604), (40, 0.23413392156362534), (41, 0.22015387564897537), (42, 0.2066608890891075), (43, 0.19376491010189056), (44, 0.18156803399324417), (45, 0.1699483022093773), (46, 0.15906347334384918), (47, 0.1492171287536621), (48, 0.14132682979106903), (49, 0.1347186677157879), (50, 0.13047891855239868), (51, 0.1281639076769352), (52, 0.12765659019351006), (53, 0.1274404302239418), (54, 0.1275644674897194), (55, 0.12757981196045876), (56, 0.1274111457169056), (57, 0.12684259191155434), (58, 0.1273202821612358), (59, 0.12721437215805054), (60, 0.12741302698850632), (61, 0.1276084966957569), (62, 0.12745388597249985), (63, 0.12752040103077888), (64, 0.12713412567973137), (65, 0.1270703785121441), (66, 0.12733275070786476), (67, 0.12747551500797272), (68, 0.12760000303387642), (69, 0.12743522599339485), (70, 0.1274808570742607), (71, 0.1273328736424446), (72, 0.12711729109287262), (73, 0.12713578343391418), (74, 0.12753376737236977), (75, 0.1273753084242344), (76, 0.12759042903780937), (77, 0.12747996672987938), (78, 0.12760238721966743), (79, 0.12730098143219948), (80, 0.1271142140030861), (81, 0.12756819278001785), (82, 0.12763230875134468), (83, 0.12757866084575653), (84, 0.12763554975390434), (85, 0.12773509323596954), (86, 0.12723522633314133), (87, 0.12796736136078835), (88, 0.1275823712348938), (89, 0.1278228461742401), (90, 0.1277575008571148), (91, 0.12754884734749794), (92, 0.12758513167500496), (93, 0.12777815759181976), (94, 0.12784171104431152), (95, 0.12816425040364265), (96, 0.12763120979070663), (97, 0.1271839216351509), (98, 0.1271541863679886), (99, 0.12730978801846504), (100, 0.12752409651875496)]\n",
            "INFO:flwr:app_fit: losses_distributed [(1, 0.877393364906311), (2, 0.8465016186237335), (3, 0.8224548399448395), (4, 0.8059016168117523), (5, 0.7894996404647827), (6, 0.7730933129787445), (7, 0.7566690742969513), (8, 0.7402818500995636), (9, 0.7238939702510834), (10, 0.7075117230415344), (11, 0.6911587417125702), (12, 0.6747960448265076), (13, 0.6584906876087189), (14, 0.6421857178211212), (15, 0.62591552734375), (16, 0.6096370220184326), (17, 0.5933740437030792), (18, 0.5771499276161194), (19, 0.5609356462955475), (20, 0.5447629988193512), (21, 0.528605043888092), (22, 0.512488454580307), (23, 0.4963732063770294), (24, 0.48029570281505585), (25, 0.4642877131700516), (26, 0.4483226537704468), (27, 0.4324005991220474), (28, 0.4165450185537338), (29, 0.40077444911003113), (30, 0.3850089907646179), (31, 0.36933358013629913), (32, 0.353758841753006), (33, 0.33832748234272003), (34, 0.3229960799217224), (35, 0.30777575075626373), (36, 0.29258956015110016), (37, 0.27763089537620544), (38, 0.26292257010936737), (39, 0.24830931425094604), (40, 0.23413392156362534), (41, 0.22015387564897537), (42, 0.2066608890891075), (43, 0.19376491010189056), (44, 0.18156803399324417), (45, 0.1699483022093773), (46, 0.15906347334384918), (47, 0.1492171287536621), (48, 0.14132682979106903), (49, 0.1347186677157879), (50, 0.13047891855239868), (51, 0.1281639076769352), (52, 0.12765659019351006), (53, 0.1274404302239418), (54, 0.1275644674897194), (55, 0.12757981196045876), (56, 0.1274111457169056), (57, 0.12684259191155434), (58, 0.1273202821612358), (59, 0.12721437215805054), (60, 0.12741302698850632), (61, 0.1276084966957569), (62, 0.12745388597249985), (63, 0.12752040103077888), (64, 0.12713412567973137), (65, 0.1270703785121441), (66, 0.12733275070786476), (67, 0.12747551500797272), (68, 0.12760000303387642), (69, 0.12743522599339485), (70, 0.1274808570742607), (71, 0.1273328736424446), (72, 0.12711729109287262), (73, 0.12713578343391418), (74, 0.12753376737236977), (75, 0.1273753084242344), (76, 0.12759042903780937), (77, 0.12747996672987938), (78, 0.12760238721966743), (79, 0.12730098143219948), (80, 0.1271142140030861), (81, 0.12756819278001785), (82, 0.12763230875134468), (83, 0.12757866084575653), (84, 0.12763554975390434), (85, 0.12773509323596954), (86, 0.12723522633314133), (87, 0.12796736136078835), (88, 0.1275823712348938), (89, 0.1278228461742401), (90, 0.1277575008571148), (91, 0.12754884734749794), (92, 0.12758513167500496), (93, 0.12777815759181976), (94, 0.12784171104431152), (95, 0.12816425040364265), (96, 0.12763120979070663), (97, 0.1271839216351509), (98, 0.1271541863679886), (99, 0.12730978801846504), (100, 0.12752409651875496)]\n",
            "INFO flwr 2024-01-06 12:50:43,549 | app.py:227 | app_fit: metrics_distributed_fit {}\n",
            "INFO:flwr:app_fit: metrics_distributed_fit {}\n",
            "INFO flwr 2024-01-06 12:50:43,551 | app.py:228 | app_fit: metrics_distributed {}\n",
            "INFO:flwr:app_fit: metrics_distributed {}\n",
            "INFO flwr 2024-01-06 12:50:43,553 | app.py:229 | app_fit: losses_centralized [(0, 0.8828585147857666), (1, 0.907082736492157), (2, 0.8191032409667969), (3, 0.7578230500221252), (4, 0.7413360476493835), (5, 0.7691686153411865), (6, 0.7422467470169067), (7, 0.7801252603530884), (8, 0.6537386775016785), (9, 0.6354175209999084), (10, 0.6961795091629028), (11, 0.6858895421028137), (12, 0.6503244042396545), (13, 0.6315168142318726), (14, 0.661665141582489), (15, 0.5619062781333923), (16, 0.6010575890541077), (17, 0.5705356001853943), (18, 0.5371898412704468), (19, 0.527725338935852), (20, 0.4600411057472229), (21, 0.48785096406936646), (22, 0.42207643389701843), (23, 0.42008349299430847), (24, 0.47470322251319885), (25, 0.4233509600162506), (26, 0.41156888008117676), (27, 0.33980414271354675), (28, 0.3732553720474243), (29, 0.4076143503189087), (30, 0.29554155468940735), (31, 0.22346244752407074), (32, 0.3293207287788391), (33, 0.2873459458351135), (34, 0.35745158791542053), (35, 0.25018438696861267), (36, 0.24975991249084473), (37, 0.1752660572528839), (38, 0.20357072353363037), (39, 0.15896466374397278), (40, 0.2162778079509735), (41, 0.1873691827058792), (42, 0.2150699496269226), (43, 0.12010610848665237), (44, 0.13498614728450775), (45, 0.11433127522468567), (46, 0.10993674397468567), (47, 0.12823431193828583), (48, 0.11635039001703262), (49, 0.10750515758991241), (50, 0.10128619521856308), (51, 0.09410856664180756), (52, 0.11847627907991409), (53, 0.10464861989021301), (54, 0.11856570094823837), (55, 0.10743629932403564), (56, 0.10817870497703552), (57, 0.08832444995641708), (58, 0.07578728348016739), (59, 0.08630022406578064), (60, 0.10625720769166946), (61, 0.1365174651145935), (62, 0.12333362549543381), (63, 0.10020594298839569), (64, 0.13721683621406555), (65, 0.10494259744882584), (66, 0.11788979172706604), (67, 0.09610702842473984), (68, 0.11622071266174316), (69, 0.10799142718315125), (70, 0.12361187487840652), (71, 0.09431484341621399), (72, 0.11290019005537033), (73, 0.12365943938493729), (74, 0.0933767631649971), (75, 0.13325920701026917), (76, 0.13768863677978516), (77, 0.11397603899240494), (78, 0.14522917568683624), (79, 0.09430599957704544), (80, 0.09020508080720901), (81, 0.10733702778816223), (82, 0.13182790577411652), (83, 0.12762710452079773), (84, 0.078565314412117), (85, 0.09477755427360535), (86, 0.12343690544366837), (87, 0.10134138911962509), (88, 0.10298841446638107), (89, 0.10894358158111572), (90, 0.13895097374916077), (91, 0.12153885513544083), (92, 0.14616556465625763), (93, 0.10358797013759613), (94, 0.1460041105747223), (95, 0.1023452952504158), (96, 0.11404000222682953), (97, 0.1319485902786255), (98, 0.1146630346775055), (99, 0.13056455552577972), (100, 0.12948572635650635)]\n",
            "INFO:flwr:app_fit: losses_centralized [(0, 0.8828585147857666), (1, 0.907082736492157), (2, 0.8191032409667969), (3, 0.7578230500221252), (4, 0.7413360476493835), (5, 0.7691686153411865), (6, 0.7422467470169067), (7, 0.7801252603530884), (8, 0.6537386775016785), (9, 0.6354175209999084), (10, 0.6961795091629028), (11, 0.6858895421028137), (12, 0.6503244042396545), (13, 0.6315168142318726), (14, 0.661665141582489), (15, 0.5619062781333923), (16, 0.6010575890541077), (17, 0.5705356001853943), (18, 0.5371898412704468), (19, 0.527725338935852), (20, 0.4600411057472229), (21, 0.48785096406936646), (22, 0.42207643389701843), (23, 0.42008349299430847), (24, 0.47470322251319885), (25, 0.4233509600162506), (26, 0.41156888008117676), (27, 0.33980414271354675), (28, 0.3732553720474243), (29, 0.4076143503189087), (30, 0.29554155468940735), (31, 0.22346244752407074), (32, 0.3293207287788391), (33, 0.2873459458351135), (34, 0.35745158791542053), (35, 0.25018438696861267), (36, 0.24975991249084473), (37, 0.1752660572528839), (38, 0.20357072353363037), (39, 0.15896466374397278), (40, 0.2162778079509735), (41, 0.1873691827058792), (42, 0.2150699496269226), (43, 0.12010610848665237), (44, 0.13498614728450775), (45, 0.11433127522468567), (46, 0.10993674397468567), (47, 0.12823431193828583), (48, 0.11635039001703262), (49, 0.10750515758991241), (50, 0.10128619521856308), (51, 0.09410856664180756), (52, 0.11847627907991409), (53, 0.10464861989021301), (54, 0.11856570094823837), (55, 0.10743629932403564), (56, 0.10817870497703552), (57, 0.08832444995641708), (58, 0.07578728348016739), (59, 0.08630022406578064), (60, 0.10625720769166946), (61, 0.1365174651145935), (62, 0.12333362549543381), (63, 0.10020594298839569), (64, 0.13721683621406555), (65, 0.10494259744882584), (66, 0.11788979172706604), (67, 0.09610702842473984), (68, 0.11622071266174316), (69, 0.10799142718315125), (70, 0.12361187487840652), (71, 0.09431484341621399), (72, 0.11290019005537033), (73, 0.12365943938493729), (74, 0.0933767631649971), (75, 0.13325920701026917), (76, 0.13768863677978516), (77, 0.11397603899240494), (78, 0.14522917568683624), (79, 0.09430599957704544), (80, 0.09020508080720901), (81, 0.10733702778816223), (82, 0.13182790577411652), (83, 0.12762710452079773), (84, 0.078565314412117), (85, 0.09477755427360535), (86, 0.12343690544366837), (87, 0.10134138911962509), (88, 0.10298841446638107), (89, 0.10894358158111572), (90, 0.13895097374916077), (91, 0.12153885513544083), (92, 0.14616556465625763), (93, 0.10358797013759613), (94, 0.1460041105747223), (95, 0.1023452952504158), (96, 0.11404000222682953), (97, 0.1319485902786255), (98, 0.1146630346775055), (99, 0.13056455552577972), (100, 0.12948572635650635)]\n",
            "INFO flwr 2024-01-06 12:50:43,556 | app.py:230 | app_fit: metrics_centralized {'generalization RMSE': [(0, 0.8828585147857666), (1, 0.907082736492157), (2, 0.8191032409667969), (3, 0.7578230500221252), (4, 0.7413360476493835), (5, 0.7691686153411865), (6, 0.7422467470169067), (7, 0.7801252603530884), (8, 0.6537386775016785), (9, 0.6354175209999084), (10, 0.6961795091629028), (11, 0.6858895421028137), (12, 0.6503244042396545), (13, 0.6315168142318726), (14, 0.661665141582489), (15, 0.5619062781333923), (16, 0.6010575890541077), (17, 0.5705356001853943), (18, 0.5371898412704468), (19, 0.527725338935852), (20, 0.4600411057472229), (21, 0.48785096406936646), (22, 0.42207643389701843), (23, 0.42008349299430847), (24, 0.47470322251319885), (25, 0.4233509600162506), (26, 0.41156888008117676), (27, 0.33980414271354675), (28, 0.3732553720474243), (29, 0.4076143503189087), (30, 0.29554155468940735), (31, 0.22346244752407074), (32, 0.3293207287788391), (33, 0.2873459458351135), (34, 0.35745158791542053), (35, 0.25018438696861267), (36, 0.24975991249084473), (37, 0.1752660572528839), (38, 0.20357072353363037), (39, 0.15896466374397278), (40, 0.2162778079509735), (41, 0.1873691827058792), (42, 0.2150699496269226), (43, 0.12010610848665237), (44, 0.13498614728450775), (45, 0.11433127522468567), (46, 0.10993674397468567), (47, 0.12823431193828583), (48, 0.11635039001703262), (49, 0.10750515758991241), (50, 0.10128619521856308), (51, 0.09410856664180756), (52, 0.11847627907991409), (53, 0.10464861989021301), (54, 0.11856570094823837), (55, 0.10743629932403564), (56, 0.10817870497703552), (57, 0.08832444995641708), (58, 0.07578728348016739), (59, 0.08630022406578064), (60, 0.10625720769166946), (61, 0.1365174651145935), (62, 0.12333362549543381), (63, 0.10020594298839569), (64, 0.13721683621406555), (65, 0.10494259744882584), (66, 0.11788979172706604), (67, 0.09610702842473984), (68, 0.11622071266174316), (69, 0.10799142718315125), (70, 0.12361187487840652), (71, 0.09431484341621399), (72, 0.11290019005537033), (73, 0.12365943938493729), (74, 0.0933767631649971), (75, 0.13325920701026917), (76, 0.13768863677978516), (77, 0.11397603899240494), (78, 0.14522917568683624), (79, 0.09430599957704544), (80, 0.09020508080720901), (81, 0.10733702778816223), (82, 0.13182790577411652), (83, 0.12762710452079773), (84, 0.078565314412117), (85, 0.09477755427360535), (86, 0.12343690544366837), (87, 0.10134138911962509), (88, 0.10298841446638107), (89, 0.10894358158111572), (90, 0.13895097374916077), (91, 0.12153885513544083), (92, 0.14616556465625763), (93, 0.10358797013759613), (94, 0.1460041105747223), (95, 0.1023452952504158), (96, 0.11404000222682953), (97, 0.1319485902786255), (98, 0.1146630346775055), (99, 0.13056455552577972), (100, 0.12948572635650635)], 'generalization MAE': [(0, 0.8730707168579102), (1, 0.9005072116851807), (2, 0.8097782731056213), (3, 0.7463189959526062), (4, 0.7353897094726562), (5, 0.7585607171058655), (6, 0.7362639904022217), (7, 0.7707580327987671), (8, 0.6461889147758484), (9, 0.6238813400268555), (10, 0.6867955327033997), (11, 0.681545615196228), (12, 0.642181932926178), (13, 0.6199080944061279), (14, 0.648756206035614), (15, 0.5469416975975037), (16, 0.5871468186378479), (17, 0.5648488402366638), (18, 0.5255247354507446), (19, 0.5089156031608582), (20, 0.446870356798172), (21, 0.47572267055511475), (22, 0.40799760818481445), (23, 0.4027418792247772), (24, 0.45998966693878174), (25, 0.40931597352027893), (26, 0.3984162509441376), (27, 0.31933140754699707), (28, 0.35389843583106995), (29, 0.39985811710357666), (30, 0.2809826135635376), (31, 0.21326136589050293), (32, 0.31601402163505554), (33, 0.2597291171550751), (34, 0.3511646091938019), (35, 0.22099696099758148), (36, 0.22139295935630798), (37, 0.15367472171783447), (38, 0.17692981660366058), (39, 0.1488979309797287), (40, 0.1949232965707779), (41, 0.1680935025215149), (42, 0.18868407607078552), (43, 0.11002922058105469), (44, 0.09571066498756409), (45, 0.10429143905639648), (46, 0.09818926453590393), (47, 0.10890272259712219), (48, 0.08862189203500748), (49, 0.08578655123710632), (50, 0.08060738444328308), (51, 0.07835908979177475), (52, 0.0911417081952095), (53, 0.0857098251581192), (54, 0.10207050293684006), (55, 0.09596899151802063), (56, 0.08568030595779419), (57, 0.05704917758703232), (58, 0.05766019597649574), (59, 0.05155692994594574), (60, 0.07969710230827332), (61, 0.1191013976931572), (62, 0.09708700329065323), (63, 0.06911972165107727), (64, 0.11937462538480759), (65, 0.07403499633073807), (66, 0.09696447104215622), (67, 0.06869962811470032), (68, 0.0959489643573761), (69, 0.08570459485054016), (70, 0.10174954682588577), (71, 0.07423732429742813), (72, 0.07969725131988525), (73, 0.09687592834234238), (74, 0.08088966459035873), (75, 0.11377529799938202), (76, 0.11995062977075577), (77, 0.09676499664783478), (78, 0.1313261091709137), (79, 0.06329607963562012), (80, 0.05138399451971054), (81, 0.0809696614742279), (82, 0.11954281479120255), (83, 0.10289347916841507), (84, 0.04613164812326431), (85, 0.07567184418439865), (86, 0.10786327719688416), (87, 0.08622703701257706), (88, 0.06922256946563721), (89, 0.07983227074146271), (90, 0.11905258148908615), (91, 0.0915001928806305), (92, 0.12520906329154968), (93, 0.0911814272403717), (94, 0.12587875127792358), (95, 0.08073214441537857), (96, 0.09681517630815506), (97, 0.10817546397447586), (98, 0.08541739732027054), (99, 0.11351964622735977), (100, 0.11269231140613556)], 'generalization R2': [(0, 0.0001500248908996582), (1, 0.0002288222312927246), (2, 7.212162017822266e-05), (3, 0.0), (4, 0.0), (5, 0.0), (6, 0.0), (7, 0.0), (8, 0.0), (9, 0.0), (10, 0.0), (11, -2.384185791015625e-07), (12, 0.0), (13, 0.0), (14, 1.1920928955078125e-07), (15, -1.1920928955078125e-07), (16, 0.0), (17, 0.0), (18, 3.5762786865234375e-07), (19, 0.0), (20, 1.7881393432617188e-07), (21, 0.0), (22, 1.1920928955078125e-07), (23, 0.0), (24, -3.5762786865234375e-07), (25, -1.1920928955078125e-07), (26, -1.1920928955078125e-07), (27, -2.384185791015625e-07), (28, -2.384185791015625e-07), (29, 0.0), (30, 0.0), (31, 0.0), (32, -3.5762786865234375e-07), (33, 0.0), (34, 0.0), (35, -3.5762786865234375e-07), (36, 0.0), (37, -5.960464477539062e-07), (38, -3.5762786865234375e-07), (39, -7.152557373046875e-07), (40, 3.5762786865234375e-07), (41, -4.76837158203125e-07), (42, 9.5367431640625e-07), (43, 1.3113021850585938e-06), (44, 1.0132789611816406e-06), (45, 2.980232238769531e-07), (46, 2.384185791015625e-07), (47, -3.5762786865234375e-07), (48, -3.5762786865234375e-07), (49, 0.0), (50, 1.7881393432617188e-07), (51, -4.76837158203125e-07), (52, 2.980232238769531e-07), (53, -2.384185791015625e-07), (54, -2.384185791015625e-07), (55, 3.5762786865234375e-07), (56, -1.1920928955078125e-07), (57, -1.1920928955078125e-07), (58, -4.76837158203125e-07), (59, 1.7881393432617188e-07), (60, 2.384185791015625e-07), (61, -2.384185791015625e-07), (62, 0.0), (63, 0.0), (64, 0.0), (65, 5.960464477539063e-08), (66, -7.152557373046875e-07), (67, -1.1920928955078125e-07), (68, 5.960464477539062e-07), (69, 3.5762786865234375e-07), (70, 7.152557373046875e-07), (71, 2.384185791015625e-07), (72, 0.0), (73, -1.1920928955078125e-07), (74, 0.0), (75, 0.0), (76, 0.0), (77, 0.0), (78, -3.5762786865234375e-07), (79, 2.384185791015625e-07), (80, 1.2516975402832031e-06), (81, 1.1920928955078125e-06), (82, 0.0), (83, 1.7881393432617188e-07), (84, -8.344650268554688e-07), (85, -2.384185791015625e-07), (86, 5.960464477539063e-08), (87, 0.0), (88, -2.384185791015625e-07), (89, 1.0132789611816406e-06), (90, 2.980232238769531e-07), (91, 1.7881393432617188e-07), (92, 0.0), (93, -3.5762786865234375e-07), (94, 1.7881393432617188e-07), (95, -2.384185791015625e-07), (96, -3.5762786865234375e-07), (97, 0.0), (98, 0.0), (99, 2.384185791015625e-07), (100, -9.5367431640625e-07)]}\n",
            "INFO:flwr:app_fit: metrics_centralized {'generalization RMSE': [(0, 0.8828585147857666), (1, 0.907082736492157), (2, 0.8191032409667969), (3, 0.7578230500221252), (4, 0.7413360476493835), (5, 0.7691686153411865), (6, 0.7422467470169067), (7, 0.7801252603530884), (8, 0.6537386775016785), (9, 0.6354175209999084), (10, 0.6961795091629028), (11, 0.6858895421028137), (12, 0.6503244042396545), (13, 0.6315168142318726), (14, 0.661665141582489), (15, 0.5619062781333923), (16, 0.6010575890541077), (17, 0.5705356001853943), (18, 0.5371898412704468), (19, 0.527725338935852), (20, 0.4600411057472229), (21, 0.48785096406936646), (22, 0.42207643389701843), (23, 0.42008349299430847), (24, 0.47470322251319885), (25, 0.4233509600162506), (26, 0.41156888008117676), (27, 0.33980414271354675), (28, 0.3732553720474243), (29, 0.4076143503189087), (30, 0.29554155468940735), (31, 0.22346244752407074), (32, 0.3293207287788391), (33, 0.2873459458351135), (34, 0.35745158791542053), (35, 0.25018438696861267), (36, 0.24975991249084473), (37, 0.1752660572528839), (38, 0.20357072353363037), (39, 0.15896466374397278), (40, 0.2162778079509735), (41, 0.1873691827058792), (42, 0.2150699496269226), (43, 0.12010610848665237), (44, 0.13498614728450775), (45, 0.11433127522468567), (46, 0.10993674397468567), (47, 0.12823431193828583), (48, 0.11635039001703262), (49, 0.10750515758991241), (50, 0.10128619521856308), (51, 0.09410856664180756), (52, 0.11847627907991409), (53, 0.10464861989021301), (54, 0.11856570094823837), (55, 0.10743629932403564), (56, 0.10817870497703552), (57, 0.08832444995641708), (58, 0.07578728348016739), (59, 0.08630022406578064), (60, 0.10625720769166946), (61, 0.1365174651145935), (62, 0.12333362549543381), (63, 0.10020594298839569), (64, 0.13721683621406555), (65, 0.10494259744882584), (66, 0.11788979172706604), (67, 0.09610702842473984), (68, 0.11622071266174316), (69, 0.10799142718315125), (70, 0.12361187487840652), (71, 0.09431484341621399), (72, 0.11290019005537033), (73, 0.12365943938493729), (74, 0.0933767631649971), (75, 0.13325920701026917), (76, 0.13768863677978516), (77, 0.11397603899240494), (78, 0.14522917568683624), (79, 0.09430599957704544), (80, 0.09020508080720901), (81, 0.10733702778816223), (82, 0.13182790577411652), (83, 0.12762710452079773), (84, 0.078565314412117), (85, 0.09477755427360535), (86, 0.12343690544366837), (87, 0.10134138911962509), (88, 0.10298841446638107), (89, 0.10894358158111572), (90, 0.13895097374916077), (91, 0.12153885513544083), (92, 0.14616556465625763), (93, 0.10358797013759613), (94, 0.1460041105747223), (95, 0.1023452952504158), (96, 0.11404000222682953), (97, 0.1319485902786255), (98, 0.1146630346775055), (99, 0.13056455552577972), (100, 0.12948572635650635)], 'generalization MAE': [(0, 0.8730707168579102), (1, 0.9005072116851807), (2, 0.8097782731056213), (3, 0.7463189959526062), (4, 0.7353897094726562), (5, 0.7585607171058655), (6, 0.7362639904022217), (7, 0.7707580327987671), (8, 0.6461889147758484), (9, 0.6238813400268555), (10, 0.6867955327033997), (11, 0.681545615196228), (12, 0.642181932926178), (13, 0.6199080944061279), (14, 0.648756206035614), (15, 0.5469416975975037), (16, 0.5871468186378479), (17, 0.5648488402366638), (18, 0.5255247354507446), (19, 0.5089156031608582), (20, 0.446870356798172), (21, 0.47572267055511475), (22, 0.40799760818481445), (23, 0.4027418792247772), (24, 0.45998966693878174), (25, 0.40931597352027893), (26, 0.3984162509441376), (27, 0.31933140754699707), (28, 0.35389843583106995), (29, 0.39985811710357666), (30, 0.2809826135635376), (31, 0.21326136589050293), (32, 0.31601402163505554), (33, 0.2597291171550751), (34, 0.3511646091938019), (35, 0.22099696099758148), (36, 0.22139295935630798), (37, 0.15367472171783447), (38, 0.17692981660366058), (39, 0.1488979309797287), (40, 0.1949232965707779), (41, 0.1680935025215149), (42, 0.18868407607078552), (43, 0.11002922058105469), (44, 0.09571066498756409), (45, 0.10429143905639648), (46, 0.09818926453590393), (47, 0.10890272259712219), (48, 0.08862189203500748), (49, 0.08578655123710632), (50, 0.08060738444328308), (51, 0.07835908979177475), (52, 0.0911417081952095), (53, 0.0857098251581192), (54, 0.10207050293684006), (55, 0.09596899151802063), (56, 0.08568030595779419), (57, 0.05704917758703232), (58, 0.05766019597649574), (59, 0.05155692994594574), (60, 0.07969710230827332), (61, 0.1191013976931572), (62, 0.09708700329065323), (63, 0.06911972165107727), (64, 0.11937462538480759), (65, 0.07403499633073807), (66, 0.09696447104215622), (67, 0.06869962811470032), (68, 0.0959489643573761), (69, 0.08570459485054016), (70, 0.10174954682588577), (71, 0.07423732429742813), (72, 0.07969725131988525), (73, 0.09687592834234238), (74, 0.08088966459035873), (75, 0.11377529799938202), (76, 0.11995062977075577), (77, 0.09676499664783478), (78, 0.1313261091709137), (79, 0.06329607963562012), (80, 0.05138399451971054), (81, 0.0809696614742279), (82, 0.11954281479120255), (83, 0.10289347916841507), (84, 0.04613164812326431), (85, 0.07567184418439865), (86, 0.10786327719688416), (87, 0.08622703701257706), (88, 0.06922256946563721), (89, 0.07983227074146271), (90, 0.11905258148908615), (91, 0.0915001928806305), (92, 0.12520906329154968), (93, 0.0911814272403717), (94, 0.12587875127792358), (95, 0.08073214441537857), (96, 0.09681517630815506), (97, 0.10817546397447586), (98, 0.08541739732027054), (99, 0.11351964622735977), (100, 0.11269231140613556)], 'generalization R2': [(0, 0.0001500248908996582), (1, 0.0002288222312927246), (2, 7.212162017822266e-05), (3, 0.0), (4, 0.0), (5, 0.0), (6, 0.0), (7, 0.0), (8, 0.0), (9, 0.0), (10, 0.0), (11, -2.384185791015625e-07), (12, 0.0), (13, 0.0), (14, 1.1920928955078125e-07), (15, -1.1920928955078125e-07), (16, 0.0), (17, 0.0), (18, 3.5762786865234375e-07), (19, 0.0), (20, 1.7881393432617188e-07), (21, 0.0), (22, 1.1920928955078125e-07), (23, 0.0), (24, -3.5762786865234375e-07), (25, -1.1920928955078125e-07), (26, -1.1920928955078125e-07), (27, -2.384185791015625e-07), (28, -2.384185791015625e-07), (29, 0.0), (30, 0.0), (31, 0.0), (32, -3.5762786865234375e-07), (33, 0.0), (34, 0.0), (35, -3.5762786865234375e-07), (36, 0.0), (37, -5.960464477539062e-07), (38, -3.5762786865234375e-07), (39, -7.152557373046875e-07), (40, 3.5762786865234375e-07), (41, -4.76837158203125e-07), (42, 9.5367431640625e-07), (43, 1.3113021850585938e-06), (44, 1.0132789611816406e-06), (45, 2.980232238769531e-07), (46, 2.384185791015625e-07), (47, -3.5762786865234375e-07), (48, -3.5762786865234375e-07), (49, 0.0), (50, 1.7881393432617188e-07), (51, -4.76837158203125e-07), (52, 2.980232238769531e-07), (53, -2.384185791015625e-07), (54, -2.384185791015625e-07), (55, 3.5762786865234375e-07), (56, -1.1920928955078125e-07), (57, -1.1920928955078125e-07), (58, -4.76837158203125e-07), (59, 1.7881393432617188e-07), (60, 2.384185791015625e-07), (61, -2.384185791015625e-07), (62, 0.0), (63, 0.0), (64, 0.0), (65, 5.960464477539063e-08), (66, -7.152557373046875e-07), (67, -1.1920928955078125e-07), (68, 5.960464477539062e-07), (69, 3.5762786865234375e-07), (70, 7.152557373046875e-07), (71, 2.384185791015625e-07), (72, 0.0), (73, -1.1920928955078125e-07), (74, 0.0), (75, 0.0), (76, 0.0), (77, 0.0), (78, -3.5762786865234375e-07), (79, 2.384185791015625e-07), (80, 1.2516975402832031e-06), (81, 1.1920928955078125e-06), (82, 0.0), (83, 1.7881393432617188e-07), (84, -8.344650268554688e-07), (85, -2.384185791015625e-07), (86, 5.960464477539063e-08), (87, 0.0), (88, -2.384185791015625e-07), (89, 1.0132789611816406e-06), (90, 2.980232238769531e-07), (91, 1.7881393432617188e-07), (92, 0.0), (93, -3.5762786865234375e-07), (94, 1.7881393432617188e-07), (95, -2.384185791015625e-07), (96, -3.5762786865234375e-07), (97, 0.0), (98, 0.0), (99, 2.384185791015625e-07), (100, -9.5367431640625e-07)]}\n"
          ]
        },
        {
          "output_type": "stream",
          "name": "stdout",
          "text": [
            "Server-side unseen generalization RMSE loss 0.12948572635650635, MAE loss0.11269231140613556, R-Square-9.5367431640625e-07\n"
          ]
        },
        {
          "output_type": "execute_result",
          "data": {
            "text/plain": [
              "History (loss, distributed):\n",
              "\tround 1: 0.877393364906311\n",
              "\tround 2: 0.8465016186237335\n",
              "\tround 3: 0.8224548399448395\n",
              "\tround 4: 0.8059016168117523\n",
              "\tround 5: 0.7894996404647827\n",
              "\tround 6: 0.7730933129787445\n",
              "\tround 7: 0.7566690742969513\n",
              "\tround 8: 0.7402818500995636\n",
              "\tround 9: 0.7238939702510834\n",
              "\tround 10: 0.7075117230415344\n",
              "\tround 11: 0.6911587417125702\n",
              "\tround 12: 0.6747960448265076\n",
              "\tround 13: 0.6584906876087189\n",
              "\tround 14: 0.6421857178211212\n",
              "\tround 15: 0.62591552734375\n",
              "\tround 16: 0.6096370220184326\n",
              "\tround 17: 0.5933740437030792\n",
              "\tround 18: 0.5771499276161194\n",
              "\tround 19: 0.5609356462955475\n",
              "\tround 20: 0.5447629988193512\n",
              "\tround 21: 0.528605043888092\n",
              "\tround 22: 0.512488454580307\n",
              "\tround 23: 0.4963732063770294\n",
              "\tround 24: 0.48029570281505585\n",
              "\tround 25: 0.4642877131700516\n",
              "\tround 26: 0.4483226537704468\n",
              "\tround 27: 0.4324005991220474\n",
              "\tround 28: 0.4165450185537338\n",
              "\tround 29: 0.40077444911003113\n",
              "\tround 30: 0.3850089907646179\n",
              "\tround 31: 0.36933358013629913\n",
              "\tround 32: 0.353758841753006\n",
              "\tround 33: 0.33832748234272003\n",
              "\tround 34: 0.3229960799217224\n",
              "\tround 35: 0.30777575075626373\n",
              "\tround 36: 0.29258956015110016\n",
              "\tround 37: 0.27763089537620544\n",
              "\tround 38: 0.26292257010936737\n",
              "\tround 39: 0.24830931425094604\n",
              "\tround 40: 0.23413392156362534\n",
              "\tround 41: 0.22015387564897537\n",
              "\tround 42: 0.2066608890891075\n",
              "\tround 43: 0.19376491010189056\n",
              "\tround 44: 0.18156803399324417\n",
              "\tround 45: 0.1699483022093773\n",
              "\tround 46: 0.15906347334384918\n",
              "\tround 47: 0.1492171287536621\n",
              "\tround 48: 0.14132682979106903\n",
              "\tround 49: 0.1347186677157879\n",
              "\tround 50: 0.13047891855239868\n",
              "\tround 51: 0.1281639076769352\n",
              "\tround 52: 0.12765659019351006\n",
              "\tround 53: 0.1274404302239418\n",
              "\tround 54: 0.1275644674897194\n",
              "\tround 55: 0.12757981196045876\n",
              "\tround 56: 0.1274111457169056\n",
              "\tround 57: 0.12684259191155434\n",
              "\tround 58: 0.1273202821612358\n",
              "\tround 59: 0.12721437215805054\n",
              "\tround 60: 0.12741302698850632\n",
              "\tround 61: 0.1276084966957569\n",
              "\tround 62: 0.12745388597249985\n",
              "\tround 63: 0.12752040103077888\n",
              "\tround 64: 0.12713412567973137\n",
              "\tround 65: 0.1270703785121441\n",
              "\tround 66: 0.12733275070786476\n",
              "\tround 67: 0.12747551500797272\n",
              "\tround 68: 0.12760000303387642\n",
              "\tround 69: 0.12743522599339485\n",
              "\tround 70: 0.1274808570742607\n",
              "\tround 71: 0.1273328736424446\n",
              "\tround 72: 0.12711729109287262\n",
              "\tround 73: 0.12713578343391418\n",
              "\tround 74: 0.12753376737236977\n",
              "\tround 75: 0.1273753084242344\n",
              "\tround 76: 0.12759042903780937\n",
              "\tround 77: 0.12747996672987938\n",
              "\tround 78: 0.12760238721966743\n",
              "\tround 79: 0.12730098143219948\n",
              "\tround 80: 0.1271142140030861\n",
              "\tround 81: 0.12756819278001785\n",
              "\tround 82: 0.12763230875134468\n",
              "\tround 83: 0.12757866084575653\n",
              "\tround 84: 0.12763554975390434\n",
              "\tround 85: 0.12773509323596954\n",
              "\tround 86: 0.12723522633314133\n",
              "\tround 87: 0.12796736136078835\n",
              "\tround 88: 0.1275823712348938\n",
              "\tround 89: 0.1278228461742401\n",
              "\tround 90: 0.1277575008571148\n",
              "\tround 91: 0.12754884734749794\n",
              "\tround 92: 0.12758513167500496\n",
              "\tround 93: 0.12777815759181976\n",
              "\tround 94: 0.12784171104431152\n",
              "\tround 95: 0.12816425040364265\n",
              "\tround 96: 0.12763120979070663\n",
              "\tround 97: 0.1271839216351509\n",
              "\tround 98: 0.1271541863679886\n",
              "\tround 99: 0.12730978801846504\n",
              "\tround 100: 0.12752409651875496\n",
              "History (loss, centralized):\n",
              "\tround 0: 0.8828585147857666\n",
              "\tround 1: 0.907082736492157\n",
              "\tround 2: 0.8191032409667969\n",
              "\tround 3: 0.7578230500221252\n",
              "\tround 4: 0.7413360476493835\n",
              "\tround 5: 0.7691686153411865\n",
              "\tround 6: 0.7422467470169067\n",
              "\tround 7: 0.7801252603530884\n",
              "\tround 8: 0.6537386775016785\n",
              "\tround 9: 0.6354175209999084\n",
              "\tround 10: 0.6961795091629028\n",
              "\tround 11: 0.6858895421028137\n",
              "\tround 12: 0.6503244042396545\n",
              "\tround 13: 0.6315168142318726\n",
              "\tround 14: 0.661665141582489\n",
              "\tround 15: 0.5619062781333923\n",
              "\tround 16: 0.6010575890541077\n",
              "\tround 17: 0.5705356001853943\n",
              "\tround 18: 0.5371898412704468\n",
              "\tround 19: 0.527725338935852\n",
              "\tround 20: 0.4600411057472229\n",
              "\tround 21: 0.48785096406936646\n",
              "\tround 22: 0.42207643389701843\n",
              "\tround 23: 0.42008349299430847\n",
              "\tround 24: 0.47470322251319885\n",
              "\tround 25: 0.4233509600162506\n",
              "\tround 26: 0.41156888008117676\n",
              "\tround 27: 0.33980414271354675\n",
              "\tround 28: 0.3732553720474243\n",
              "\tround 29: 0.4076143503189087\n",
              "\tround 30: 0.29554155468940735\n",
              "\tround 31: 0.22346244752407074\n",
              "\tround 32: 0.3293207287788391\n",
              "\tround 33: 0.2873459458351135\n",
              "\tround 34: 0.35745158791542053\n",
              "\tround 35: 0.25018438696861267\n",
              "\tround 36: 0.24975991249084473\n",
              "\tround 37: 0.1752660572528839\n",
              "\tround 38: 0.20357072353363037\n",
              "\tround 39: 0.15896466374397278\n",
              "\tround 40: 0.2162778079509735\n",
              "\tround 41: 0.1873691827058792\n",
              "\tround 42: 0.2150699496269226\n",
              "\tround 43: 0.12010610848665237\n",
              "\tround 44: 0.13498614728450775\n",
              "\tround 45: 0.11433127522468567\n",
              "\tround 46: 0.10993674397468567\n",
              "\tround 47: 0.12823431193828583\n",
              "\tround 48: 0.11635039001703262\n",
              "\tround 49: 0.10750515758991241\n",
              "\tround 50: 0.10128619521856308\n",
              "\tround 51: 0.09410856664180756\n",
              "\tround 52: 0.11847627907991409\n",
              "\tround 53: 0.10464861989021301\n",
              "\tround 54: 0.11856570094823837\n",
              "\tround 55: 0.10743629932403564\n",
              "\tround 56: 0.10817870497703552\n",
              "\tround 57: 0.08832444995641708\n",
              "\tround 58: 0.07578728348016739\n",
              "\tround 59: 0.08630022406578064\n",
              "\tround 60: 0.10625720769166946\n",
              "\tround 61: 0.1365174651145935\n",
              "\tround 62: 0.12333362549543381\n",
              "\tround 63: 0.10020594298839569\n",
              "\tround 64: 0.13721683621406555\n",
              "\tround 65: 0.10494259744882584\n",
              "\tround 66: 0.11788979172706604\n",
              "\tround 67: 0.09610702842473984\n",
              "\tround 68: 0.11622071266174316\n",
              "\tround 69: 0.10799142718315125\n",
              "\tround 70: 0.12361187487840652\n",
              "\tround 71: 0.09431484341621399\n",
              "\tround 72: 0.11290019005537033\n",
              "\tround 73: 0.12365943938493729\n",
              "\tround 74: 0.0933767631649971\n",
              "\tround 75: 0.13325920701026917\n",
              "\tround 76: 0.13768863677978516\n",
              "\tround 77: 0.11397603899240494\n",
              "\tround 78: 0.14522917568683624\n",
              "\tround 79: 0.09430599957704544\n",
              "\tround 80: 0.09020508080720901\n",
              "\tround 81: 0.10733702778816223\n",
              "\tround 82: 0.13182790577411652\n",
              "\tround 83: 0.12762710452079773\n",
              "\tround 84: 0.078565314412117\n",
              "\tround 85: 0.09477755427360535\n",
              "\tround 86: 0.12343690544366837\n",
              "\tround 87: 0.10134138911962509\n",
              "\tround 88: 0.10298841446638107\n",
              "\tround 89: 0.10894358158111572\n",
              "\tround 90: 0.13895097374916077\n",
              "\tround 91: 0.12153885513544083\n",
              "\tround 92: 0.14616556465625763\n",
              "\tround 93: 0.10358797013759613\n",
              "\tround 94: 0.1460041105747223\n",
              "\tround 95: 0.1023452952504158\n",
              "\tround 96: 0.11404000222682953\n",
              "\tround 97: 0.1319485902786255\n",
              "\tround 98: 0.1146630346775055\n",
              "\tround 99: 0.13056455552577972\n",
              "\tround 100: 0.12948572635650635\n",
              "History (metrics, centralized):\n",
              "{'generalization RMSE': [(0, 0.8828585147857666), (1, 0.907082736492157), (2, 0.8191032409667969), (3, 0.7578230500221252), (4, 0.7413360476493835), (5, 0.7691686153411865), (6, 0.7422467470169067), (7, 0.7801252603530884), (8, 0.6537386775016785), (9, 0.6354175209999084), (10, 0.6961795091629028), (11, 0.6858895421028137), (12, 0.6503244042396545), (13, 0.6315168142318726), (14, 0.661665141582489), (15, 0.5619062781333923), (16, 0.6010575890541077), (17, 0.5705356001853943), (18, 0.5371898412704468), (19, 0.527725338935852), (20, 0.4600411057472229), (21, 0.48785096406936646), (22, 0.42207643389701843), (23, 0.42008349299430847), (24, 0.47470322251319885), (25, 0.4233509600162506), (26, 0.41156888008117676), (27, 0.33980414271354675), (28, 0.3732553720474243), (29, 0.4076143503189087), (30, 0.29554155468940735), (31, 0.22346244752407074), (32, 0.3293207287788391), (33, 0.2873459458351135), (34, 0.35745158791542053), (35, 0.25018438696861267), (36, 0.24975991249084473), (37, 0.1752660572528839), (38, 0.20357072353363037), (39, 0.15896466374397278), (40, 0.2162778079509735), (41, 0.1873691827058792), (42, 0.2150699496269226), (43, 0.12010610848665237), (44, 0.13498614728450775), (45, 0.11433127522468567), (46, 0.10993674397468567), (47, 0.12823431193828583), (48, 0.11635039001703262), (49, 0.10750515758991241), (50, 0.10128619521856308), (51, 0.09410856664180756), (52, 0.11847627907991409), (53, 0.10464861989021301), (54, 0.11856570094823837), (55, 0.10743629932403564), (56, 0.10817870497703552), (57, 0.08832444995641708), (58, 0.07578728348016739), (59, 0.08630022406578064), (60, 0.10625720769166946), (61, 0.1365174651145935), (62, 0.12333362549543381), (63, 0.10020594298839569), (64, 0.13721683621406555), (65, 0.10494259744882584), (66, 0.11788979172706604), (67, 0.09610702842473984), (68, 0.11622071266174316), (69, 0.10799142718315125), (70, 0.12361187487840652), (71, 0.09431484341621399), (72, 0.11290019005537033), (73, 0.12365943938493729), (74, 0.0933767631649971), (75, 0.13325920701026917), (76, 0.13768863677978516), (77, 0.11397603899240494), (78, 0.14522917568683624), (79, 0.09430599957704544), (80, 0.09020508080720901), (81, 0.10733702778816223), (82, 0.13182790577411652), (83, 0.12762710452079773), (84, 0.078565314412117), (85, 0.09477755427360535), (86, 0.12343690544366837), (87, 0.10134138911962509), (88, 0.10298841446638107), (89, 0.10894358158111572), (90, 0.13895097374916077), (91, 0.12153885513544083), (92, 0.14616556465625763), (93, 0.10358797013759613), (94, 0.1460041105747223), (95, 0.1023452952504158), (96, 0.11404000222682953), (97, 0.1319485902786255), (98, 0.1146630346775055), (99, 0.13056455552577972), (100, 0.12948572635650635)], 'generalization MAE': [(0, 0.8730707168579102), (1, 0.9005072116851807), (2, 0.8097782731056213), (3, 0.7463189959526062), (4, 0.7353897094726562), (5, 0.7585607171058655), (6, 0.7362639904022217), (7, 0.7707580327987671), (8, 0.6461889147758484), (9, 0.6238813400268555), (10, 0.6867955327033997), (11, 0.681545615196228), (12, 0.642181932926178), (13, 0.6199080944061279), (14, 0.648756206035614), (15, 0.5469416975975037), (16, 0.5871468186378479), (17, 0.5648488402366638), (18, 0.5255247354507446), (19, 0.5089156031608582), (20, 0.446870356798172), (21, 0.47572267055511475), (22, 0.40799760818481445), (23, 0.4027418792247772), (24, 0.45998966693878174), (25, 0.40931597352027893), (26, 0.3984162509441376), (27, 0.31933140754699707), (28, 0.35389843583106995), (29, 0.39985811710357666), (30, 0.2809826135635376), (31, 0.21326136589050293), (32, 0.31601402163505554), (33, 0.2597291171550751), (34, 0.3511646091938019), (35, 0.22099696099758148), (36, 0.22139295935630798), (37, 0.15367472171783447), (38, 0.17692981660366058), (39, 0.1488979309797287), (40, 0.1949232965707779), (41, 0.1680935025215149), (42, 0.18868407607078552), (43, 0.11002922058105469), (44, 0.09571066498756409), (45, 0.10429143905639648), (46, 0.09818926453590393), (47, 0.10890272259712219), (48, 0.08862189203500748), (49, 0.08578655123710632), (50, 0.08060738444328308), (51, 0.07835908979177475), (52, 0.0911417081952095), (53, 0.0857098251581192), (54, 0.10207050293684006), (55, 0.09596899151802063), (56, 0.08568030595779419), (57, 0.05704917758703232), (58, 0.05766019597649574), (59, 0.05155692994594574), (60, 0.07969710230827332), (61, 0.1191013976931572), (62, 0.09708700329065323), (63, 0.06911972165107727), (64, 0.11937462538480759), (65, 0.07403499633073807), (66, 0.09696447104215622), (67, 0.06869962811470032), (68, 0.0959489643573761), (69, 0.08570459485054016), (70, 0.10174954682588577), (71, 0.07423732429742813), (72, 0.07969725131988525), (73, 0.09687592834234238), (74, 0.08088966459035873), (75, 0.11377529799938202), (76, 0.11995062977075577), (77, 0.09676499664783478), (78, 0.1313261091709137), (79, 0.06329607963562012), (80, 0.05138399451971054), (81, 0.0809696614742279), (82, 0.11954281479120255), (83, 0.10289347916841507), (84, 0.04613164812326431), (85, 0.07567184418439865), (86, 0.10786327719688416), (87, 0.08622703701257706), (88, 0.06922256946563721), (89, 0.07983227074146271), (90, 0.11905258148908615), (91, 0.0915001928806305), (92, 0.12520906329154968), (93, 0.0911814272403717), (94, 0.12587875127792358), (95, 0.08073214441537857), (96, 0.09681517630815506), (97, 0.10817546397447586), (98, 0.08541739732027054), (99, 0.11351964622735977), (100, 0.11269231140613556)], 'generalization R2': [(0, 0.0001500248908996582), (1, 0.0002288222312927246), (2, 7.212162017822266e-05), (3, 0.0), (4, 0.0), (5, 0.0), (6, 0.0), (7, 0.0), (8, 0.0), (9, 0.0), (10, 0.0), (11, -2.384185791015625e-07), (12, 0.0), (13, 0.0), (14, 1.1920928955078125e-07), (15, -1.1920928955078125e-07), (16, 0.0), (17, 0.0), (18, 3.5762786865234375e-07), (19, 0.0), (20, 1.7881393432617188e-07), (21, 0.0), (22, 1.1920928955078125e-07), (23, 0.0), (24, -3.5762786865234375e-07), (25, -1.1920928955078125e-07), (26, -1.1920928955078125e-07), (27, -2.384185791015625e-07), (28, -2.384185791015625e-07), (29, 0.0), (30, 0.0), (31, 0.0), (32, -3.5762786865234375e-07), (33, 0.0), (34, 0.0), (35, -3.5762786865234375e-07), (36, 0.0), (37, -5.960464477539062e-07), (38, -3.5762786865234375e-07), (39, -7.152557373046875e-07), (40, 3.5762786865234375e-07), (41, -4.76837158203125e-07), (42, 9.5367431640625e-07), (43, 1.3113021850585938e-06), (44, 1.0132789611816406e-06), (45, 2.980232238769531e-07), (46, 2.384185791015625e-07), (47, -3.5762786865234375e-07), (48, -3.5762786865234375e-07), (49, 0.0), (50, 1.7881393432617188e-07), (51, -4.76837158203125e-07), (52, 2.980232238769531e-07), (53, -2.384185791015625e-07), (54, -2.384185791015625e-07), (55, 3.5762786865234375e-07), (56, -1.1920928955078125e-07), (57, -1.1920928955078125e-07), (58, -4.76837158203125e-07), (59, 1.7881393432617188e-07), (60, 2.384185791015625e-07), (61, -2.384185791015625e-07), (62, 0.0), (63, 0.0), (64, 0.0), (65, 5.960464477539063e-08), (66, -7.152557373046875e-07), (67, -1.1920928955078125e-07), (68, 5.960464477539062e-07), (69, 3.5762786865234375e-07), (70, 7.152557373046875e-07), (71, 2.384185791015625e-07), (72, 0.0), (73, -1.1920928955078125e-07), (74, 0.0), (75, 0.0), (76, 0.0), (77, 0.0), (78, -3.5762786865234375e-07), (79, 2.384185791015625e-07), (80, 1.2516975402832031e-06), (81, 1.1920928955078125e-06), (82, 0.0), (83, 1.7881393432617188e-07), (84, -8.344650268554688e-07), (85, -2.384185791015625e-07), (86, 5.960464477539063e-08), (87, 0.0), (88, -2.384185791015625e-07), (89, 1.0132789611816406e-06), (90, 2.980232238769531e-07), (91, 1.7881393432617188e-07), (92, 0.0), (93, -3.5762786865234375e-07), (94, 1.7881393432617188e-07), (95, -2.384185791015625e-07), (96, -3.5762786865234375e-07), (97, 0.0), (98, 0.0), (99, 2.384185791015625e-07), (100, -9.5367431640625e-07)]}"
            ]
          },
          "metadata": {},
          "execution_count": 24
        },
        {
          "output_type": "stream",
          "name": "stdout",
          "text": [
            "\u001b[2m\u001b[36m(DefaultActor pid=12957)\u001b[0m [Client 1] evaluate, config: {}\n"
          ]
        }
      ],
      "source": [
        "# Create an instance of the model and get the parameters\n",
        "params = get_parameters(Net())\n",
        "\n",
        "# ######Change Aggregation Strategy here<-------------Fed-Avg, xxq-FedAvg, Fed-Prox, Fed-Yogi....\n",
        "strategy = fl.server.strategy.FedAvg(\n",
        "    #proximal_mu =1,\n",
        "    fraction_fit=1.0,  # Sample 100% of available clients for training\n",
        "    fraction_evaluate=1,  # Sample 100% of available clients for evaluation\n",
        "    min_fit_clients=NUM_CLIENTS,  # Never sample less than 4 clients for training\n",
        "    min_evaluate_clients=NUM_CLIENTS,  # Never sample less than 4 clients for evaluation\n",
        "    min_available_clients=NUM_CLIENTS,  # Wait until all 4 clients are available\n",
        "    initial_parameters=fl.common.ndarrays_to_parameters(params),## initialize parameters\n",
        "    evaluate_fn=generalize,  # Pass the generalization function\n",
        "    on_fit_config_fn=fit_config,  # Pass the fit_config function\n",
        ")\n",
        "\n",
        "# Specify client resources if you need GPU (defaults to 1 CPU and 0 GPU)\n",
        "client_resources = None\n",
        "if DEVICE.type == \"cuda\":\n",
        "    client_resources = {\"num_gpus\": 1, \"num_cpus\": 1}\n",
        "\n",
        "# Start simulation\n",
        "fl.simulation.start_simulation(\n",
        "    client_fn=client_fn,\n",
        "    num_clients=NUM_CLIENTS,\n",
        "    config=fl.server.ServerConfig(num_rounds=100),  # Just three rounds\n",
        "    strategy=strategy,\n",
        "    client_resources=client_resources,\n",
        ")"
      ]
    },
    {
      "cell_type": "code",
      "execution_count": null,
      "metadata": {
        "id": "3A8XCKXwJbKw"
      },
      "outputs": [],
      "source": [
        "====================================================================================end"
      ]
    },
    {
      "cell_type": "code",
      "execution_count": null,
      "metadata": {
        "id": "hlbEspisJbKw",
        "outputId": "7a24904d-8af3-4799-df3c-ec4710e534ea"
      },
      "outputs": [
        {
          "name": "stderr",
          "output_type": "stream",
          "text": [
            "INFO flwr 2023-09-12 20:21:07,318 | app.py:175 | Starting Flower simulation, config: ServerConfig(num_rounds=4, round_timeout=None)\n",
            "2023-09-12 20:21:12,698\tINFO worker.py:1621 -- Started a local Ray instance.\n",
            "INFO flwr 2023-09-12 20:21:13,579 | app.py:210 | Flower VCE: Ray initialized with resources: {'node:10.68.107.147': 1.0, 'node:__internal_head__': 1.0, 'GPU': 1.0, 'object_store_memory': 4232332492.0, 'memory': 8464664987.0, 'CPU': 4.0, 'accelerator_type:A30': 1.0}\n",
            "INFO flwr 2023-09-12 20:21:13,581 | app.py:224 | Flower VCE: Resources for each Virtual Client: {'num_gpus': 1, 'num_cpus': 1}\n",
            "INFO flwr 2023-09-12 20:21:13,595 | app.py:270 | Flower VCE: Creating VirtualClientEngineActorPool with 1 actors\n",
            "INFO flwr 2023-09-12 20:21:13,597 | server.py:89 | Initializing global parameters\n",
            "INFO flwr 2023-09-12 20:21:13,598 | server.py:272 | Using initial parameters provided by strategy\n",
            "INFO flwr 2023-09-12 20:21:13,599 | server.py:91 | Evaluating initial parameters\n",
            "INFO flwr 2023-09-12 20:21:32,694 | server.py:94 | initial parameters (loss, other metrics): 0.07199699136974905, {'generalization accuracy': 0.11969069749277512}\n",
            "INFO flwr 2023-09-12 20:21:32,696 | server.py:104 | FL starting\n",
            "DEBUG flwr 2023-09-12 20:21:32,697 | server.py:222 | fit_round 1: strategy sampled 4 clients (out of 4)\n"
          ]
        },
        {
          "name": "stdout",
          "output_type": "stream",
          "text": [
            "Server-side unseen generalization loss 0.07199699136974905 / generalization accuracy 0.11969069749277512\n",
            "\u001b[2m\u001b[36m(DefaultActor pid=2601356)\u001b[0m [Client 0] fit, config: {'server_round': 1, 'local_epochs': 30, 'proximal_mu': 1}\n",
            "\u001b[2m\u001b[36m(DefaultActor pid=2601356)\u001b[0m Epoch 1: train loss 0.02108178287744522, accuracy 0.7829212577264176\n",
            "\u001b[2m\u001b[36m(DefaultActor pid=2601356)\u001b[0m [Client 3] fit, config: {'server_round': 1, 'local_epochs': 30, 'proximal_mu': 1}\n",
            "\u001b[2m\u001b[36m(DefaultActor pid=2601356)\u001b[0m Epoch 1: train loss 0.017495084553956985, accuracy 0.8247127434304162\n",
            "\u001b[2m\u001b[36m(DefaultActor pid=2601356)\u001b[0m [Client 2] fit, config: {'server_round': 1, 'local_epochs': 30, 'proximal_mu': 1}\n",
            "\u001b[2m\u001b[36m(DefaultActor pid=2601356)\u001b[0m Epoch 1: train loss 0.02423943020403385, accuracy 0.7602030222632368\n",
            "\u001b[2m\u001b[36m(DefaultActor pid=2601356)\u001b[0m [Client 1] fit, config: {'server_round': 1, 'local_epochs': 30, 'proximal_mu': 1}\n"
          ]
        },
        {
          "name": "stderr",
          "output_type": "stream",
          "text": [
            "DEBUG flwr 2023-09-12 20:22:39,194 | server.py:236 | fit_round 1 received 4 results and 0 failures\n",
            "WARNING flwr 2023-09-12 20:22:39,204 | fedavg.py:242 | No fit_metrics_aggregation_fn provided\n"
          ]
        },
        {
          "name": "stdout",
          "output_type": "stream",
          "text": [
            "\u001b[2m\u001b[36m(DefaultActor pid=2601356)\u001b[0m Epoch 1: train loss 0.01697658561170101, accuracy 0.8279280381838209\n"
          ]
        },
        {
          "name": "stderr",
          "output_type": "stream",
          "text": [
            "INFO flwr 2023-09-12 20:22:57,724 | server.py:125 | fit progress: (1, 0.03223054020349229, {'generalization accuracy': 0.6552839178317582}, 85.02661840897053)\n",
            "DEBUG flwr 2023-09-12 20:22:57,725 | server.py:173 | evaluate_round 1: strategy sampled 4 clients (out of 4)\n"
          ]
        },
        {
          "name": "stdout",
          "output_type": "stream",
          "text": [
            "Server-side unseen generalization loss 0.03223054020349229 / generalization accuracy 0.6552839178317582\n",
            "\u001b[2m\u001b[36m(DefaultActor pid=2601356)\u001b[0m [Client 1] evaluate, config: {}\n",
            "\u001b[2m\u001b[36m(DefaultActor pid=2601356)\u001b[0m [Client 2] evaluate, config: {}\n",
            "\u001b[2m\u001b[36m(DefaultActor pid=2601356)\u001b[0m [Client 3] evaluate, config: {}\n",
            "\u001b[2m\u001b[36m(DefaultActor pid=2601356)\u001b[0m [Client 0] evaluate, config: {}\n"
          ]
        },
        {
          "name": "stderr",
          "output_type": "stream",
          "text": [
            "DEBUG flwr 2023-09-12 20:23:05,530 | server.py:187 | evaluate_round 1 received 4 results and 0 failures\n",
            "WARNING flwr 2023-09-12 20:23:05,531 | fedavg.py:273 | No evaluate_metrics_aggregation_fn provided\n",
            "DEBUG flwr 2023-09-12 20:23:05,532 | server.py:222 | fit_round 2: strategy sampled 4 clients (out of 4)\n"
          ]
        },
        {
          "name": "stdout",
          "output_type": "stream",
          "text": [
            "\u001b[2m\u001b[36m(DefaultActor pid=2601356)\u001b[0m [Client 3] fit, config: {'server_round': 2, 'local_epochs': 30, 'proximal_mu': 1}\n",
            "\u001b[2m\u001b[36m(DefaultActor pid=2601356)\u001b[0m Epoch 1: train loss 0.012584056705236435, accuracy 0.8744402402193912\n",
            "\u001b[2m\u001b[36m(DefaultActor pid=2601356)\u001b[0m [Client 1] fit, config: {'server_round': 2, 'local_epochs': 30, 'proximal_mu': 1}\n",
            "\u001b[2m\u001b[36m(DefaultActor pid=2601356)\u001b[0m Epoch 1: train loss 0.0046963440254330635, accuracy 0.954473136702974\n",
            "\u001b[2m\u001b[36m(DefaultActor pid=2601356)\u001b[0m [Client 0] fit, config: {'server_round': 2, 'local_epochs': 30, 'proximal_mu': 1}\n",
            "\u001b[2m\u001b[36m(DefaultActor pid=2601356)\u001b[0m Epoch 1: train loss 0.01121358573436737, accuracy 0.888873958613276\n",
            "\u001b[2m\u001b[36m(DefaultActor pid=2601356)\u001b[0m [Client 2] fit, config: {'server_round': 2, 'local_epochs': 30, 'proximal_mu': 1}\n"
          ]
        },
        {
          "name": "stderr",
          "output_type": "stream",
          "text": [
            "DEBUG flwr 2023-09-12 20:24:22,717 | server.py:236 | fit_round 2 received 4 results and 0 failures\n"
          ]
        },
        {
          "name": "stdout",
          "output_type": "stream",
          "text": [
            "\u001b[2m\u001b[36m(DefaultActor pid=2601356)\u001b[0m Epoch 1: train loss 0.015383865684270859, accuracy 0.8554965970700196\n"
          ]
        },
        {
          "name": "stderr",
          "output_type": "stream",
          "text": [
            "INFO flwr 2023-09-12 20:24:41,002 | server.py:125 | fit progress: (2, 0.01671819705398189, {'generalization accuracy': 0.8486604702022963}, 188.30448017828166)\n",
            "DEBUG flwr 2023-09-12 20:24:41,003 | server.py:173 | evaluate_round 2: strategy sampled 4 clients (out of 4)\n"
          ]
        },
        {
          "name": "stdout",
          "output_type": "stream",
          "text": [
            "Server-side unseen generalization loss 0.01671819705398189 / generalization accuracy 0.8486604702022963\n",
            "\u001b[2m\u001b[36m(DefaultActor pid=2601356)\u001b[0m [Client 1] evaluate, config: {}\n",
            "\u001b[2m\u001b[36m(DefaultActor pid=2601356)\u001b[0m [Client 2] evaluate, config: {}\n",
            "\u001b[2m\u001b[36m(DefaultActor pid=2601356)\u001b[0m [Client 3] evaluate, config: {}\n",
            "\u001b[2m\u001b[36m(DefaultActor pid=2601356)\u001b[0m [Client 0] evaluate, config: {}\n"
          ]
        },
        {
          "name": "stderr",
          "output_type": "stream",
          "text": [
            "DEBUG flwr 2023-09-12 20:24:47,749 | server.py:187 | evaluate_round 2 received 4 results and 0 failures\n",
            "DEBUG flwr 2023-09-12 20:24:47,751 | server.py:222 | fit_round 3: strategy sampled 4 clients (out of 4)\n"
          ]
        },
        {
          "name": "stdout",
          "output_type": "stream",
          "text": [
            "\u001b[2m\u001b[36m(DefaultActor pid=2601356)\u001b[0m [Client 0] fit, config: {'server_round': 3, 'local_epochs': 30, 'proximal_mu': 1}\n",
            "\u001b[2m\u001b[36m(DefaultActor pid=2601356)\u001b[0m Epoch 1: train loss 0.008572492748498917, accuracy 0.9151101854340231\n",
            "\u001b[2m\u001b[36m(DefaultActor pid=2601356)\u001b[0m [Client 3] fit, config: {'server_round': 3, 'local_epochs': 30, 'proximal_mu': 1}\n",
            "\u001b[2m\u001b[36m(DefaultActor pid=2601356)\u001b[0m Epoch 1: train loss 0.011007586494088173, accuracy 0.8866594924844656\n",
            "\u001b[2m\u001b[36m(DefaultActor pid=2601356)\u001b[0m [Client 2] fit, config: {'server_round': 3, 'local_epochs': 30, 'proximal_mu': 1}\n",
            "\u001b[2m\u001b[36m(DefaultActor pid=2601356)\u001b[0m Epoch 1: train loss 0.013116925023496151, accuracy 0.8749221363479064\n",
            "\u001b[2m\u001b[36m(DefaultActor pid=2601356)\u001b[0m [Client 1] fit, config: {'server_round': 3, 'local_epochs': 30, 'proximal_mu': 1}\n"
          ]
        },
        {
          "name": "stderr",
          "output_type": "stream",
          "text": [
            "DEBUG flwr 2023-09-12 20:25:58,075 | server.py:236 | fit_round 3 received 4 results and 0 failures\n"
          ]
        },
        {
          "name": "stdout",
          "output_type": "stream",
          "text": [
            "\u001b[2m\u001b[36m(DefaultActor pid=2601356)\u001b[0m Epoch 1: train loss 0.0038015020545572042, accuracy 0.9632847876636886\n"
          ]
        },
        {
          "name": "stderr",
          "output_type": "stream",
          "text": [
            "INFO flwr 2023-09-12 20:26:18,162 | server.py:125 | fit progress: (3, 0.010784263554537855, {'generalization accuracy': 0.8963836600796689}, 285.4649404939264)\n",
            "DEBUG flwr 2023-09-12 20:26:18,164 | server.py:173 | evaluate_round 3: strategy sampled 4 clients (out of 4)\n"
          ]
        },
        {
          "name": "stdout",
          "output_type": "stream",
          "text": [
            "Server-side unseen generalization loss 0.010784263554537855 / generalization accuracy 0.8963836600796689\n",
            "\u001b[2m\u001b[36m(DefaultActor pid=2601356)\u001b[0m [Client 3] evaluate, config: {}\n",
            "\u001b[2m\u001b[36m(DefaultActor pid=2601356)\u001b[0m [Client 0] evaluate, config: {}\n",
            "\u001b[2m\u001b[36m(DefaultActor pid=2601356)\u001b[0m [Client 2] evaluate, config: {}\n",
            "\u001b[2m\u001b[36m(DefaultActor pid=2601356)\u001b[0m [Client 1] evaluate, config: {}\n"
          ]
        },
        {
          "name": "stderr",
          "output_type": "stream",
          "text": [
            "DEBUG flwr 2023-09-12 20:26:25,964 | server.py:187 | evaluate_round 3 received 4 results and 0 failures\n",
            "DEBUG flwr 2023-09-12 20:26:25,966 | server.py:222 | fit_round 4: strategy sampled 4 clients (out of 4)\n"
          ]
        },
        {
          "name": "stdout",
          "output_type": "stream",
          "text": [
            "\u001b[2m\u001b[36m(DefaultActor pid=2601356)\u001b[0m [Client 3] fit, config: {'server_round': 4, 'local_epochs': 30, 'proximal_mu': 1}\n",
            "\u001b[2m\u001b[36m(DefaultActor pid=2601356)\u001b[0m Epoch 1: train loss 0.010318643413484097, accuracy 0.8932898253896623\n",
            "\u001b[2m\u001b[36m(DefaultActor pid=2601356)\u001b[0m [Client 0] fit, config: {'server_round': 4, 'local_epochs': 30, 'proximal_mu': 1}\n",
            "\u001b[2m\u001b[36m(DefaultActor pid=2601356)\u001b[0m Epoch 1: train loss 0.007410625461488962, accuracy 0.9255912389142703\n",
            "\u001b[2m\u001b[36m(DefaultActor pid=2601356)\u001b[0m [Client 2] fit, config: {'server_round': 4, 'local_epochs': 30, 'proximal_mu': 1}\n",
            "\u001b[2m\u001b[36m(DefaultActor pid=2601356)\u001b[0m Epoch 1: train loss 0.01187007687985897, accuracy 0.8859960779790057\n",
            "\u001b[2m\u001b[36m(DefaultActor pid=2601356)\u001b[0m [Client 1] fit, config: {'server_round': 4, 'local_epochs': 30, 'proximal_mu': 1}\n"
          ]
        },
        {
          "name": "stderr",
          "output_type": "stream",
          "text": [
            "DEBUG flwr 2023-09-12 20:27:33,424 | server.py:236 | fit_round 4 received 4 results and 0 failures\n"
          ]
        },
        {
          "name": "stdout",
          "output_type": "stream",
          "text": [
            "\u001b[2m\u001b[36m(DefaultActor pid=2601356)\u001b[0m Epoch 1: train loss 0.0035067638382315636, accuracy 0.9653653163627463\n"
          ]
        },
        {
          "name": "stderr",
          "output_type": "stream",
          "text": [
            "INFO flwr 2023-09-12 20:27:53,297 | server.py:125 | fit progress: (4, 0.011188536295775335, {'generalization accuracy': 0.899914082636882}, 380.5993794440292)\n",
            "DEBUG flwr 2023-09-12 20:27:53,299 | server.py:173 | evaluate_round 4: strategy sampled 4 clients (out of 4)\n"
          ]
        },
        {
          "name": "stdout",
          "output_type": "stream",
          "text": [
            "Server-side unseen generalization loss 0.011188536295775335 / generalization accuracy 0.899914082636882\n",
            "\u001b[2m\u001b[36m(DefaultActor pid=2601356)\u001b[0m [Client 3] evaluate, config: {}\n",
            "\u001b[2m\u001b[36m(DefaultActor pid=2601356)\u001b[0m [Client 2] evaluate, config: {}\n",
            "\u001b[2m\u001b[36m(DefaultActor pid=2601356)\u001b[0m [Client 1] evaluate, config: {}\n",
            "\u001b[2m\u001b[36m(DefaultActor pid=2601356)\u001b[0m [Client 0] evaluate, config: {}\n"
          ]
        },
        {
          "name": "stderr",
          "output_type": "stream",
          "text": [
            "DEBUG flwr 2023-09-12 20:28:00,653 | server.py:187 | evaluate_round 4 received 4 results and 0 failures\n",
            "INFO flwr 2023-09-12 20:28:00,654 | server.py:153 | FL finished in 387.9569833329879\n",
            "INFO flwr 2023-09-12 20:28:00,655 | app.py:225 | app_fit: losses_distributed [(1, 0.04332482980836084), (2, 0.02200467162977423), (3, 0.0193803316517415), (4, 0.018186878687130696)]\n",
            "INFO flwr 2023-09-12 20:28:00,656 | app.py:226 | app_fit: metrics_distributed_fit {}\n",
            "INFO flwr 2023-09-12 20:28:00,657 | app.py:227 | app_fit: metrics_distributed {}\n",
            "INFO flwr 2023-09-12 20:28:00,658 | app.py:228 | app_fit: losses_centralized [(0, 0.07199699136974905), (1, 0.03223054020349229), (2, 0.01671819705398189), (3, 0.010784263554537855), (4, 0.011188536295775335)]\n",
            "INFO flwr 2023-09-12 20:28:00,659 | app.py:229 | app_fit: metrics_centralized {'generalization accuracy': [(0, 0.11969069749277512), (1, 0.6552839178317582), (2, 0.8486604702022963), (3, 0.8963836600796689), (4, 0.899914082636882)]}\n"
          ]
        },
        {
          "data": {
            "text/plain": [
              "History (loss, distributed):\n",
              "\tround 1: 0.04332482980836084\n",
              "\tround 2: 0.02200467162977423\n",
              "\tround 3: 0.0193803316517415\n",
              "\tround 4: 0.018186878687130696\n",
              "History (loss, centralized):\n",
              "\tround 0: 0.07199699136974905\n",
              "\tround 1: 0.03223054020349229\n",
              "\tround 2: 0.01671819705398189\n",
              "\tround 3: 0.010784263554537855\n",
              "\tround 4: 0.011188536295775335\n",
              "History (metrics, centralized):\n",
              "{'generalization accuracy': [(0, 0.11969069749277512), (1, 0.6552839178317582), (2, 0.8486604702022963), (3, 0.8963836600796689), (4, 0.899914082636882)]}"
            ]
          },
          "execution_count": 18,
          "metadata": {},
          "output_type": "execute_result"
        }
      ],
      "source": [
        "# Create an instance of the model and get the parameters\n",
        "params = get_parameters(Net())\n",
        "\n",
        "# ######Change Aggregation Strategy here<-------------Fed-Avg, xxq-FedAvg, Fed-Prox, Fed-Yogi....\n",
        "strategy = fl.server.strategy.FedProx(\n",
        "    proximal_mu =1,\n",
        "    fraction_fit=1.0,  # Sample 100% of available clients for training\n",
        "    fraction_evaluate=1,  # Sample 100% of available clients for evaluation\n",
        "    min_fit_clients=2,  # Never sample less than 4 clients for training\n",
        "    min_evaluate_clients=2,  # Never sample less than 4 clients for evaluation\n",
        "    min_available_clients=NUM_CLIENTS,  # Wait until all 4 clients are available\n",
        "    initial_parameters=fl.common.ndarrays_to_parameters(params),## initialize parameters\n",
        "    evaluate_fn=generalize,  # Pass the generalization function\n",
        "    on_fit_config_fn=fit_config,  # Pass the fit_config function\n",
        ")\n",
        "\n",
        "# Specify client resources if you need GPU (defaults to 1 CPU and 0 GPU)\n",
        "client_resources = None\n",
        "if DEVICE.type == \"cuda\":\n",
        "    client_resources = {\"num_gpus\": 1, \"num_cpus\": 1}\n",
        "\n",
        "# Start simulation\n",
        "fl.simulation.start_simulation(\n",
        "    client_fn=client_fn,\n",
        "    num_clients=NUM_CLIENTS,\n",
        "    config=fl.server.ServerConfig(num_rounds=4),  # Just three rounds\n",
        "    strategy=strategy,\n",
        "    client_resources=client_resources,\n",
        ")"
      ]
    },
    {
      "cell_type": "markdown",
      "metadata": {
        "id": "5UlIWTjKn5wa"
      },
      "source": [
        "### Behind the scenes\n",
        "\n",
        "So how does this work? How does Flower execute this simulation?\n",
        "\n",
        "When we call `start_simulation`, we tell Flower that there are 10 clients (`num_clients=10`). Flower then goes ahead an asks the `FedAvg` strategy to select clients. `FedAvg` knows that it should select 100% of the available clients (`fraction_fit=1.0`), so it goes ahead and selects 10 random clients (i.e., 100% of 10).\n",
        "\n",
        "Flower then asks the selected 10 clients to train the model. When the server receives the model parameter updates from the clients, it hands those updates over to the strategy (*FedAvg*) for aggregation. The strategy aggregates those updates and returns the new global model, which then gets used in the next round of federated learning."
      ]
    },
    {
      "cell_type": "markdown",
      "metadata": {
        "id": "tNCgfvlPn5wb"
      },
      "source": [
        "### Where's the accuracy?\n",
        "\n",
        "You may have noticed that all metrics except for `losses_distributed` are empty. Where did the `{\"accuracy\": float(accuracy)}` go?\n",
        "\n",
        "Flower can automatically aggregate losses returned by individual clients, but it cannot do the same for metrics in the generic metrics dictionary (the one with the `accuracy` key). Metrics dictionaries can contain very different kinds of metrics and even key/value pairs that are not metrics at all, so the framework does not (and can not) know how to handle these automatically.\n",
        "\n",
        "As users, we need to tell the framework how to handle/aggregate these custom metrics, and we do so by passing metric aggregation functions to the strategy. The strategy will then call these functions whenever it receives fit or evaluate metrics from clients. The two possible functions are `fit_metrics_aggregation_fn` and `evaluate_metrics_aggregation_fn`.\n",
        "\n",
        "Let's create a simple weighted averaging function to aggregate the `accuracy` metric we return from `evaluate`:"
      ]
    },
    {
      "cell_type": "code",
      "execution_count": null,
      "metadata": {
        "id": "N7Jiyrtun5wb"
      },
      "outputs": [],
      "source": [
        "def weighted_average(metrics: List[Tuple[int, Metrics]]) -> Metrics:\n",
        "    # Multiply accuracy of each client by number of examples used\n",
        "    accuracies = [num_examples * m[\"accuracy\"] for num_examples, m in metrics]\n",
        "    examples = [num_examples for num_examples, _ in metrics]\n",
        "\n",
        "    # Aggregate and return custom metric (weighted average)\n",
        "    return {\"accuracy\": sum(accuracies) / sum(examples)}"
      ]
    },
    {
      "cell_type": "markdown",
      "metadata": {
        "id": "DII66q0Kn5wb"
      },
      "source": [
        "The only thing left to do is to tell the strategy to call this function whenever it receives evaluation metric dictionaries from the clients:"
      ]
    },
    {
      "cell_type": "code",
      "execution_count": null,
      "metadata": {
        "colab": {
          "base_uri": "https://localhost:8080/"
        },
        "id": "I6_ZxFU7n5wb",
        "outputId": "57d134c5-46a0-49d8-b30f-80350830f76e"
      },
      "outputs": [
        {
          "name": "stderr",
          "output_type": "stream",
          "text": [
            "INFO flwr 2023-09-10 13:50:38,118 | app.py:175 | Starting Flower simulation, config: ServerConfig(num_rounds=5, round_timeout=None)\n",
            "INFO:flwr:Starting Flower simulation, config: ServerConfig(num_rounds=5, round_timeout=None)\n",
            "2023-09-10 13:50:43,439\tINFO worker.py:1621 -- Started a local Ray instance.\n",
            "INFO flwr 2023-09-10 13:50:45,114 | app.py:210 | Flower VCE: Ray initialized with resources: {'CPU': 2.0, 'memory': 7754735616.0, 'object_store_memory': 3877367808.0, 'node:__internal_head__': 1.0, 'node:172.28.0.12': 1.0}\n",
            "INFO:flwr:Flower VCE: Ray initialized with resources: {'CPU': 2.0, 'memory': 7754735616.0, 'object_store_memory': 3877367808.0, 'node:__internal_head__': 1.0, 'node:172.28.0.12': 1.0}\n",
            "INFO flwr 2023-09-10 13:50:45,125 | app.py:218 | No `client_resources` specified. Using minimal resources for clients.\n",
            "INFO:flwr:No `client_resources` specified. Using minimal resources for clients.\n",
            "INFO flwr 2023-09-10 13:50:45,132 | app.py:224 | Flower VCE: Resources for each Virtual Client: {'num_cpus': 1, 'num_gpus': 0.0}\n",
            "INFO:flwr:Flower VCE: Resources for each Virtual Client: {'num_cpus': 1, 'num_gpus': 0.0}\n",
            "INFO flwr 2023-09-10 13:50:45,183 | app.py:270 | Flower VCE: Creating VirtualClientEngineActorPool with 2 actors\n",
            "INFO:flwr:Flower VCE: Creating VirtualClientEngineActorPool with 2 actors\n",
            "INFO flwr 2023-09-10 13:50:45,190 | server.py:89 | Initializing global parameters\n",
            "INFO:flwr:Initializing global parameters\n",
            "INFO flwr 2023-09-10 13:50:45,199 | server.py:276 | Requesting initial parameters from one random client\n",
            "INFO:flwr:Requesting initial parameters from one random client\n",
            "\u001b[2m\u001b[36m(pid=46161)\u001b[0m 2023-09-10 13:50:49.367783: W tensorflow/compiler/tf2tensorrt/utils/py_utils.cc:38] TF-TRT Warning: Could not find TensorRT\n",
            "INFO flwr 2023-09-10 13:50:56,993 | server.py:280 | Received initial parameters from one random client\n",
            "INFO:flwr:Received initial parameters from one random client\n",
            "INFO flwr 2023-09-10 13:50:57,003 | server.py:91 | Evaluating initial parameters\n",
            "INFO:flwr:Evaluating initial parameters\n",
            "INFO flwr 2023-09-10 13:50:57,004 | server.py:104 | FL starting\n",
            "INFO:flwr:FL starting\n",
            "DEBUG flwr 2023-09-10 13:50:57,006 | server.py:222 | fit_round 1: strategy sampled 4 clients (out of 4)\n",
            "DEBUG:flwr:fit_round 1: strategy sampled 4 clients (out of 4)\n",
            "DEBUG flwr 2023-09-10 13:53:04,029 | server.py:236 | fit_round 1 received 4 results and 0 failures\n",
            "DEBUG:flwr:fit_round 1 received 4 results and 0 failures\n",
            "WARNING flwr 2023-09-10 13:53:04,043 | fedavg.py:242 | No fit_metrics_aggregation_fn provided\n",
            "WARNING:flwr:No fit_metrics_aggregation_fn provided\n",
            "DEBUG flwr 2023-09-10 13:53:04,046 | server.py:173 | evaluate_round 1: strategy sampled 4 clients (out of 4)\n",
            "DEBUG:flwr:evaluate_round 1: strategy sampled 4 clients (out of 4)\n",
            "DEBUG flwr 2023-09-10 13:53:15,606 | server.py:187 | evaluate_round 1 received 4 results and 0 failures\n",
            "DEBUG:flwr:evaluate_round 1 received 4 results and 0 failures\n",
            "DEBUG flwr 2023-09-10 13:53:15,609 | server.py:222 | fit_round 2: strategy sampled 4 clients (out of 4)\n",
            "DEBUG:flwr:fit_round 2: strategy sampled 4 clients (out of 4)\n",
            "DEBUG flwr 2023-09-10 13:55:10,496 | server.py:236 | fit_round 2 received 4 results and 0 failures\n",
            "DEBUG:flwr:fit_round 2 received 4 results and 0 failures\n",
            "DEBUG flwr 2023-09-10 13:55:10,510 | server.py:173 | evaluate_round 2: strategy sampled 4 clients (out of 4)\n",
            "DEBUG:flwr:evaluate_round 2: strategy sampled 4 clients (out of 4)\n",
            "DEBUG flwr 2023-09-10 13:55:21,695 | server.py:187 | evaluate_round 2 received 4 results and 0 failures\n",
            "DEBUG:flwr:evaluate_round 2 received 4 results and 0 failures\n",
            "DEBUG flwr 2023-09-10 13:55:21,699 | server.py:222 | fit_round 3: strategy sampled 4 clients (out of 4)\n",
            "DEBUG:flwr:fit_round 3: strategy sampled 4 clients (out of 4)\n",
            "DEBUG flwr 2023-09-10 13:57:12,673 | server.py:236 | fit_round 3 received 4 results and 0 failures\n",
            "DEBUG:flwr:fit_round 3 received 4 results and 0 failures\n",
            "DEBUG flwr 2023-09-10 13:57:12,690 | server.py:173 | evaluate_round 3: strategy sampled 4 clients (out of 4)\n",
            "DEBUG:flwr:evaluate_round 3: strategy sampled 4 clients (out of 4)\n",
            "DEBUG flwr 2023-09-10 13:57:27,593 | server.py:187 | evaluate_round 3 received 4 results and 0 failures\n",
            "DEBUG:flwr:evaluate_round 3 received 4 results and 0 failures\n",
            "DEBUG flwr 2023-09-10 13:57:27,597 | server.py:222 | fit_round 4: strategy sampled 4 clients (out of 4)\n",
            "DEBUG:flwr:fit_round 4: strategy sampled 4 clients (out of 4)\n",
            "DEBUG flwr 2023-09-10 13:59:20,167 | server.py:236 | fit_round 4 received 4 results and 0 failures\n",
            "DEBUG:flwr:fit_round 4 received 4 results and 0 failures\n",
            "DEBUG flwr 2023-09-10 13:59:20,193 | server.py:173 | evaluate_round 4: strategy sampled 4 clients (out of 4)\n",
            "DEBUG:flwr:evaluate_round 4: strategy sampled 4 clients (out of 4)\n",
            "DEBUG flwr 2023-09-10 13:59:31,017 | server.py:187 | evaluate_round 4 received 4 results and 0 failures\n",
            "DEBUG:flwr:evaluate_round 4 received 4 results and 0 failures\n",
            "DEBUG flwr 2023-09-10 13:59:31,021 | server.py:222 | fit_round 5: strategy sampled 4 clients (out of 4)\n",
            "DEBUG:flwr:fit_round 5: strategy sampled 4 clients (out of 4)\n",
            "DEBUG flwr 2023-09-10 14:01:31,394 | server.py:236 | fit_round 5 received 4 results and 0 failures\n",
            "DEBUG:flwr:fit_round 5 received 4 results and 0 failures\n",
            "DEBUG flwr 2023-09-10 14:01:31,409 | server.py:173 | evaluate_round 5: strategy sampled 4 clients (out of 4)\n",
            "DEBUG:flwr:evaluate_round 5: strategy sampled 4 clients (out of 4)\n",
            "DEBUG flwr 2023-09-10 14:01:46,510 | server.py:187 | evaluate_round 5 received 4 results and 0 failures\n",
            "DEBUG:flwr:evaluate_round 5 received 4 results and 0 failures\n",
            "INFO flwr 2023-09-10 14:01:46,513 | server.py:153 | FL finished in 649.5071036939989\n",
            "INFO:flwr:FL finished in 649.5071036939989\n",
            "INFO flwr 2023-09-10 14:01:46,515 | app.py:225 | app_fit: losses_distributed [(1, 0.0469954641252222), (2, 0.02206205269422551), (3, 0.019785900933225884), (4, 0.018084243839055655), (5, 0.016252841751602944)]\n",
            "INFO:flwr:app_fit: losses_distributed [(1, 0.0469954641252222), (2, 0.02206205269422551), (3, 0.019785900933225884), (4, 0.018084243839055655), (5, 0.016252841751602944)]\n",
            "INFO flwr 2023-09-10 14:01:46,516 | app.py:226 | app_fit: metrics_distributed_fit {}\n",
            "INFO:flwr:app_fit: metrics_distributed_fit {}\n",
            "INFO flwr 2023-09-10 14:01:46,518 | app.py:227 | app_fit: metrics_distributed {'accuracy': [(1, 0.5494234743747302), (2, 0.7841117646651958), (3, 0.8020638801943873), (4, 0.8177082989301987), (5, 0.8371828244502929)]}\n",
            "INFO:flwr:app_fit: metrics_distributed {'accuracy': [(1, 0.5494234743747302), (2, 0.7841117646651958), (3, 0.8020638801943873), (4, 0.8177082989301987), (5, 0.8371828244502929)]}\n",
            "INFO flwr 2023-09-10 14:01:46,520 | app.py:228 | app_fit: losses_centralized []\n",
            "INFO:flwr:app_fit: losses_centralized []\n",
            "INFO flwr 2023-09-10 14:01:46,522 | app.py:229 | app_fit: metrics_centralized {}\n",
            "INFO:flwr:app_fit: metrics_centralized {}\n"
          ]
        },
        {
          "data": {
            "text/plain": [
              "History (loss, distributed):\n",
              "\tround 1: 0.0469954641252222\n",
              "\tround 2: 0.02206205269422551\n",
              "\tround 3: 0.019785900933225884\n",
              "\tround 4: 0.018084243839055655\n",
              "\tround 5: 0.016252841751602944\n",
              "History (metrics, distributed, evaluate):\n",
              "{'accuracy': [(1, 0.5494234743747302), (2, 0.7841117646651958), (3, 0.8020638801943873), (4, 0.8177082989301987), (5, 0.8371828244502929)]}"
            ]
          },
          "execution_count": 33,
          "metadata": {},
          "output_type": "execute_result"
        }
      ],
      "source": [
        "# Create FedAvg strategy\n",
        "strategy = fl.server.strategy.FedAvg(\n",
        "    fraction_fit=1.0,\n",
        "    fraction_evaluate=1,\n",
        "    min_fit_clients=4,\n",
        "    min_evaluate_clients=4,\n",
        "    min_available_clients=4,\n",
        "    evaluate_metrics_aggregation_fn=weighted_average,  # <-- pass the metric aggregation function\n",
        ")\n",
        "\n",
        "# Start simulation\n",
        "fl.simulation.start_simulation(\n",
        "    client_fn=client_fn,\n",
        "    num_clients=NUM_CLIENTS,\n",
        "    config=fl.server.ServerConfig(num_rounds=5),\n",
        "    strategy=strategy,\n",
        "    client_resources=client_resources,\n",
        ")"
      ]
    },
    {
      "cell_type": "markdown",
      "metadata": {
        "id": "f9L_WAg_n5wf"
      },
      "source": [
        "We now have a full system that performs federated training and federated evaluation. It uses the `weighted_average` function to aggregate custom evaluation metrics and calculates a single `accuracy` metric across all clients on the server side.\n",
        "\n",
        "The other two categories of metrics (`losses_centralized` and `metrics_centralized`) are still empty because they only apply when centralized evaluation is being used. Part two of the Flower tutorial will cover centralized evaluation."
      ]
    },
    {
      "cell_type": "markdown",
      "metadata": {
        "id": "mXz0iySDn5wf"
      },
      "source": [
        "## Final remarks\n",
        "\n",
        "Congratulations, you just trained a convolutional neural network, federated over 10 clients! With that, you understand the basics of federated learning with Flower. The same approach you've seen can be used with other machine learning frameworks (not just PyTorch) and tasks (not just CIFAR-10 images classification), for example NLP with Hugging Face Transformers or speech with SpeechBrain.\n",
        "\n",
        "In the next notebook, we're going to cover some more advanced concepts. Want to customize your strategy? Initialize parameters on the server side? Or evaluate the aggregated model on the server side? We'll cover all this and more in the next tutorial."
      ]
    },
    {
      "cell_type": "markdown",
      "metadata": {
        "id": "QOBUJchGn5wf"
      },
      "source": [
        "## Next steps\n",
        "\n",
        "Before you continue, make sure to join the Flower community on Slack: [Join Slack](https://flower.dev/join-slack/)\n",
        "\n",
        "There's a dedicated `#questions` channel if you need help, but we'd also love to hear who you are in `#introductions`!\n",
        "\n",
        "The [Flower Federated Learning Tutorial - Part 2](https://flower.dev/docs/framework/tutorial-use-a-federated-learning-strategy-pytorch.html) goes into more depth about strategies and all the advanced things you can build with them."
      ]
    }
  ],
  "metadata": {
    "colab": {
      "provenance": [],
      "include_colab_link": true
    },
    "kernelspec": {
      "display_name": "Python 3",
      "name": "python3"
    },
    "language_info": {
      "codemirror_mode": {
        "name": "ipython",
        "version": 3
      },
      "file_extension": ".py",
      "mimetype": "text/x-python",
      "name": "python",
      "nbconvert_exporter": "python",
      "pygments_lexer": "ipython3",
      "version": "3.10.12"
    }
  },
  "nbformat": 4,
  "nbformat_minor": 0
}